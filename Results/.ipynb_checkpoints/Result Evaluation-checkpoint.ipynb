{
 "cells": [
  {
   "cell_type": "markdown",
   "id": "effbe8fe",
   "metadata": {},
   "source": [
    "# Evaluation Of Duet Benchmarking Results from Distributed Database \"Cassandra\""
   ]
  },
  {
   "cell_type": "markdown",
   "id": "e0294f93",
   "metadata": {},
   "source": [
    "### Imports"
   ]
  },
  {
   "cell_type": "code",
   "execution_count": null,
   "id": "e4a313ec",
   "metadata": {},
   "outputs": [],
   "source": [
    "import matplotlib.pyplot as plt\n",
    "import numpy as np\n",
    "import seaborn as sns\n",
    "import pandas as pd\n",
    "import os\n",
    "from pathlib import Path"
   ]
  },
  {
   "cell_type": "code",
   "execution_count": null,
   "id": "c971a7d9",
   "metadata": {},
   "outputs": [],
   "source": [
    "cwd = Path.cwd()\n",
    "filepath = os.path.join(cwd, \"Results\", \"1.25mCops_4t\", \"AA\", \"run_measurements3.csv\")\n",
    "print(filepath)\n",
    "df3 = pd.read_csv(filepath)"
   ]
  },
  {
   "cell_type": "code",
   "execution_count": 129,
   "id": "a1039b8a",
   "metadata": {},
   "outputs": [
    {
     "name": "stdout",
     "output_type": "stream",
     "text": [
      "C:\\Users\\Felix Medicus\\Desktop\\Thesis_MCC\\DuetBenchmarking\\Results\\Results\\1.25mCops_4t\\AA\\run_measurements2.csv\n"
     ]
    }
   ],
   "source": [
    "cwd = Path.cwd()\n",
    "filepath = os.path.join(cwd, \"Results\", \"1.25mCops_4t\", \"AA\", \"run_measurements2.csv\")\n",
    "print(filepath)\n",
    "df2 = pd.read_csv(filepath)"
   ]
  },
  {
   "cell_type": "markdown",
   "id": "eb039afe",
   "metadata": {},
   "source": [
    "### Import Benchmarking Measurements as csv file and create Pandas Dataframe for further Analysis"
   ]
  },
  {
   "cell_type": "code",
   "execution_count": 130,
   "id": "2bae1a82",
   "metadata": {},
   "outputs": [
    {
     "name": "stdout",
     "output_type": "stream",
     "text": [
      "C:\\Users\\Felix Medicus\\Desktop\\Thesis_MCC\\DuetBenchmarking\\Results\\Results\\1.25mCops_4t\\AA\\load_measurements1.csv\n"
     ]
    }
   ],
   "source": [
    "cwd = Path.cwd()\n",
    "filepath = os.path.join(cwd, \"Results\", \"1.25mCops_4t\", \"AA\", \"load_measurements1.csv\")\n",
    "print(filepath)\n",
    "df1 = pd.read_csv(filepath)"
   ]
  },
  {
   "cell_type": "code",
   "execution_count": 131,
   "id": "776e1055",
   "metadata": {},
   "outputs": [],
   "source": [
    "df = pd.concat([df1, df2, df3])\n",
    "df = df1"
   ]
  },
  {
   "cell_type": "markdown",
   "id": "83d67033",
   "metadata": {},
   "source": [
    "### Set Versions as Variables"
   ]
  },
  {
   "cell_type": "code",
   "execution_count": 132,
   "id": "068dc046",
   "metadata": {},
   "outputs": [],
   "source": [
    "phase = \"Run\"\n",
    "versionA = \"Version A: Cassandra 4.0.4\"\n",
    "versionB = \"Version B: Cassandra 4.0.4\""
   ]
  },
  {
   "cell_type": "markdown",
   "id": "337c61b0",
   "metadata": {},
   "source": [
    "### Insert latencies in ms into the measurement table"
   ]
  },
  {
   "cell_type": "code",
   "execution_count": 133,
   "id": "15d7d02f",
   "metadata": {},
   "outputs": [],
   "source": [
    "df[\"latency_ms\"] = (df[\"received\"]- df[\"sent\"])/1000000"
   ]
  },
  {
   "cell_type": "code",
   "execution_count": 134,
   "id": "5ddf3971",
   "metadata": {},
   "outputs": [],
   "source": [
    "df[\"sent_ms\"] = df[\"sent\"].div(1000000)\n",
    "df[\"received_ms\"] = df[\"received\"].div(1000000)"
   ]
  },
  {
   "cell_type": "code",
   "execution_count": 135,
   "id": "baca2f0f",
   "metadata": {},
   "outputs": [
    {
     "data": {
      "text/html": [
       "<div>\n",
       "<style scoped>\n",
       "    .dataframe tbody tr th:only-of-type {\n",
       "        vertical-align: middle;\n",
       "    }\n",
       "\n",
       "    .dataframe tbody tr th {\n",
       "        vertical-align: top;\n",
       "    }\n",
       "\n",
       "    .dataframe thead th {\n",
       "        text-align: right;\n",
       "    }\n",
       "</style>\n",
       "<table border=\"1\" class=\"dataframe\">\n",
       "  <thead>\n",
       "    <tr style=\"text-align: right;\">\n",
       "      <th></th>\n",
       "      <th>queryId</th>\n",
       "      <th>sent</th>\n",
       "      <th>received</th>\n",
       "      <th>latency_ms</th>\n",
       "      <th>sent_ms</th>\n",
       "      <th>received_ms</th>\n",
       "    </tr>\n",
       "  </thead>\n",
       "  <tbody>\n",
       "    <tr>\n",
       "      <th>count</th>\n",
       "      <td>2.500000e+06</td>\n",
       "      <td>2.500000e+06</td>\n",
       "      <td>2.500000e+06</td>\n",
       "      <td>2.500000e+06</td>\n",
       "      <td>2.500000e+06</td>\n",
       "      <td>2.500000e+06</td>\n",
       "    </tr>\n",
       "    <tr>\n",
       "      <th>mean</th>\n",
       "      <td>6.249995e+05</td>\n",
       "      <td>1.670913e+12</td>\n",
       "      <td>1.670923e+12</td>\n",
       "      <td>9.640993e+00</td>\n",
       "      <td>1.670913e+06</td>\n",
       "      <td>1.670923e+06</td>\n",
       "    </tr>\n",
       "    <tr>\n",
       "      <th>std</th>\n",
       "      <td>3.608440e+05</td>\n",
       "      <td>2.900276e+11</td>\n",
       "      <td>2.900275e+11</td>\n",
       "      <td>3.354752e+01</td>\n",
       "      <td>2.900276e+05</td>\n",
       "      <td>2.900275e+05</td>\n",
       "    </tr>\n",
       "    <tr>\n",
       "      <th>min</th>\n",
       "      <td>0.000000e+00</td>\n",
       "      <td>1.159941e+12</td>\n",
       "      <td>1.160008e+12</td>\n",
       "      <td>5.717270e-01</td>\n",
       "      <td>1.159941e+06</td>\n",
       "      <td>1.160008e+06</td>\n",
       "    </tr>\n",
       "    <tr>\n",
       "      <th>25%</th>\n",
       "      <td>3.124998e+05</td>\n",
       "      <td>1.438786e+12</td>\n",
       "      <td>1.438800e+12</td>\n",
       "      <td>1.396807e+00</td>\n",
       "      <td>1.438786e+06</td>\n",
       "      <td>1.438800e+06</td>\n",
       "    </tr>\n",
       "    <tr>\n",
       "      <th>50%</th>\n",
       "      <td>6.249995e+05</td>\n",
       "      <td>1.680659e+12</td>\n",
       "      <td>1.680675e+12</td>\n",
       "      <td>2.559848e+00</td>\n",
       "      <td>1.680659e+06</td>\n",
       "      <td>1.680675e+06</td>\n",
       "    </tr>\n",
       "    <tr>\n",
       "      <th>75%</th>\n",
       "      <td>9.374992e+05</td>\n",
       "      <td>1.915558e+12</td>\n",
       "      <td>1.915562e+12</td>\n",
       "      <td>5.217218e+00</td>\n",
       "      <td>1.915558e+06</td>\n",
       "      <td>1.915562e+06</td>\n",
       "    </tr>\n",
       "    <tr>\n",
       "      <th>max</th>\n",
       "      <td>1.249999e+06</td>\n",
       "      <td>2.187319e+12</td>\n",
       "      <td>2.187320e+12</td>\n",
       "      <td>2.041061e+03</td>\n",
       "      <td>2.187319e+06</td>\n",
       "      <td>2.187320e+06</td>\n",
       "    </tr>\n",
       "  </tbody>\n",
       "</table>\n",
       "</div>"
      ],
      "text/plain": [
       "            queryId          sent      received    latency_ms       sent_ms  \\\n",
       "count  2.500000e+06  2.500000e+06  2.500000e+06  2.500000e+06  2.500000e+06   \n",
       "mean   6.249995e+05  1.670913e+12  1.670923e+12  9.640993e+00  1.670913e+06   \n",
       "std    3.608440e+05  2.900276e+11  2.900275e+11  3.354752e+01  2.900276e+05   \n",
       "min    0.000000e+00  1.159941e+12  1.160008e+12  5.717270e-01  1.159941e+06   \n",
       "25%    3.124998e+05  1.438786e+12  1.438800e+12  1.396807e+00  1.438786e+06   \n",
       "50%    6.249995e+05  1.680659e+12  1.680675e+12  2.559848e+00  1.680659e+06   \n",
       "75%    9.374992e+05  1.915558e+12  1.915562e+12  5.217218e+00  1.915558e+06   \n",
       "max    1.249999e+06  2.187319e+12  2.187320e+12  2.041061e+03  2.187319e+06   \n",
       "\n",
       "        received_ms  \n",
       "count  2.500000e+06  \n",
       "mean   1.670923e+06  \n",
       "std    2.900275e+05  \n",
       "min    1.160008e+06  \n",
       "25%    1.438800e+06  \n",
       "50%    1.680675e+06  \n",
       "75%    1.915562e+06  \n",
       "max    2.187320e+06  "
      ]
     },
     "execution_count": 135,
     "metadata": {},
     "output_type": "execute_result"
    }
   ],
   "source": [
    "df.describe()"
   ]
  },
  {
   "cell_type": "code",
   "execution_count": 136,
   "id": "1fa30957",
   "metadata": {},
   "outputs": [
    {
     "data": {
      "text/html": [
       "<div>\n",
       "<style scoped>\n",
       "    .dataframe tbody tr th:only-of-type {\n",
       "        vertical-align: middle;\n",
       "    }\n",
       "\n",
       "    .dataframe tbody tr th {\n",
       "        vertical-align: top;\n",
       "    }\n",
       "\n",
       "    .dataframe thead th {\n",
       "        text-align: right;\n",
       "    }\n",
       "</style>\n",
       "<table border=\"1\" class=\"dataframe\">\n",
       "  <thead>\n",
       "    <tr style=\"text-align: right;\">\n",
       "      <th></th>\n",
       "      <th>workerId</th>\n",
       "      <th>queryType</th>\n",
       "      <th>queryId</th>\n",
       "      <th>sent</th>\n",
       "      <th>received</th>\n",
       "      <th>target-region</th>\n",
       "      <th>latency_ms</th>\n",
       "      <th>sent_ms</th>\n",
       "      <th>received_ms</th>\n",
       "    </tr>\n",
       "  </thead>\n",
       "  <tbody>\n",
       "    <tr>\n",
       "      <th>0</th>\n",
       "      <td>w1-vA</td>\n",
       "      <td>INSERT</td>\n",
       "      <td>0</td>\n",
       "      <td>1159941241069</td>\n",
       "      <td>1160008991157</td>\n",
       "      <td>unknown</td>\n",
       "      <td>67.750088</td>\n",
       "      <td>1.159941e+06</td>\n",
       "      <td>1.160009e+06</td>\n",
       "    </tr>\n",
       "    <tr>\n",
       "      <th>1</th>\n",
       "      <td>w1-vA</td>\n",
       "      <td>INSERT</td>\n",
       "      <td>625002</td>\n",
       "      <td>1159941783359</td>\n",
       "      <td>1160008219008</td>\n",
       "      <td>unknown</td>\n",
       "      <td>66.435649</td>\n",
       "      <td>1.159942e+06</td>\n",
       "      <td>1.160008e+06</td>\n",
       "    </tr>\n",
       "    <tr>\n",
       "      <th>2</th>\n",
       "      <td>w1-vA</td>\n",
       "      <td>INSERT</td>\n",
       "      <td>312501</td>\n",
       "      <td>1159941937850</td>\n",
       "      <td>1160012351066</td>\n",
       "      <td>unknown</td>\n",
       "      <td>70.413216</td>\n",
       "      <td>1.159942e+06</td>\n",
       "      <td>1.160012e+06</td>\n",
       "    </tr>\n",
       "    <tr>\n",
       "      <th>5</th>\n",
       "      <td>w1-vB</td>\n",
       "      <td>INSERT</td>\n",
       "      <td>0</td>\n",
       "      <td>1159942063523</td>\n",
       "      <td>1160053103281</td>\n",
       "      <td>unknown</td>\n",
       "      <td>111.039758</td>\n",
       "      <td>1.159942e+06</td>\n",
       "      <td>1.160053e+06</td>\n",
       "    </tr>\n",
       "    <tr>\n",
       "      <th>6</th>\n",
       "      <td>w1-vB</td>\n",
       "      <td>INSERT</td>\n",
       "      <td>937503</td>\n",
       "      <td>1159942135459</td>\n",
       "      <td>1160053886841</td>\n",
       "      <td>unknown</td>\n",
       "      <td>111.751382</td>\n",
       "      <td>1.159942e+06</td>\n",
       "      <td>1.160054e+06</td>\n",
       "    </tr>\n",
       "  </tbody>\n",
       "</table>\n",
       "</div>"
      ],
      "text/plain": [
       "  workerId queryType  queryId           sent       received target-region  \\\n",
       "0    w1-vA    INSERT        0  1159941241069  1160008991157       unknown   \n",
       "1    w1-vA    INSERT   625002  1159941783359  1160008219008       unknown   \n",
       "2    w1-vA    INSERT   312501  1159941937850  1160012351066       unknown   \n",
       "5    w1-vB    INSERT        0  1159942063523  1160053103281       unknown   \n",
       "6    w1-vB    INSERT   937503  1159942135459  1160053886841       unknown   \n",
       "\n",
       "   latency_ms       sent_ms   received_ms  \n",
       "0   67.750088  1.159941e+06  1.160009e+06  \n",
       "1   66.435649  1.159942e+06  1.160008e+06  \n",
       "2   70.413216  1.159942e+06  1.160012e+06  \n",
       "5  111.039758  1.159942e+06  1.160053e+06  \n",
       "6  111.751382  1.159942e+06  1.160054e+06  "
      ]
     },
     "execution_count": 136,
     "metadata": {},
     "output_type": "execute_result"
    }
   ],
   "source": [
    "df = df.sort_values(by=\"sent\", ascending=True)\n",
    "df.head()"
   ]
  },
  {
   "cell_type": "markdown",
   "id": "c9c40381",
   "metadata": {},
   "source": [
    "### Restructure Timeline"
   ]
  },
  {
   "cell_type": "code",
   "execution_count": 137,
   "id": "ca0d2243",
   "metadata": {},
   "outputs": [],
   "source": [
    "firstSent = df[\"sent\"].min()\n",
    "df[\"sent_sec\"] = (df[\"sent\"] - firstSent)/1000000/1000"
   ]
  },
  {
   "cell_type": "markdown",
   "id": "8285fdc6",
   "metadata": {},
   "source": [
    "### Return benchmark run time (First request send to last response received)"
   ]
  },
  {
   "cell_type": "code",
   "execution_count": 138,
   "id": "637c658e",
   "metadata": {},
   "outputs": [
    {
     "name": "stdout",
     "output_type": "stream",
     "text": [
      "1027.379024097 seconds or 17.12298373495 m\n"
     ]
    }
   ],
   "source": [
    "totalTime = df[\"received\"].max() - df[\"sent\"].min()\n",
    "print(totalTime/1000000/1000, \"seconds\", \"or\", totalTime/1000000/1000/60, \"m\") "
   ]
  },
  {
   "cell_type": "markdown",
   "id": "30e8f7c7",
   "metadata": {},
   "source": [
    "### Prune Measurements and print new run time for pruned benchmark (Remove first and last 100 seconds)"
   ]
  },
  {
   "cell_type": "code",
   "execution_count": 139,
   "id": "f63dee0c",
   "metadata": {},
   "outputs": [],
   "source": [
    "dfPruned = df.loc[(df[\"sent_sec\"] > 100) & (df[\"sent_sec\"] < (totalTime/1000000/1000) - 100)]"
   ]
  },
  {
   "cell_type": "code",
   "execution_count": 140,
   "id": "0637b206",
   "metadata": {},
   "outputs": [
    {
     "name": "stdout",
     "output_type": "stream",
     "text": [
      "Pruned time:\n",
      " 828.003968485 seconds or 13.800066141416666 minutes\n"
     ]
    }
   ],
   "source": [
    "totalTime = dfPruned[\"received\"].max() - dfPruned[\"sent\"].min()\n",
    "print(\"Pruned time:\\n\",totalTime/1000000/1000, \"seconds\", \"or\", totalTime/1000000/1000/60, \"minutes\") "
   ]
  },
  {
   "cell_type": "markdown",
   "id": "a6a75b54",
   "metadata": {},
   "source": [
    "### Create subsets of dataframe (for Version A and B, and for each worker for Version A and B) "
   ]
  },
  {
   "cell_type": "code",
   "execution_count": 141,
   "id": "50754c1e",
   "metadata": {},
   "outputs": [],
   "source": [
    "dfA1 = dfPruned.loc[(dfPruned[\"workerId\"] == \"w1-vA\")]\n",
    "dfA2 = dfPruned.loc[(dfPruned[\"workerId\"] == \"w2-vA\")]\n",
    "dfA3 = dfPruned.loc[(dfPruned[\"workerId\"] == \"w3-vA\")]\n",
    "dfB1 = dfPruned.loc[(dfPruned[\"workerId\"] == \"w1-vB\")]\n",
    "dfB2 = dfPruned.loc[(dfPruned[\"workerId\"] == \"w2-vB\")]\n",
    "dfB3 = dfPruned.loc[(dfPruned[\"workerId\"] == \"w3-vB\")]\n",
    "dfA = dfPruned.loc[(dfPruned[\"workerId\"] == \"w1-vA\") | (dfPruned[\"workerId\"] == \"w2-vA\") | (dfPruned[\"workerId\"] == \"w3-vA\")]\n",
    "dfB = dfPruned.loc[(dfPruned[\"workerId\"] == \"w1-vB\") | (dfPruned[\"workerId\"] == \"w2-vB\") | (dfPruned[\"workerId\"] == \"w3-vB\")]\n",
    "dfARaw = df.loc[(df[\"workerId\"] == \"w1-vA\") | (df[\"workerId\"] == \"w2-vA\") | (df[\"workerId\"] == \"w3-vA\")]\n",
    "dfBRaw = df.loc[(df[\"workerId\"] == \"w1-vB\") | (df[\"workerId\"] == \"w2-vB\") | (df[\"workerId\"] == \"w3-vB\")]"
   ]
  },
  {
   "cell_type": "code",
   "execution_count": 142,
   "id": "30e4ad97",
   "metadata": {},
   "outputs": [
    {
     "data": {
      "text/html": [
       "<div>\n",
       "<style scoped>\n",
       "    .dataframe tbody tr th:only-of-type {\n",
       "        vertical-align: middle;\n",
       "    }\n",
       "\n",
       "    .dataframe tbody tr th {\n",
       "        vertical-align: top;\n",
       "    }\n",
       "\n",
       "    .dataframe thead th {\n",
       "        text-align: right;\n",
       "    }\n",
       "</style>\n",
       "<table border=\"1\" class=\"dataframe\">\n",
       "  <thead>\n",
       "    <tr style=\"text-align: right;\">\n",
       "      <th></th>\n",
       "      <th>queryId</th>\n",
       "      <th>sent</th>\n",
       "      <th>received</th>\n",
       "      <th>latency_ms</th>\n",
       "      <th>sent_ms</th>\n",
       "      <th>received_ms</th>\n",
       "      <th>sent_sec</th>\n",
       "    </tr>\n",
       "  </thead>\n",
       "  <tbody>\n",
       "    <tr>\n",
       "      <th>count</th>\n",
       "      <td>1.250000e+06</td>\n",
       "      <td>1.250000e+06</td>\n",
       "      <td>1.250000e+06</td>\n",
       "      <td>1.250000e+06</td>\n",
       "      <td>1.250000e+06</td>\n",
       "      <td>1.250000e+06</td>\n",
       "      <td>1.250000e+06</td>\n",
       "    </tr>\n",
       "    <tr>\n",
       "      <th>mean</th>\n",
       "      <td>6.249995e+05</td>\n",
       "      <td>1.673596e+12</td>\n",
       "      <td>1.673605e+12</td>\n",
       "      <td>9.671935e+00</td>\n",
       "      <td>1.673596e+06</td>\n",
       "      <td>1.673605e+06</td>\n",
       "      <td>5.136543e+02</td>\n",
       "    </tr>\n",
       "    <tr>\n",
       "      <th>std</th>\n",
       "      <td>3.608441e+05</td>\n",
       "      <td>2.901792e+11</td>\n",
       "      <td>2.901791e+11</td>\n",
       "      <td>3.360772e+01</td>\n",
       "      <td>2.901792e+05</td>\n",
       "      <td>2.901791e+05</td>\n",
       "      <td>2.901792e+02</td>\n",
       "    </tr>\n",
       "    <tr>\n",
       "      <th>min</th>\n",
       "      <td>0.000000e+00</td>\n",
       "      <td>1.159941e+12</td>\n",
       "      <td>1.160008e+12</td>\n",
       "      <td>5.717270e-01</td>\n",
       "      <td>1.159941e+06</td>\n",
       "      <td>1.160008e+06</td>\n",
       "      <td>0.000000e+00</td>\n",
       "    </tr>\n",
       "    <tr>\n",
       "      <th>25%</th>\n",
       "      <td>3.124998e+05</td>\n",
       "      <td>1.442840e+12</td>\n",
       "      <td>1.442845e+12</td>\n",
       "      <td>1.389221e+00</td>\n",
       "      <td>1.442840e+06</td>\n",
       "      <td>1.442845e+06</td>\n",
       "      <td>2.828987e+02</td>\n",
       "    </tr>\n",
       "    <tr>\n",
       "      <th>50%</th>\n",
       "      <td>6.249995e+05</td>\n",
       "      <td>1.679615e+12</td>\n",
       "      <td>1.679620e+12</td>\n",
       "      <td>2.536216e+00</td>\n",
       "      <td>1.679615e+06</td>\n",
       "      <td>1.679620e+06</td>\n",
       "      <td>5.196733e+02</td>\n",
       "    </tr>\n",
       "    <tr>\n",
       "      <th>75%</th>\n",
       "      <td>9.374992e+05</td>\n",
       "      <td>1.918255e+12</td>\n",
       "      <td>1.918331e+12</td>\n",
       "      <td>5.220429e+00</td>\n",
       "      <td>1.918255e+06</td>\n",
       "      <td>1.918331e+06</td>\n",
       "      <td>7.583142e+02</td>\n",
       "    </tr>\n",
       "    <tr>\n",
       "      <th>max</th>\n",
       "      <td>1.249999e+06</td>\n",
       "      <td>2.187319e+12</td>\n",
       "      <td>2.187320e+12</td>\n",
       "      <td>2.041061e+03</td>\n",
       "      <td>2.187319e+06</td>\n",
       "      <td>2.187320e+06</td>\n",
       "      <td>1.027378e+03</td>\n",
       "    </tr>\n",
       "  </tbody>\n",
       "</table>\n",
       "</div>"
      ],
      "text/plain": [
       "            queryId          sent      received    latency_ms       sent_ms  \\\n",
       "count  1.250000e+06  1.250000e+06  1.250000e+06  1.250000e+06  1.250000e+06   \n",
       "mean   6.249995e+05  1.673596e+12  1.673605e+12  9.671935e+00  1.673596e+06   \n",
       "std    3.608441e+05  2.901792e+11  2.901791e+11  3.360772e+01  2.901792e+05   \n",
       "min    0.000000e+00  1.159941e+12  1.160008e+12  5.717270e-01  1.159941e+06   \n",
       "25%    3.124998e+05  1.442840e+12  1.442845e+12  1.389221e+00  1.442840e+06   \n",
       "50%    6.249995e+05  1.679615e+12  1.679620e+12  2.536216e+00  1.679615e+06   \n",
       "75%    9.374992e+05  1.918255e+12  1.918331e+12  5.220429e+00  1.918255e+06   \n",
       "max    1.249999e+06  2.187319e+12  2.187320e+12  2.041061e+03  2.187319e+06   \n",
       "\n",
       "        received_ms      sent_sec  \n",
       "count  1.250000e+06  1.250000e+06  \n",
       "mean   1.673605e+06  5.136543e+02  \n",
       "std    2.901791e+05  2.901792e+02  \n",
       "min    1.160008e+06  0.000000e+00  \n",
       "25%    1.442845e+06  2.828987e+02  \n",
       "50%    1.679620e+06  5.196733e+02  \n",
       "75%    1.918331e+06  7.583142e+02  \n",
       "max    2.187320e+06  1.027378e+03  "
      ]
     },
     "execution_count": 142,
     "metadata": {},
     "output_type": "execute_result"
    }
   ],
   "source": [
    "dfARaw.describe()"
   ]
  },
  {
   "cell_type": "code",
   "execution_count": 143,
   "id": "6e989a6e",
   "metadata": {},
   "outputs": [
    {
     "data": {
      "text/html": [
       "<div>\n",
       "<style scoped>\n",
       "    .dataframe tbody tr th:only-of-type {\n",
       "        vertical-align: middle;\n",
       "    }\n",
       "\n",
       "    .dataframe tbody tr th {\n",
       "        vertical-align: top;\n",
       "    }\n",
       "\n",
       "    .dataframe thead th {\n",
       "        text-align: right;\n",
       "    }\n",
       "</style>\n",
       "<table border=\"1\" class=\"dataframe\">\n",
       "  <thead>\n",
       "    <tr style=\"text-align: right;\">\n",
       "      <th></th>\n",
       "      <th>queryId</th>\n",
       "      <th>sent</th>\n",
       "      <th>received</th>\n",
       "      <th>latency_ms</th>\n",
       "      <th>sent_ms</th>\n",
       "      <th>received_ms</th>\n",
       "      <th>sent_sec</th>\n",
       "    </tr>\n",
       "  </thead>\n",
       "  <tbody>\n",
       "    <tr>\n",
       "      <th>count</th>\n",
       "      <td>1.250000e+06</td>\n",
       "      <td>1.250000e+06</td>\n",
       "      <td>1.250000e+06</td>\n",
       "      <td>1.250000e+06</td>\n",
       "      <td>1.250000e+06</td>\n",
       "      <td>1.250000e+06</td>\n",
       "      <td>1.250000e+06</td>\n",
       "    </tr>\n",
       "    <tr>\n",
       "      <th>mean</th>\n",
       "      <td>6.249995e+05</td>\n",
       "      <td>1.668230e+12</td>\n",
       "      <td>1.668240e+12</td>\n",
       "      <td>9.610052e+00</td>\n",
       "      <td>1.668230e+06</td>\n",
       "      <td>1.668240e+06</td>\n",
       "      <td>5.082891e+02</td>\n",
       "    </tr>\n",
       "    <tr>\n",
       "      <th>std</th>\n",
       "      <td>3.608441e+05</td>\n",
       "      <td>2.898512e+11</td>\n",
       "      <td>2.898511e+11</td>\n",
       "      <td>3.348720e+01</td>\n",
       "      <td>2.898512e+05</td>\n",
       "      <td>2.898511e+05</td>\n",
       "      <td>2.898512e+02</td>\n",
       "    </tr>\n",
       "    <tr>\n",
       "      <th>min</th>\n",
       "      <td>0.000000e+00</td>\n",
       "      <td>1.159942e+12</td>\n",
       "      <td>1.160052e+12</td>\n",
       "      <td>5.837300e-01</td>\n",
       "      <td>1.159942e+06</td>\n",
       "      <td>1.160052e+06</td>\n",
       "      <td>8.224540e-04</td>\n",
       "    </tr>\n",
       "    <tr>\n",
       "      <th>25%</th>\n",
       "      <td>3.124998e+05</td>\n",
       "      <td>1.433825e+12</td>\n",
       "      <td>1.433834e+12</td>\n",
       "      <td>1.404621e+00</td>\n",
       "      <td>1.433825e+06</td>\n",
       "      <td>1.433834e+06</td>\n",
       "      <td>2.738843e+02</td>\n",
       "    </tr>\n",
       "    <tr>\n",
       "      <th>50%</th>\n",
       "      <td>6.249995e+05</td>\n",
       "      <td>1.681750e+12</td>\n",
       "      <td>1.681756e+12</td>\n",
       "      <td>2.583207e+00</td>\n",
       "      <td>1.681750e+06</td>\n",
       "      <td>1.681756e+06</td>\n",
       "      <td>5.218088e+02</td>\n",
       "    </tr>\n",
       "    <tr>\n",
       "      <th>75%</th>\n",
       "      <td>9.374992e+05</td>\n",
       "      <td>1.912574e+12</td>\n",
       "      <td>1.912578e+12</td>\n",
       "      <td>5.214357e+00</td>\n",
       "      <td>1.912574e+06</td>\n",
       "      <td>1.912578e+06</td>\n",
       "      <td>7.526327e+02</td>\n",
       "    </tr>\n",
       "    <tr>\n",
       "      <th>max</th>\n",
       "      <td>1.249999e+06</td>\n",
       "      <td>2.181143e+12</td>\n",
       "      <td>2.181145e+12</td>\n",
       "      <td>1.233775e+03</td>\n",
       "      <td>2.181143e+06</td>\n",
       "      <td>2.181145e+06</td>\n",
       "      <td>1.021202e+03</td>\n",
       "    </tr>\n",
       "  </tbody>\n",
       "</table>\n",
       "</div>"
      ],
      "text/plain": [
       "            queryId          sent      received    latency_ms       sent_ms  \\\n",
       "count  1.250000e+06  1.250000e+06  1.250000e+06  1.250000e+06  1.250000e+06   \n",
       "mean   6.249995e+05  1.668230e+12  1.668240e+12  9.610052e+00  1.668230e+06   \n",
       "std    3.608441e+05  2.898512e+11  2.898511e+11  3.348720e+01  2.898512e+05   \n",
       "min    0.000000e+00  1.159942e+12  1.160052e+12  5.837300e-01  1.159942e+06   \n",
       "25%    3.124998e+05  1.433825e+12  1.433834e+12  1.404621e+00  1.433825e+06   \n",
       "50%    6.249995e+05  1.681750e+12  1.681756e+12  2.583207e+00  1.681750e+06   \n",
       "75%    9.374992e+05  1.912574e+12  1.912578e+12  5.214357e+00  1.912574e+06   \n",
       "max    1.249999e+06  2.181143e+12  2.181145e+12  1.233775e+03  2.181143e+06   \n",
       "\n",
       "        received_ms      sent_sec  \n",
       "count  1.250000e+06  1.250000e+06  \n",
       "mean   1.668240e+06  5.082891e+02  \n",
       "std    2.898511e+05  2.898512e+02  \n",
       "min    1.160052e+06  8.224540e-04  \n",
       "25%    1.433834e+06  2.738843e+02  \n",
       "50%    1.681756e+06  5.218088e+02  \n",
       "75%    1.912578e+06  7.526327e+02  \n",
       "max    2.181145e+06  1.021202e+03  "
      ]
     },
     "execution_count": 143,
     "metadata": {},
     "output_type": "execute_result"
    }
   ],
   "source": [
    "dfBRaw.describe()"
   ]
  },
  {
   "cell_type": "code",
   "execution_count": 144,
   "id": "5a83a254",
   "metadata": {},
   "outputs": [
    {
     "data": {
      "text/html": [
       "<div>\n",
       "<style scoped>\n",
       "    .dataframe tbody tr th:only-of-type {\n",
       "        vertical-align: middle;\n",
       "    }\n",
       "\n",
       "    .dataframe tbody tr th {\n",
       "        vertical-align: top;\n",
       "    }\n",
       "\n",
       "    .dataframe thead th {\n",
       "        text-align: right;\n",
       "    }\n",
       "</style>\n",
       "<table border=\"1\" class=\"dataframe\">\n",
       "  <thead>\n",
       "    <tr style=\"text-align: right;\">\n",
       "      <th></th>\n",
       "      <th>queryId</th>\n",
       "      <th>sent</th>\n",
       "      <th>received</th>\n",
       "      <th>latency_ms</th>\n",
       "      <th>sent_ms</th>\n",
       "      <th>received_ms</th>\n",
       "      <th>sent_sec</th>\n",
       "    </tr>\n",
       "  </thead>\n",
       "  <tbody>\n",
       "    <tr>\n",
       "      <th>count</th>\n",
       "      <td>1.005374e+06</td>\n",
       "      <td>1.005374e+06</td>\n",
       "      <td>1.005374e+06</td>\n",
       "      <td>1.005374e+06</td>\n",
       "      <td>1.005374e+06</td>\n",
       "      <td>1.005374e+06</td>\n",
       "      <td>1.005374e+06</td>\n",
       "    </tr>\n",
       "    <tr>\n",
       "      <th>mean</th>\n",
       "      <td>6.306567e+05</td>\n",
       "      <td>1.694851e+12</td>\n",
       "      <td>1.694861e+12</td>\n",
       "      <td>9.868969e+00</td>\n",
       "      <td>1.694851e+06</td>\n",
       "      <td>1.694861e+06</td>\n",
       "      <td>5.349099e+02</td>\n",
       "    </tr>\n",
       "    <tr>\n",
       "      <th>std</th>\n",
       "      <td>3.565073e+05</td>\n",
       "      <td>2.306700e+11</td>\n",
       "      <td>2.306691e+11</td>\n",
       "      <td>3.536034e+01</td>\n",
       "      <td>2.306700e+05</td>\n",
       "      <td>2.306691e+05</td>\n",
       "      <td>2.306700e+02</td>\n",
       "    </tr>\n",
       "    <tr>\n",
       "      <th>min</th>\n",
       "      <td>3.444500e+04</td>\n",
       "      <td>1.259941e+12</td>\n",
       "      <td>1.259943e+12</td>\n",
       "      <td>5.717270e-01</td>\n",
       "      <td>1.259941e+06</td>\n",
       "      <td>1.259943e+06</td>\n",
       "      <td>1.000002e+02</td>\n",
       "    </tr>\n",
       "    <tr>\n",
       "      <th>25%</th>\n",
       "      <td>3.481798e+05</td>\n",
       "      <td>1.515863e+12</td>\n",
       "      <td>1.515871e+12</td>\n",
       "      <td>1.321178e+00</td>\n",
       "      <td>1.515863e+06</td>\n",
       "      <td>1.515871e+06</td>\n",
       "      <td>3.559213e+02</td>\n",
       "    </tr>\n",
       "    <tr>\n",
       "      <th>50%</th>\n",
       "      <td>6.016975e+05</td>\n",
       "      <td>1.698267e+12</td>\n",
       "      <td>1.698275e+12</td>\n",
       "      <td>2.341398e+00</td>\n",
       "      <td>1.698267e+06</td>\n",
       "      <td>1.698275e+06</td>\n",
       "      <td>5.383256e+02</td>\n",
       "    </tr>\n",
       "    <tr>\n",
       "      <th>75%</th>\n",
       "      <td>9.712602e+05</td>\n",
       "      <td>1.889575e+12</td>\n",
       "      <td>1.889581e+12</td>\n",
       "      <td>4.731092e+00</td>\n",
       "      <td>1.889575e+06</td>\n",
       "      <td>1.889581e+06</td>\n",
       "      <td>7.296335e+02</td>\n",
       "    </tr>\n",
       "    <tr>\n",
       "      <th>max</th>\n",
       "      <td>1.226058e+06</td>\n",
       "      <td>2.087320e+12</td>\n",
       "      <td>2.087945e+12</td>\n",
       "      <td>2.041061e+03</td>\n",
       "      <td>2.087320e+06</td>\n",
       "      <td>2.087945e+06</td>\n",
       "      <td>9.273790e+02</td>\n",
       "    </tr>\n",
       "  </tbody>\n",
       "</table>\n",
       "</div>"
      ],
      "text/plain": [
       "            queryId          sent      received    latency_ms       sent_ms  \\\n",
       "count  1.005374e+06  1.005374e+06  1.005374e+06  1.005374e+06  1.005374e+06   \n",
       "mean   6.306567e+05  1.694851e+12  1.694861e+12  9.868969e+00  1.694851e+06   \n",
       "std    3.565073e+05  2.306700e+11  2.306691e+11  3.536034e+01  2.306700e+05   \n",
       "min    3.444500e+04  1.259941e+12  1.259943e+12  5.717270e-01  1.259941e+06   \n",
       "25%    3.481798e+05  1.515863e+12  1.515871e+12  1.321178e+00  1.515863e+06   \n",
       "50%    6.016975e+05  1.698267e+12  1.698275e+12  2.341398e+00  1.698267e+06   \n",
       "75%    9.712602e+05  1.889575e+12  1.889581e+12  4.731092e+00  1.889575e+06   \n",
       "max    1.226058e+06  2.087320e+12  2.087945e+12  2.041061e+03  2.087320e+06   \n",
       "\n",
       "        received_ms      sent_sec  \n",
       "count  1.005374e+06  1.005374e+06  \n",
       "mean   1.694861e+06  5.349099e+02  \n",
       "std    2.306691e+05  2.306700e+02  \n",
       "min    1.259943e+06  1.000002e+02  \n",
       "25%    1.515871e+06  3.559213e+02  \n",
       "50%    1.698275e+06  5.383256e+02  \n",
       "75%    1.889581e+06  7.296335e+02  \n",
       "max    2.087945e+06  9.273790e+02  "
      ]
     },
     "execution_count": 144,
     "metadata": {},
     "output_type": "execute_result"
    }
   ],
   "source": [
    "dfA.describe()"
   ]
  },
  {
   "cell_type": "code",
   "execution_count": 145,
   "id": "6358e296",
   "metadata": {},
   "outputs": [
    {
     "data": {
      "text/html": [
       "<div>\n",
       "<style scoped>\n",
       "    .dataframe tbody tr th:only-of-type {\n",
       "        vertical-align: middle;\n",
       "    }\n",
       "\n",
       "    .dataframe tbody tr th {\n",
       "        vertical-align: top;\n",
       "    }\n",
       "\n",
       "    .dataframe thead th {\n",
       "        text-align: right;\n",
       "    }\n",
       "</style>\n",
       "<table border=\"1\" class=\"dataframe\">\n",
       "  <thead>\n",
       "    <tr style=\"text-align: right;\">\n",
       "      <th></th>\n",
       "      <th>queryId</th>\n",
       "      <th>sent</th>\n",
       "      <th>received</th>\n",
       "      <th>latency_ms</th>\n",
       "      <th>sent_ms</th>\n",
       "      <th>received_ms</th>\n",
       "      <th>sent_sec</th>\n",
       "    </tr>\n",
       "  </thead>\n",
       "  <tbody>\n",
       "    <tr>\n",
       "      <th>count</th>\n",
       "      <td>1.004799e+06</td>\n",
       "      <td>1.004799e+06</td>\n",
       "      <td>1.004799e+06</td>\n",
       "      <td>1.004799e+06</td>\n",
       "      <td>1.004799e+06</td>\n",
       "      <td>1.004799e+06</td>\n",
       "      <td>1.004799e+06</td>\n",
       "    </tr>\n",
       "    <tr>\n",
       "      <th>mean</th>\n",
       "      <td>6.342228e+05</td>\n",
       "      <td>1.696405e+12</td>\n",
       "      <td>1.696415e+12</td>\n",
       "      <td>9.874314e+00</td>\n",
       "      <td>1.696405e+06</td>\n",
       "      <td>1.696415e+06</td>\n",
       "      <td>5.364640e+02</td>\n",
       "    </tr>\n",
       "    <tr>\n",
       "      <th>std</th>\n",
       "      <td>3.574117e+05</td>\n",
       "      <td>2.304919e+11</td>\n",
       "      <td>2.304909e+11</td>\n",
       "      <td>3.519826e+01</td>\n",
       "      <td>2.304919e+05</td>\n",
       "      <td>2.304909e+05</td>\n",
       "      <td>2.304919e+02</td>\n",
       "    </tr>\n",
       "    <tr>\n",
       "      <th>min</th>\n",
       "      <td>3.670700e+04</td>\n",
       "      <td>1.259943e+12</td>\n",
       "      <td>1.259945e+12</td>\n",
       "      <td>5.837300e-01</td>\n",
       "      <td>1.259943e+06</td>\n",
       "      <td>1.259945e+06</td>\n",
       "      <td>1.000014e+02</td>\n",
       "    </tr>\n",
       "    <tr>\n",
       "      <th>25%</th>\n",
       "      <td>3.512195e+05</td>\n",
       "      <td>1.515890e+12</td>\n",
       "      <td>1.515897e+12</td>\n",
       "      <td>1.331683e+00</td>\n",
       "      <td>1.515890e+06</td>\n",
       "      <td>1.515897e+06</td>\n",
       "      <td>3.559484e+02</td>\n",
       "    </tr>\n",
       "    <tr>\n",
       "      <th>50%</th>\n",
       "      <td>6.653110e+05</td>\n",
       "      <td>1.707178e+12</td>\n",
       "      <td>1.707186e+12</td>\n",
       "      <td>2.366544e+00</td>\n",
       "      <td>1.707178e+06</td>\n",
       "      <td>1.707186e+06</td>\n",
       "      <td>5.472363e+02</td>\n",
       "    </tr>\n",
       "    <tr>\n",
       "      <th>75%</th>\n",
       "      <td>9.772770e+05</td>\n",
       "      <td>1.887856e+12</td>\n",
       "      <td>1.887861e+12</td>\n",
       "      <td>4.692519e+00</td>\n",
       "      <td>1.887856e+06</td>\n",
       "      <td>1.887861e+06</td>\n",
       "      <td>7.279145e+02</td>\n",
       "    </tr>\n",
       "    <tr>\n",
       "      <th>max</th>\n",
       "      <td>1.233903e+06</td>\n",
       "      <td>2.087318e+12</td>\n",
       "      <td>2.087674e+12</td>\n",
       "      <td>1.184143e+03</td>\n",
       "      <td>2.087318e+06</td>\n",
       "      <td>2.087674e+06</td>\n",
       "      <td>9.273766e+02</td>\n",
       "    </tr>\n",
       "  </tbody>\n",
       "</table>\n",
       "</div>"
      ],
      "text/plain": [
       "            queryId          sent      received    latency_ms       sent_ms  \\\n",
       "count  1.004799e+06  1.004799e+06  1.004799e+06  1.004799e+06  1.004799e+06   \n",
       "mean   6.342228e+05  1.696405e+12  1.696415e+12  9.874314e+00  1.696405e+06   \n",
       "std    3.574117e+05  2.304919e+11  2.304909e+11  3.519826e+01  2.304919e+05   \n",
       "min    3.670700e+04  1.259943e+12  1.259945e+12  5.837300e-01  1.259943e+06   \n",
       "25%    3.512195e+05  1.515890e+12  1.515897e+12  1.331683e+00  1.515890e+06   \n",
       "50%    6.653110e+05  1.707178e+12  1.707186e+12  2.366544e+00  1.707178e+06   \n",
       "75%    9.772770e+05  1.887856e+12  1.887861e+12  4.692519e+00  1.887856e+06   \n",
       "max    1.233903e+06  2.087318e+12  2.087674e+12  1.184143e+03  2.087318e+06   \n",
       "\n",
       "        received_ms      sent_sec  \n",
       "count  1.004799e+06  1.004799e+06  \n",
       "mean   1.696415e+06  5.364640e+02  \n",
       "std    2.304909e+05  2.304919e+02  \n",
       "min    1.259945e+06  1.000014e+02  \n",
       "25%    1.515897e+06  3.559484e+02  \n",
       "50%    1.707186e+06  5.472363e+02  \n",
       "75%    1.887861e+06  7.279145e+02  \n",
       "max    2.087674e+06  9.273766e+02  "
      ]
     },
     "execution_count": 145,
     "metadata": {},
     "output_type": "execute_result"
    }
   ],
   "source": [
    "dfB.describe()"
   ]
  },
  {
   "cell_type": "markdown",
   "id": "9467581b",
   "metadata": {},
   "source": [
    "### Min. Latencies for Worker 2 (A & B)"
   ]
  },
  {
   "cell_type": "code",
   "execution_count": 146,
   "id": "a6d0c80a",
   "metadata": {},
   "outputs": [
    {
     "data": {
      "text/plain": [
       "workerId                  w3-vA\n",
       "queryType                INSERT\n",
       "queryId                  547097\n",
       "sent              1912228156113\n",
       "received          1912228727840\n",
       "target-region           unknown\n",
       "latency_ms             0.571727\n",
       "sent_ms          1912228.156113\n",
       "received_ms       1912228.72784\n",
       "sent_sec             752.286915\n",
       "Name: 2286812, dtype: object"
      ]
     },
     "execution_count": 146,
     "metadata": {},
     "output_type": "execute_result"
    }
   ],
   "source": [
    "dfA3.loc[dfA3[\"latency_ms\"].idxmin()]"
   ]
  },
  {
   "cell_type": "code",
   "execution_count": 147,
   "id": "c7c47c98",
   "metadata": {},
   "outputs": [
    {
     "data": {
      "text/plain": [
       "workerId                  w1-vB\n",
       "queryType                INSERT\n",
       "queryId                 1174020\n",
       "sent              1901116195147\n",
       "received          1901116804651\n",
       "target-region           unknown\n",
       "latency_ms             0.609504\n",
       "sent_ms          1901116.195147\n",
       "received_ms      1901116.804651\n",
       "sent_sec             741.174954\n",
       "Name: 619155, dtype: object"
      ]
     },
     "execution_count": 147,
     "metadata": {},
     "output_type": "execute_result"
    }
   ],
   "source": [
    "dfB1.loc[dfB1[\"latency_ms\"].idxmin()]"
   ]
  },
  {
   "cell_type": "markdown",
   "id": "c7926d67",
   "metadata": {},
   "source": [
    "### Some checks"
   ]
  },
  {
   "cell_type": "markdown",
   "id": "f4d9c4a2",
   "metadata": {},
   "source": [
    "#### Time difference in ms when first query was sent by worker-1 to Version A and B "
   ]
  },
  {
   "cell_type": "code",
   "execution_count": 148,
   "id": "61fe0605",
   "metadata": {},
   "outputs": [
    {
     "data": {
      "text/plain": [
       "-1229153"
      ]
     },
     "execution_count": 148,
     "metadata": {},
     "output_type": "execute_result"
    }
   ],
   "source": [
    "\n",
    "dfA2[\"sent\"].min() - dfB2[\"sent\"].min()"
   ]
  },
  {
   "cell_type": "markdown",
   "id": "676b17ce",
   "metadata": {},
   "source": [
    "#### Time difference in ms when last query was sent by worker-1 to Version A and B "
   ]
  },
  {
   "cell_type": "code",
   "execution_count": 149,
   "id": "234a1c20",
   "metadata": {},
   "outputs": [
    {
     "data": {
      "text/plain": [
       "2393571"
      ]
     },
     "execution_count": 149,
     "metadata": {},
     "output_type": "execute_result"
    }
   ],
   "source": [
    "dfA1[\"sent\"].max() - dfB1[\"sent\"].max() \n"
   ]
  },
  {
   "cell_type": "markdown",
   "id": "74abe57d",
   "metadata": {},
   "source": [
    "## Create Figures "
   ]
  },
  {
   "cell_type": "markdown",
   "id": "2a090a7b",
   "metadata": {},
   "source": [
    "### Create Boxplots"
   ]
  },
  {
   "cell_type": "code",
   "execution_count": 150,
   "id": "58a49efa",
   "metadata": {},
   "outputs": [
    {
     "name": "stdout",
     "output_type": "stream",
     "text": [
      "1005374\n"
     ]
    }
   ],
   "source": [
    "sns.set_theme(style=\"darkgrid\")\n",
    "print(len(dfA))"
   ]
  },
  {
   "cell_type": "code",
   "execution_count": 151,
   "id": "4f8631c8",
   "metadata": {},
   "outputs": [
    {
     "data": {
      "image/png": "[encoded data removed]",
      "text/plain": [
       "<Figure size 2160x576 with 1 Axes>"
      ]
     },
     "metadata": {},
     "output_type": "display_data"
    }
   ],
   "source": [
    "\n",
    "combined_dfs = pd.DataFrame({versionA: dfA['latency_ms'],\n",
    "                             versionB: dfB['latency_ms']})\n",
    "                             \n",
    "sns.set_style('white')\n",
    "sns.set_context('notebook', font_scale=2.0)\n",
    "\n",
    "box_plot = sns.boxplot(data=combined_dfs, color='white', showfliers=False, whis=1.5,palette=\"vlag\").set_title(phase)\n",
    "\n",
    "\n",
    "\n",
    "\n",
    "ax = box_plot.axes\n",
    "ax.set_ylabel(\"Latency in ms\")\n",
    "lines = ax.get_lines()\n",
    "\n",
    "categories = ax.get_xticks()\n",
    "\n",
    "for i in range(0,5):\n",
    "    for cat in categories:\n",
    "\n",
    "        y = round(lines[(i+cat*5)].get_ydata()[0],2) \n",
    "\n",
    "        ax.text(\n",
    "            cat, \n",
    "            y, \n",
    "            f'{y}', \n",
    "            ha='center', \n",
    "            va='center', \n",
    "            fontweight='bold', \n",
    "            size=20,\n",
    "            color='white',\n",
    "            bbox=dict(facecolor='#445A64'))\n",
    "\n",
    "\n",
    "sns.despine()\n",
    "\n"
   ]
  },
  {
   "cell_type": "markdown",
   "id": "1ef8d979",
   "metadata": {},
   "source": [
    "### Create Flowchart"
   ]
  },
  {
   "cell_type": "code",
   "execution_count": null,
   "id": "8058b963",
   "metadata": {},
   "outputs": [
    {
     "data": {
      "image/png": "[encoded data removed]",
      "text/plain": [
       "<Figure size 360x360 with 1 Axes>"
      ]
     },
     "metadata": {},
     "output_type": "display_data"
    }
   ],
   "source": [
    "plot = sns.lmplot(x='sent_sec', y='latency_ms', data=dfA, fit_reg=False)\n",
    "plot = sns.lmplot(x='sent_sec', y='latency_ms', data=dfB, fit_reg=False)"
   ]
  },
  {
   "cell_type": "code",
   "execution_count": null,
   "id": "c8ae7fff",
   "metadata": {
    "scrolled": false
   },
   "outputs": [],
   "source": [
    "dfB.plot.line(x='sent_sec', y='latency_ms')"
   ]
  },
  {
   "cell_type": "code",
   "execution_count": null,
   "id": "8638763e",
   "metadata": {
    "scrolled": false
   },
   "outputs": [],
   "source": [
    "sns.lineplot(data=dfA, x=\"sent_sec\", y=\"latency_ms\")\n"
   ]
  },
  {
   "cell_type": "code",
   "execution_count": null,
   "id": "fdc5484a",
   "metadata": {},
   "outputs": [],
   "source": [
    "sns.set_context(\"notebook\")\n",
    "sns.set(rc={'figure.figsize':(30,8)})\n",
    "print(len(df))"
   ]
  },
  {
   "cell_type": "markdown",
   "id": "73a18cbb",
   "metadata": {},
   "source": [
    "### Create Linechart comparing latencies of Version A and B"
   ]
  },
  {
   "cell_type": "code",
   "execution_count": null,
   "id": "53bcd3e2",
   "metadata": {
    "scrolled": false
   },
   "outputs": [],
   "source": [
    "subchartA = dfA[['sent_sec', 'latency_ms']]\n",
    "subchartB = dfB[['sent_sec', 'latency_ms']]\n",
    "subchartA[\"100sec_average\"] = subchartA.latency_ms.rolling(200).mean().shift(-50)\n",
    "subchartB[\"100sec_average\"] = subchartB.latency_ms.rolling(200).mean().shift(-50)\n",
    "\n",
    "p = sns.lineplot(data=subchartA, x=\"sent_sec\", y=\"100sec_average\", linewidth=0.1)\n",
    "sns.lineplot(data=subchartB, x='sent_sec',y='100sec_average', linewidth=0.1).set_title(phase)\n",
    "p.set_xlabel(\"Seconds\");\n",
    "p.set_ylabel(\"Latency in ms\");\n"
   ]
  }
 ],
 "metadata": {
  "kernelspec": {
   "display_name": "Python 3 (ipykernel)",
   "language": "python",
   "name": "python3"
  },
  "language_info": {
   "codemirror_mode": {
    "name": "ipython",
    "version": 3
   },
   "file_extension": ".py",
   "mimetype": "text/x-python",
   "name": "python",
   "nbconvert_exporter": "python",
   "pygments_lexer": "ipython3",
   "version": "3.10.4"
  }
 },
 "nbformat": 4,
 "nbformat_minor": 5
}
