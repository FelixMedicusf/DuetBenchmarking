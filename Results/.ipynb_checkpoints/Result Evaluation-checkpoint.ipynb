{
 "cells": [
  {
   "cell_type": "code",
   "execution_count": 68,
   "id": "e4a313ec",
   "metadata": {},
   "outputs": [],
   "source": [
    "import matplotlib.pyplot as plt\n",
    "import numpy as np\n",
    "import seaborn as sns\n",
    "import pandas as pd\n",
    "import os\n",
    "from pathlib import Path"
   ]
  },
  {
   "cell_type": "code",
   "execution_count": 69,
   "id": "3230b632",
   "metadata": {},
   "outputs": [
    {
     "name": "stdout",
     "output_type": "stream",
     "text": [
      "C:\\Users\\Felix Medicus\\Desktop\\Thesis_MCC\\DuetBenchmarking\\Results\n"
     ]
    }
   ],
   "source": [
    "cwd = Path.cwd()\n",
    "print(cwd)"
   ]
  },
  {
   "cell_type": "code",
   "execution_count": 70,
   "id": "7bbb5c5f",
   "metadata": {},
   "outputs": [
    {
     "name": "stdout",
     "output_type": "stream",
     "text": [
      "C:\\Users\\Felix Medicus\\Desktop\\Thesis_MCC\\DuetBenchmarking\\Results\\Results\\300_000ops\\load_measurements.dat\n"
     ]
    }
   ],
   "source": [
    "filepath = os.path.join(cwd, \"Results\", \"300_000ops\", \"load_measurements.txt\")\n",
    "print(pathname)"
   ]
  },
  {
   "cell_type": "code",
   "execution_count": 71,
   "id": "672c3aaa",
   "metadata": {},
   "outputs": [
    {
     "name": "stdout",
     "output_type": "stream",
     "text": [
      "<bound method NDFrame.head of        workerId queryType                               queryId  \\\n",
      "0           w1b    INSERT  81861a34-9bec-48f4-aa40-f3990b0b7d93   \n",
      "1           w1a    INSERT  81861a34-9bec-48f4-aa40-f3990b0b7d93   \n",
      "2           w1a    INSERT  8b0d2f47-0509-4e50-ad32-8275cb93735a   \n",
      "3           w1b    INSERT  8b0d2f47-0509-4e50-ad32-8275cb93735a   \n",
      "4           w1a    INSERT  bf17828d-476f-432a-ba6d-7b071b0aeeca   \n",
      "...         ...       ...                                   ...   \n",
      "599995      w3b    INSERT  8d78a1c4-98c8-4b1a-bddb-0554fd5f7b51   \n",
      "599996      w3b    INSERT  896e6750-ab76-45fa-b9d5-d36578bf6307   \n",
      "599997      w3b    INSERT  01583ad9-0fa3-4638-8168-be47129db5a1   \n",
      "599998      w3b    INSERT  c051e067-1ea3-49c4-8e39-0a0da359ff17   \n",
      "599999      w3b    INSERT  607837b5-b292-4969-a95c-1d28f2bbab9f   \n",
      "\n",
      "                 sent       received target-region  \n",
      "0       1657629638244  1657629638294  europe-west1  \n",
      "1       1657629638243  1657629638298  europe-west1  \n",
      "2       1657629638298  1657629638301  europe-west1  \n",
      "3       1657629638296  1657629638301  europe-west1  \n",
      "4       1657629638301  1657629638305  europe-west1  \n",
      "...               ...            ...           ...  \n",
      "599995  1657630038770  1657630038806  europe-west1  \n",
      "599996  1657630038806  1657630038808  europe-west1  \n",
      "599997  1657630038808  1657630038809  europe-west1  \n",
      "599998  1657630038809  1657630038810  europe-west1  \n",
      "599999  1657630038810  1657630038812  europe-west1  \n",
      "\n",
      "[600000 rows x 6 columns]>\n"
     ]
    }
   ],
   "source": [
    "df = pd.read_csv(filepath)\n",
    "print(df.head)"
   ]
  },
  {
   "cell_type": "code",
   "execution_count": 72,
   "id": "32c2ef16",
   "metadata": {},
   "outputs": [
    {
     "name": "stdout",
     "output_type": "stream",
     "text": [
      "1657630041431\n"
     ]
    }
   ],
   "source": [
    "print(df[\"sent\"].max())"
   ]
  },
  {
   "cell_type": "code",
   "execution_count": 73,
   "id": "15d7d02f",
   "metadata": {},
   "outputs": [],
   "source": [
    "df[\"latency_ms\"] = df[\"received\"]- df[\"sent\"]\n"
   ]
  },
  {
   "cell_type": "code",
   "execution_count": 74,
   "id": "50754c1e",
   "metadata": {},
   "outputs": [
    {
     "name": "stdout",
     "output_type": "stream",
     "text": [
      "  workerId queryType                               queryId           sent  \\\n",
      "0      w1b    INSERT  81861a34-9bec-48f4-aa40-f3990b0b7d93  1657629638244   \n",
      "1      w1a    INSERT  81861a34-9bec-48f4-aa40-f3990b0b7d93  1657629638243   \n",
      "2      w1a    INSERT  8b0d2f47-0509-4e50-ad32-8275cb93735a  1657629638298   \n",
      "3      w1b    INSERT  8b0d2f47-0509-4e50-ad32-8275cb93735a  1657629638296   \n",
      "4      w1a    INSERT  bf17828d-476f-432a-ba6d-7b071b0aeeca  1657629638301   \n",
      "\n",
      "        received target-region  latency_ms  \n",
      "0  1657629638294  europe-west1          50  \n",
      "1  1657629638298  europe-west1          55  \n",
      "2  1657629638301  europe-west1           3  \n",
      "3  1657629638301  europe-west1           5  \n",
      "4  1657629638305  europe-west1           4  \n"
     ]
    }
   ],
   "source": [
    "print(df.head())\n"
   ]
  },
  {
   "cell_type": "code",
   "execution_count": 75,
   "id": "637c658e",
   "metadata": {},
   "outputs": [
    {
     "data": {
      "text/plain": [
       "count    600000.000000\n",
       "mean          3.851087\n",
       "std          15.001065\n",
       "min           0.000000\n",
       "25%           1.000000\n",
       "50%           2.000000\n",
       "75%           2.000000\n",
       "max         901.000000\n",
       "Name: latency_ms, dtype: float64"
      ]
     },
     "execution_count": 75,
     "metadata": {},
     "output_type": "execute_result"
    }
   ],
   "source": [
    "df[\"latency_ms\"].describe()"
   ]
  },
  {
   "cell_type": "code",
   "execution_count": 76,
   "id": "163d675e",
   "metadata": {},
   "outputs": [],
   "source": [
    "sns.set_theme(style=\"darkgrid\")\n"
   ]
  },
  {
   "cell_type": "code",
   "execution_count": 77,
   "id": "47eb9b73",
   "metadata": {},
   "outputs": [
    {
     "name": "stdout",
     "output_type": "stream",
     "text": [
      "6.719833333333333 minuten\n"
     ]
    }
   ],
   "source": [
    "totalTime = df[\"received\"].max() - df[\"sent\"].min()\n",
    "print(totalTime/1000/60, \"minuten\")"
   ]
  },
  {
   "cell_type": "code",
   "execution_count": null,
   "id": "c5c42e19",
   "metadata": {},
   "outputs": [],
   "source": [
    "sns.lmplot(x='sent', y='latency_ms', data=df, fit_reg=False)"
   ]
  },
  {
   "cell_type": "code",
   "execution_count": null,
   "id": "8c096181",
   "metadata": {},
   "outputs": [],
   "source": []
  }
 ],
 "metadata": {
  "kernelspec": {
   "display_name": "Python 3 (ipykernel)",
   "language": "python",
   "name": "python3"
  },
  "language_info": {
   "codemirror_mode": {
    "name": "ipython",
    "version": 3
   },
   "file_extension": ".py",
   "mimetype": "text/x-python",
   "name": "python",
   "nbconvert_exporter": "python",
   "pygments_lexer": "ipython3",
   "version": "3.10.4"
  }
 },
 "nbformat": 4,
 "nbformat_minor": 5
}
