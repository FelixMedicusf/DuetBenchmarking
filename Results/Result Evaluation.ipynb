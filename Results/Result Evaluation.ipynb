{
 "cells": [
  {
   "cell_type": "markdown",
   "id": "effbe8fe",
   "metadata": {},
   "source": [
    "# Evaluation Of Duet Benchmarking Results from Distributed Database \"Cassandra\""
   ]
  },
  {
   "cell_type": "markdown",
   "id": "e0294f93",
   "metadata": {},
   "source": [
    "### Imports"
   ]
  },
  {
   "cell_type": "code",
   "execution_count": 30,
   "id": "e4a313ec",
   "metadata": {},
   "outputs": [],
   "source": [
    "import matplotlib.pyplot as plt\n",
    "import numpy as np\n",
    "import seaborn as sns\n",
    "import pandas as pd\n",
    "import os\n",
    "from pathlib import Path"
   ]
  },
  {
   "cell_type": "code",
   "execution_count": 31,
   "id": "c971a7d9",
   "metadata": {},
   "outputs": [],
   "source": [
    "# cwd = Path.cwd()\n",
    "# filepath = os.path.join(cwd, \"Results\", \"1.25mCops_4t\", \"AA\", \"run_measurements3.csv\")\n",
    "# print(filepath)\n",
    "# df3 = pd.read_csv(filepath)"
   ]
  },
  {
   "cell_type": "code",
   "execution_count": 32,
   "id": "a1039b8a",
   "metadata": {},
   "outputs": [],
   "source": [
    "# cwd = Path.cwd()\n",
    "# filepath = os.path.join(cwd, \"Results\", \"1.25mCops_4t\", \"AA\", \"run_measurements2.csv\")\n",
    "# print(filepath)\n",
    "# df2 = pd.read_csv(filepath)"
   ]
  },
  {
   "cell_type": "markdown",
   "id": "eb039afe",
   "metadata": {},
   "source": [
    "### Import Benchmarking Measurements as csv file and create Pandas Dataframe for further Analysis"
   ]
  },
  {
   "cell_type": "code",
   "execution_count": 33,
   "id": "2bae1a82",
   "metadata": {},
   "outputs": [
    {
     "name": "stdout",
     "output_type": "stream",
     "text": [
      "C:\\Users\\Felix Medicus\\Desktop\\Thesis_MCC\\DuetBenchmarking\\Results\\Results\\international\\1mAops_4t\\AB\\load_measurements3.csv\n"
     ]
    }
   ],
   "source": [
    "cwd = Path.cwd()\n",
    "filepath = os.path.join(cwd, \"Results\", \"international\",\"1mAops_4t\", \"AB\", \"load_measurements3.csv\")\n",
    "print(filepath)\n",
    "df = pd.read_csv(filepath)"
   ]
  },
  {
   "cell_type": "code",
   "execution_count": 34,
   "id": "776e1055",
   "metadata": {},
   "outputs": [],
   "source": [
    "# df = pd.concat([df1, df2, df3])\n",
    "# df = df1"
   ]
  },
  {
   "cell_type": "markdown",
   "id": "83d67033",
   "metadata": {},
   "source": [
    "### Set Versions as Variables"
   ]
  },
  {
   "cell_type": "code",
   "execution_count": 35,
   "id": "068dc046",
   "metadata": {},
   "outputs": [],
   "source": [
    "workloadLoad = \"Workload C: 100% Insert\"\n",
    "workloadRun = \"Workload C: 100% Read\"\n",
    "phase = \"Run\"\n",
    "versionA = \"Version A: Cassandra 4.0.4\"\n",
    "versionB = \"Version B: Cassandra 3.0.27\""
   ]
  },
  {
   "cell_type": "markdown",
   "id": "337c61b0",
   "metadata": {},
   "source": [
    "### Insert latencies in ms into the measurement table"
   ]
  },
  {
   "cell_type": "code",
   "execution_count": 36,
   "id": "15d7d02f",
   "metadata": {},
   "outputs": [],
   "source": [
    "df[\"latency_ms\"] = (df[\"received\"]- df[\"sent\"])/1000000"
   ]
  },
  {
   "cell_type": "code",
   "execution_count": 37,
   "id": "5ddf3971",
   "metadata": {},
   "outputs": [],
   "source": [
    "df[\"sent_ms\"] = df[\"sent\"].div(1000000)\n",
    "df[\"received_ms\"] = df[\"received\"].div(1000000)"
   ]
  },
  {
   "cell_type": "code",
   "execution_count": 38,
   "id": "baca2f0f",
   "metadata": {},
   "outputs": [
    {
     "data": {
      "text/html": [
       "<div>\n",
       "<style scoped>\n",
       "    .dataframe tbody tr th:only-of-type {\n",
       "        vertical-align: middle;\n",
       "    }\n",
       "\n",
       "    .dataframe tbody tr th {\n",
       "        vertical-align: top;\n",
       "    }\n",
       "\n",
       "    .dataframe thead th {\n",
       "        text-align: right;\n",
       "    }\n",
       "</style>\n",
       "<table border=\"1\" class=\"dataframe\">\n",
       "  <thead>\n",
       "    <tr style=\"text-align: right;\">\n",
       "      <th></th>\n",
       "      <th>queryId</th>\n",
       "      <th>sent</th>\n",
       "      <th>received</th>\n",
       "      <th>latency_ms</th>\n",
       "      <th>sent_ms</th>\n",
       "      <th>received_ms</th>\n",
       "    </tr>\n",
       "  </thead>\n",
       "  <tbody>\n",
       "    <tr>\n",
       "      <th>count</th>\n",
       "      <td>2.000000e+06</td>\n",
       "      <td>2.000000e+06</td>\n",
       "      <td>2.000000e+06</td>\n",
       "      <td>2.000000e+06</td>\n",
       "      <td>2.000000e+06</td>\n",
       "      <td>2.000000e+06</td>\n",
       "    </tr>\n",
       "    <tr>\n",
       "      <th>mean</th>\n",
       "      <td>4.999995e+05</td>\n",
       "      <td>1.271530e+12</td>\n",
       "      <td>1.271537e+12</td>\n",
       "      <td>7.223907e+00</td>\n",
       "      <td>1.271530e+06</td>\n",
       "      <td>1.271537e+06</td>\n",
       "    </tr>\n",
       "    <tr>\n",
       "      <th>std</th>\n",
       "      <td>2.886752e+05</td>\n",
       "      <td>2.059133e+11</td>\n",
       "      <td>2.059130e+11</td>\n",
       "      <td>3.442164e+01</td>\n",
       "      <td>2.059133e+05</td>\n",
       "      <td>2.059130e+05</td>\n",
       "    </tr>\n",
       "    <tr>\n",
       "      <th>min</th>\n",
       "      <td>0.000000e+00</td>\n",
       "      <td>9.388238e+11</td>\n",
       "      <td>9.388816e+11</td>\n",
       "      <td>4.732490e-01</td>\n",
       "      <td>9.388238e+05</td>\n",
       "      <td>9.388816e+05</td>\n",
       "    </tr>\n",
       "    <tr>\n",
       "      <th>25%</th>\n",
       "      <td>2.499998e+05</td>\n",
       "      <td>1.076589e+12</td>\n",
       "      <td>1.076598e+12</td>\n",
       "      <td>1.399925e+00</td>\n",
       "      <td>1.076589e+06</td>\n",
       "      <td>1.076598e+06</td>\n",
       "    </tr>\n",
       "    <tr>\n",
       "      <th>50%</th>\n",
       "      <td>4.999995e+05</td>\n",
       "      <td>1.266822e+12</td>\n",
       "      <td>1.266827e+12</td>\n",
       "      <td>1.984353e+00</td>\n",
       "      <td>1.266822e+06</td>\n",
       "      <td>1.266827e+06</td>\n",
       "    </tr>\n",
       "    <tr>\n",
       "      <th>75%</th>\n",
       "      <td>7.499992e+05</td>\n",
       "      <td>1.431176e+12</td>\n",
       "      <td>1.431179e+12</td>\n",
       "      <td>3.750516e+00</td>\n",
       "      <td>1.431176e+06</td>\n",
       "      <td>1.431179e+06</td>\n",
       "    </tr>\n",
       "    <tr>\n",
       "      <th>max</th>\n",
       "      <td>9.999990e+05</td>\n",
       "      <td>1.716543e+12</td>\n",
       "      <td>1.716544e+12</td>\n",
       "      <td>2.010081e+03</td>\n",
       "      <td>1.716543e+06</td>\n",
       "      <td>1.716544e+06</td>\n",
       "    </tr>\n",
       "  </tbody>\n",
       "</table>\n",
       "</div>"
      ],
      "text/plain": [
       "            queryId          sent      received    latency_ms       sent_ms  \\\n",
       "count  2.000000e+06  2.000000e+06  2.000000e+06  2.000000e+06  2.000000e+06   \n",
       "mean   4.999995e+05  1.271530e+12  1.271537e+12  7.223907e+00  1.271530e+06   \n",
       "std    2.886752e+05  2.059133e+11  2.059130e+11  3.442164e+01  2.059133e+05   \n",
       "min    0.000000e+00  9.388238e+11  9.388816e+11  4.732490e-01  9.388238e+05   \n",
       "25%    2.499998e+05  1.076589e+12  1.076598e+12  1.399925e+00  1.076589e+06   \n",
       "50%    4.999995e+05  1.266822e+12  1.266827e+12  1.984353e+00  1.266822e+06   \n",
       "75%    7.499992e+05  1.431176e+12  1.431179e+12  3.750516e+00  1.431176e+06   \n",
       "max    9.999990e+05  1.716543e+12  1.716544e+12  2.010081e+03  1.716543e+06   \n",
       "\n",
       "        received_ms  \n",
       "count  2.000000e+06  \n",
       "mean   1.271537e+06  \n",
       "std    2.059130e+05  \n",
       "min    9.388816e+05  \n",
       "25%    1.076598e+06  \n",
       "50%    1.266827e+06  \n",
       "75%    1.431179e+06  \n",
       "max    1.716544e+06  "
      ]
     },
     "execution_count": 38,
     "metadata": {},
     "output_type": "execute_result"
    }
   ],
   "source": [
    "df.describe()"
   ]
  },
  {
   "cell_type": "code",
   "execution_count": 39,
   "id": "1fa30957",
   "metadata": {},
   "outputs": [
    {
     "data": {
      "text/html": [
       "<div>\n",
       "<style scoped>\n",
       "    .dataframe tbody tr th:only-of-type {\n",
       "        vertical-align: middle;\n",
       "    }\n",
       "\n",
       "    .dataframe tbody tr th {\n",
       "        vertical-align: top;\n",
       "    }\n",
       "\n",
       "    .dataframe thead th {\n",
       "        text-align: right;\n",
       "    }\n",
       "</style>\n",
       "<table border=\"1\" class=\"dataframe\">\n",
       "  <thead>\n",
       "    <tr style=\"text-align: right;\">\n",
       "      <th></th>\n",
       "      <th>workerId</th>\n",
       "      <th>queryType</th>\n",
       "      <th>queryId</th>\n",
       "      <th>sent</th>\n",
       "      <th>received</th>\n",
       "      <th>target-region</th>\n",
       "      <th>latency_ms</th>\n",
       "      <th>sent_ms</th>\n",
       "      <th>received_ms</th>\n",
       "    </tr>\n",
       "  </thead>\n",
       "  <tbody>\n",
       "    <tr>\n",
       "      <th>13</th>\n",
       "      <td>w1-vA</td>\n",
       "      <td>INSERT</td>\n",
       "      <td>0</td>\n",
       "      <td>938823817061</td>\n",
       "      <td>938915824915</td>\n",
       "      <td>europe-west1</td>\n",
       "      <td>92.007854</td>\n",
       "      <td>938823.817061</td>\n",
       "      <td>938915.824915</td>\n",
       "    </tr>\n",
       "    <tr>\n",
       "      <th>1</th>\n",
       "      <td>w1-vB</td>\n",
       "      <td>INSERT</td>\n",
       "      <td>750006</td>\n",
       "      <td>938828867192</td>\n",
       "      <td>938882520598</td>\n",
       "      <td>europe-west1</td>\n",
       "      <td>53.653406</td>\n",
       "      <td>938828.867192</td>\n",
       "      <td>938882.520598</td>\n",
       "    </tr>\n",
       "    <tr>\n",
       "      <th>14</th>\n",
       "      <td>w1-vA</td>\n",
       "      <td>INSERT</td>\n",
       "      <td>750006</td>\n",
       "      <td>938828968730</td>\n",
       "      <td>938921050164</td>\n",
       "      <td>europe-west1</td>\n",
       "      <td>92.081434</td>\n",
       "      <td>938828.968730</td>\n",
       "      <td>938921.050164</td>\n",
       "    </tr>\n",
       "    <tr>\n",
       "      <th>2</th>\n",
       "      <td>w1-vB</td>\n",
       "      <td>INSERT</td>\n",
       "      <td>500004</td>\n",
       "      <td>938829037774</td>\n",
       "      <td>938881764336</td>\n",
       "      <td>europe-west1</td>\n",
       "      <td>52.726562</td>\n",
       "      <td>938829.037774</td>\n",
       "      <td>938881.764336</td>\n",
       "    </tr>\n",
       "    <tr>\n",
       "      <th>15</th>\n",
       "      <td>w1-vA</td>\n",
       "      <td>INSERT</td>\n",
       "      <td>500004</td>\n",
       "      <td>938829102504</td>\n",
       "      <td>938921050166</td>\n",
       "      <td>europe-west1</td>\n",
       "      <td>91.947662</td>\n",
       "      <td>938829.102504</td>\n",
       "      <td>938921.050166</td>\n",
       "    </tr>\n",
       "  </tbody>\n",
       "</table>\n",
       "</div>"
      ],
      "text/plain": [
       "   workerId queryType  queryId          sent      received target-region  \\\n",
       "13    w1-vA    INSERT        0  938823817061  938915824915  europe-west1   \n",
       "1     w1-vB    INSERT   750006  938828867192  938882520598  europe-west1   \n",
       "14    w1-vA    INSERT   750006  938828968730  938921050164  europe-west1   \n",
       "2     w1-vB    INSERT   500004  938829037774  938881764336  europe-west1   \n",
       "15    w1-vA    INSERT   500004  938829102504  938921050166  europe-west1   \n",
       "\n",
       "    latency_ms        sent_ms    received_ms  \n",
       "13   92.007854  938823.817061  938915.824915  \n",
       "1    53.653406  938828.867192  938882.520598  \n",
       "14   92.081434  938828.968730  938921.050164  \n",
       "2    52.726562  938829.037774  938881.764336  \n",
       "15   91.947662  938829.102504  938921.050166  "
      ]
     },
     "execution_count": 39,
     "metadata": {},
     "output_type": "execute_result"
    }
   ],
   "source": [
    "df = df.sort_values(by=\"sent\", ascending=True)\n",
    "df.head()"
   ]
  },
  {
   "cell_type": "markdown",
   "id": "c9c40381",
   "metadata": {},
   "source": [
    "### Restructure Timeline"
   ]
  },
  {
   "cell_type": "code",
   "execution_count": 40,
   "id": "ca0d2243",
   "metadata": {},
   "outputs": [],
   "source": [
    "firstSent = df[\"sent\"].min()\n",
    "df[\"sent_sec\"] = (df[\"sent\"] - firstSent)/1000000/1000"
   ]
  },
  {
   "cell_type": "markdown",
   "id": "8285fdc6",
   "metadata": {},
   "source": [
    "### Return benchmark run time (First request send to last response received)"
   ]
  },
  {
   "cell_type": "code",
   "execution_count": 41,
   "id": "637c658e",
   "metadata": {},
   "outputs": [
    {
     "name": "stdout",
     "output_type": "stream",
     "text": [
      "777.719646307 seconds or 12.961994105116666 m\n"
     ]
    }
   ],
   "source": [
    "totalTime = df[\"sent\"].max() - df[\"sent\"].min()\n",
    "print(totalTime/1000000/1000, \"seconds\", \"or\", totalTime/1000000/1000/60, \"m\") \n"
   ]
  },
  {
   "cell_type": "markdown",
   "id": "30e8f7c7",
   "metadata": {},
   "source": [
    "### Prune Measurements and print new run time for pruned benchmark (Remove first and last 100 seconds)"
   ]
  },
  {
   "cell_type": "code",
   "execution_count": 42,
   "id": "f63dee0c",
   "metadata": {},
   "outputs": [],
   "source": [
    "dfPruned = df.loc[(df[\"sent_sec\"] > 200) & (df[\"sent_sec\"] < (totalTime/1000000/1000) - 300)]"
   ]
  },
  {
   "cell_type": "code",
   "execution_count": 43,
   "id": "0637b206",
   "metadata": {},
   "outputs": [
    {
     "name": "stdout",
     "output_type": "stream",
     "text": [
      "Pruned time:\n",
      " 277.71871796799996 seconds or 4.628645299466666 minutes\n"
     ]
    }
   ],
   "source": [
    "totalTime = dfPruned[\"sent\"].max() - dfPruned[\"sent\"].min()\n",
    "print(\"Pruned time:\\n\",totalTime/1000000/1000, \"seconds\", \"or\", totalTime/1000000/1000/60, \"minutes\") "
   ]
  },
  {
   "cell_type": "markdown",
   "id": "a6a75b54",
   "metadata": {},
   "source": [
    "### Create subsets of dataframe (for Version A and B, and for each worker for Version A and B) "
   ]
  },
  {
   "cell_type": "code",
   "execution_count": 44,
   "id": "50754c1e",
   "metadata": {},
   "outputs": [],
   "source": [
    "dfA1 = dfPruned.loc[(dfPruned[\"workerId\"] == \"w1-vA\")]\n",
    "dfA2 = dfPruned.loc[(dfPruned[\"workerId\"] == \"w2-vA\")]\n",
    "dfA3 = dfPruned.loc[(dfPruned[\"workerId\"] == \"w3-vA\")]\n",
    "dfB1 = dfPruned.loc[(dfPruned[\"workerId\"] == \"w1-vB\")]\n",
    "dfB2 = dfPruned.loc[(dfPruned[\"workerId\"] == \"w2-vB\")]\n",
    "dfB3 = dfPruned.loc[(dfPruned[\"workerId\"] == \"w3-vB\")]\n",
    "dfA = dfPruned.loc[(dfPruned[\"workerId\"] == \"w1-vA\") | (dfPruned[\"workerId\"] == \"w2-vA\") | (dfPruned[\"workerId\"] == \"w3-vA\")]\n",
    "dfB = dfPruned.loc[(dfPruned[\"workerId\"] == \"w1-vB\") | (dfPruned[\"workerId\"] == \"w2-vB\") | (dfPruned[\"workerId\"] == \"w3-vB\")]\n",
    "dfARaw = df.loc[(df[\"workerId\"] == \"w1-vA\") | (df[\"workerId\"] == \"w2-vA\") | (df[\"workerId\"] == \"w3-vA\")]\n",
    "dfBRaw = df.loc[(df[\"workerId\"] == \"w1-vB\") | (df[\"workerId\"] == \"w2-vB\") | (df[\"workerId\"] == \"w3-vB\")]\n",
    "dfR1 = df.loc[(df[\"target-region\"] == \"europe-west1\")]\n",
    "dfR2 = df.loc[(df[\"target-region\"] == \"europe-west2\")]\n",
    "dfR3 = df.loc[(df[\"target-region\"] == \"europe-west3\")]\n",
    "dfAUpdate = dfA.loc[(dfA[\"queryType\"] == \"UPDATE\")]\n",
    "dfBUpdate = dfB.loc[(dfB[\"queryType\"] == \"UPDATE\")]\n",
    "dfARead = dfA.loc[(dfA[\"queryType\"] == \"SELECT\")]\n",
    "dfBRead = dfB.loc[(dfB[\"queryType\"] == \"SELECT\")]"
   ]
  },
  {
   "cell_type": "code",
   "execution_count": 45,
   "id": "30e4ad97",
   "metadata": {},
   "outputs": [
    {
     "data": {
      "text/html": [
       "<div>\n",
       "<style scoped>\n",
       "    .dataframe tbody tr th:only-of-type {\n",
       "        vertical-align: middle;\n",
       "    }\n",
       "\n",
       "    .dataframe tbody tr th {\n",
       "        vertical-align: top;\n",
       "    }\n",
       "\n",
       "    .dataframe thead th {\n",
       "        text-align: right;\n",
       "    }\n",
       "</style>\n",
       "<table border=\"1\" class=\"dataframe\">\n",
       "  <thead>\n",
       "    <tr style=\"text-align: right;\">\n",
       "      <th></th>\n",
       "      <th>queryId</th>\n",
       "      <th>sent</th>\n",
       "      <th>received</th>\n",
       "      <th>latency_ms</th>\n",
       "      <th>sent_ms</th>\n",
       "      <th>received_ms</th>\n",
       "      <th>sent_sec</th>\n",
       "    </tr>\n",
       "  </thead>\n",
       "  <tbody>\n",
       "    <tr>\n",
       "      <th>count</th>\n",
       "      <td>1000000.000000</td>\n",
       "      <td>1.000000e+06</td>\n",
       "      <td>1.000000e+06</td>\n",
       "      <td>1000000.000000</td>\n",
       "      <td>1.000000e+06</td>\n",
       "      <td>1.000000e+06</td>\n",
       "      <td>1000000.000000</td>\n",
       "    </tr>\n",
       "    <tr>\n",
       "      <th>mean</th>\n",
       "      <td>499999.500000</td>\n",
       "      <td>1.283770e+12</td>\n",
       "      <td>1.283777e+12</td>\n",
       "      <td>7.324970</td>\n",
       "      <td>1.283770e+06</td>\n",
       "      <td>1.283777e+06</td>\n",
       "      <td>344.946003</td>\n",
       "    </tr>\n",
       "    <tr>\n",
       "      <th>std</th>\n",
       "      <td>288675.278932</td>\n",
       "      <td>2.192349e+11</td>\n",
       "      <td>2.192345e+11</td>\n",
       "      <td>33.513974</td>\n",
       "      <td>2.192349e+05</td>\n",
       "      <td>2.192345e+05</td>\n",
       "      <td>219.234917</td>\n",
       "    </tr>\n",
       "    <tr>\n",
       "      <th>min</th>\n",
       "      <td>0.000000</td>\n",
       "      <td>9.388238e+11</td>\n",
       "      <td>9.389158e+11</td>\n",
       "      <td>0.473249</td>\n",
       "      <td>9.388238e+05</td>\n",
       "      <td>9.389158e+05</td>\n",
       "      <td>0.000000</td>\n",
       "    </tr>\n",
       "    <tr>\n",
       "      <th>25%</th>\n",
       "      <td>249999.750000</td>\n",
       "      <td>1.075615e+12</td>\n",
       "      <td>1.075623e+12</td>\n",
       "      <td>1.466916</td>\n",
       "      <td>1.075615e+06</td>\n",
       "      <td>1.075623e+06</td>\n",
       "      <td>136.790799</td>\n",
       "    </tr>\n",
       "    <tr>\n",
       "      <th>50%</th>\n",
       "      <td>499999.500000</td>\n",
       "      <td>1.269854e+12</td>\n",
       "      <td>1.269859e+12</td>\n",
       "      <td>2.083629</td>\n",
       "      <td>1.269854e+06</td>\n",
       "      <td>1.269859e+06</td>\n",
       "      <td>331.030559</td>\n",
       "    </tr>\n",
       "    <tr>\n",
       "      <th>75%</th>\n",
       "      <td>749999.250000</td>\n",
       "      <td>1.454402e+12</td>\n",
       "      <td>1.454421e+12</td>\n",
       "      <td>3.840424</td>\n",
       "      <td>1.454402e+06</td>\n",
       "      <td>1.454421e+06</td>\n",
       "      <td>515.578262</td>\n",
       "    </tr>\n",
       "    <tr>\n",
       "      <th>max</th>\n",
       "      <td>999999.000000</td>\n",
       "      <td>1.716543e+12</td>\n",
       "      <td>1.716544e+12</td>\n",
       "      <td>1679.034872</td>\n",
       "      <td>1.716543e+06</td>\n",
       "      <td>1.716544e+06</td>\n",
       "      <td>777.719646</td>\n",
       "    </tr>\n",
       "  </tbody>\n",
       "</table>\n",
       "</div>"
      ],
      "text/plain": [
       "              queryId          sent      received      latency_ms  \\\n",
       "count  1000000.000000  1.000000e+06  1.000000e+06  1000000.000000   \n",
       "mean    499999.500000  1.283770e+12  1.283777e+12        7.324970   \n",
       "std     288675.278932  2.192349e+11  2.192345e+11       33.513974   \n",
       "min          0.000000  9.388238e+11  9.389158e+11        0.473249   \n",
       "25%     249999.750000  1.075615e+12  1.075623e+12        1.466916   \n",
       "50%     499999.500000  1.269854e+12  1.269859e+12        2.083629   \n",
       "75%     749999.250000  1.454402e+12  1.454421e+12        3.840424   \n",
       "max     999999.000000  1.716543e+12  1.716544e+12     1679.034872   \n",
       "\n",
       "            sent_ms   received_ms        sent_sec  \n",
       "count  1.000000e+06  1.000000e+06  1000000.000000  \n",
       "mean   1.283770e+06  1.283777e+06      344.946003  \n",
       "std    2.192349e+05  2.192345e+05      219.234917  \n",
       "min    9.388238e+05  9.389158e+05        0.000000  \n",
       "25%    1.075615e+06  1.075623e+06      136.790799  \n",
       "50%    1.269854e+06  1.269859e+06      331.030559  \n",
       "75%    1.454402e+06  1.454421e+06      515.578262  \n",
       "max    1.716543e+06  1.716544e+06      777.719646  "
      ]
     },
     "execution_count": 45,
     "metadata": {},
     "output_type": "execute_result"
    }
   ],
   "source": [
    "dfARaw.describe()"
   ]
  },
  {
   "cell_type": "code",
   "execution_count": 46,
   "id": "6e989a6e",
   "metadata": {},
   "outputs": [
    {
     "data": {
      "text/html": [
       "<div>\n",
       "<style scoped>\n",
       "    .dataframe tbody tr th:only-of-type {\n",
       "        vertical-align: middle;\n",
       "    }\n",
       "\n",
       "    .dataframe tbody tr th {\n",
       "        vertical-align: top;\n",
       "    }\n",
       "\n",
       "    .dataframe thead th {\n",
       "        text-align: right;\n",
       "    }\n",
       "</style>\n",
       "<table border=\"1\" class=\"dataframe\">\n",
       "  <thead>\n",
       "    <tr style=\"text-align: right;\">\n",
       "      <th></th>\n",
       "      <th>queryId</th>\n",
       "      <th>sent</th>\n",
       "      <th>received</th>\n",
       "      <th>latency_ms</th>\n",
       "      <th>sent_ms</th>\n",
       "      <th>received_ms</th>\n",
       "      <th>sent_sec</th>\n",
       "    </tr>\n",
       "  </thead>\n",
       "  <tbody>\n",
       "    <tr>\n",
       "      <th>count</th>\n",
       "      <td>1000000.000000</td>\n",
       "      <td>1.000000e+06</td>\n",
       "      <td>1.000000e+06</td>\n",
       "      <td>1000000.000000</td>\n",
       "      <td>1.000000e+06</td>\n",
       "      <td>1.000000e+06</td>\n",
       "      <td>1000000.000000</td>\n",
       "    </tr>\n",
       "    <tr>\n",
       "      <th>mean</th>\n",
       "      <td>499999.500000</td>\n",
       "      <td>1.259290e+12</td>\n",
       "      <td>1.259298e+12</td>\n",
       "      <td>7.122845</td>\n",
       "      <td>1.259290e+06</td>\n",
       "      <td>1.259298e+06</td>\n",
       "      <td>320.466637</td>\n",
       "    </tr>\n",
       "    <tr>\n",
       "      <th>std</th>\n",
       "      <td>288675.278932</td>\n",
       "      <td>1.908850e+11</td>\n",
       "      <td>1.908848e+11</td>\n",
       "      <td>35.305712</td>\n",
       "      <td>1.908850e+05</td>\n",
       "      <td>1.908848e+05</td>\n",
       "      <td>190.884992</td>\n",
       "    </tr>\n",
       "    <tr>\n",
       "      <th>min</th>\n",
       "      <td>0.000000</td>\n",
       "      <td>9.388289e+11</td>\n",
       "      <td>9.388816e+11</td>\n",
       "      <td>0.485129</td>\n",
       "      <td>9.388289e+05</td>\n",
       "      <td>9.388816e+05</td>\n",
       "      <td>0.005050</td>\n",
       "    </tr>\n",
       "    <tr>\n",
       "      <th>25%</th>\n",
       "      <td>249999.750000</td>\n",
       "      <td>1.077616e+12</td>\n",
       "      <td>1.077621e+12</td>\n",
       "      <td>1.341151</td>\n",
       "      <td>1.077616e+06</td>\n",
       "      <td>1.077621e+06</td>\n",
       "      <td>138.791813</td>\n",
       "    </tr>\n",
       "    <tr>\n",
       "      <th>50%</th>\n",
       "      <td>499999.500000</td>\n",
       "      <td>1.263591e+12</td>\n",
       "      <td>1.263593e+12</td>\n",
       "      <td>1.883030</td>\n",
       "      <td>1.263591e+06</td>\n",
       "      <td>1.263593e+06</td>\n",
       "      <td>324.767069</td>\n",
       "    </tr>\n",
       "    <tr>\n",
       "      <th>75%</th>\n",
       "      <td>749999.250000</td>\n",
       "      <td>1.408425e+12</td>\n",
       "      <td>1.408434e+12</td>\n",
       "      <td>3.653334</td>\n",
       "      <td>1.408425e+06</td>\n",
       "      <td>1.408434e+06</td>\n",
       "      <td>469.601215</td>\n",
       "    </tr>\n",
       "    <tr>\n",
       "      <th>max</th>\n",
       "      <td>999999.000000</td>\n",
       "      <td>1.650558e+12</td>\n",
       "      <td>1.650559e+12</td>\n",
       "      <td>2010.080914</td>\n",
       "      <td>1.650558e+06</td>\n",
       "      <td>1.650559e+06</td>\n",
       "      <td>711.733716</td>\n",
       "    </tr>\n",
       "  </tbody>\n",
       "</table>\n",
       "</div>"
      ],
      "text/plain": [
       "              queryId          sent      received      latency_ms  \\\n",
       "count  1000000.000000  1.000000e+06  1.000000e+06  1000000.000000   \n",
       "mean    499999.500000  1.259290e+12  1.259298e+12        7.122845   \n",
       "std     288675.278932  1.908850e+11  1.908848e+11       35.305712   \n",
       "min          0.000000  9.388289e+11  9.388816e+11        0.485129   \n",
       "25%     249999.750000  1.077616e+12  1.077621e+12        1.341151   \n",
       "50%     499999.500000  1.263591e+12  1.263593e+12        1.883030   \n",
       "75%     749999.250000  1.408425e+12  1.408434e+12        3.653334   \n",
       "max     999999.000000  1.650558e+12  1.650559e+12     2010.080914   \n",
       "\n",
       "            sent_ms   received_ms        sent_sec  \n",
       "count  1.000000e+06  1.000000e+06  1000000.000000  \n",
       "mean   1.259290e+06  1.259298e+06      320.466637  \n",
       "std    1.908850e+05  1.908848e+05      190.884992  \n",
       "min    9.388289e+05  9.388816e+05        0.005050  \n",
       "25%    1.077616e+06  1.077621e+06      138.791813  \n",
       "50%    1.263591e+06  1.263593e+06      324.767069  \n",
       "75%    1.408425e+06  1.408434e+06      469.601215  \n",
       "max    1.650558e+06  1.650559e+06      711.733716  "
      ]
     },
     "execution_count": 46,
     "metadata": {},
     "output_type": "execute_result"
    }
   ],
   "source": [
    "dfBRaw.describe()"
   ]
  },
  {
   "cell_type": "code",
   "execution_count": 47,
   "id": "5a83a254",
   "metadata": {},
   "outputs": [
    {
     "data": {
      "text/html": [
       "<div>\n",
       "<style scoped>\n",
       "    .dataframe tbody tr th:only-of-type {\n",
       "        vertical-align: middle;\n",
       "    }\n",
       "\n",
       "    .dataframe tbody tr th {\n",
       "        vertical-align: top;\n",
       "    }\n",
       "\n",
       "    .dataframe thead th {\n",
       "        text-align: right;\n",
       "    }\n",
       "</style>\n",
       "<table border=\"1\" class=\"dataframe\">\n",
       "  <thead>\n",
       "    <tr style=\"text-align: right;\">\n",
       "      <th></th>\n",
       "      <th>queryId</th>\n",
       "      <th>sent</th>\n",
       "      <th>received</th>\n",
       "      <th>latency_ms</th>\n",
       "      <th>sent_ms</th>\n",
       "      <th>received_ms</th>\n",
       "      <th>sent_sec</th>\n",
       "    </tr>\n",
       "  </thead>\n",
       "  <tbody>\n",
       "    <tr>\n",
       "      <th>count</th>\n",
       "      <td>381957.000000</td>\n",
       "      <td>3.819570e+05</td>\n",
       "      <td>3.819570e+05</td>\n",
       "      <td>381957.000000</td>\n",
       "      <td>3.819570e+05</td>\n",
       "      <td>3.819570e+05</td>\n",
       "      <td>381957.000000</td>\n",
       "    </tr>\n",
       "    <tr>\n",
       "      <th>mean</th>\n",
       "      <td>515434.063465</td>\n",
       "      <td>1.274899e+12</td>\n",
       "      <td>1.274907e+12</td>\n",
       "      <td>8.100610</td>\n",
       "      <td>1.274899e+06</td>\n",
       "      <td>1.274907e+06</td>\n",
       "      <td>336.074912</td>\n",
       "    </tr>\n",
       "    <tr>\n",
       "      <th>std</th>\n",
       "      <td>285721.807479</td>\n",
       "      <td>7.712855e+10</td>\n",
       "      <td>7.712799e+10</td>\n",
       "      <td>40.444578</td>\n",
       "      <td>7.712855e+04</td>\n",
       "      <td>7.712799e+04</td>\n",
       "      <td>77.128554</td>\n",
       "    </tr>\n",
       "    <tr>\n",
       "      <th>min</th>\n",
       "      <td>48624.000000</td>\n",
       "      <td>1.138868e+12</td>\n",
       "      <td>1.138872e+12</td>\n",
       "      <td>0.512270</td>\n",
       "      <td>1.138868e+06</td>\n",
       "      <td>1.138872e+06</td>\n",
       "      <td>200.043889</td>\n",
       "    </tr>\n",
       "    <tr>\n",
       "      <th>25%</th>\n",
       "      <td>301062.000000</td>\n",
       "      <td>1.207656e+12</td>\n",
       "      <td>1.207667e+12</td>\n",
       "      <td>1.378394</td>\n",
       "      <td>1.207656e+06</td>\n",
       "      <td>1.207667e+06</td>\n",
       "      <td>268.832486</td>\n",
       "    </tr>\n",
       "    <tr>\n",
       "      <th>50%</th>\n",
       "      <td>551625.000000</td>\n",
       "      <td>1.275431e+12</td>\n",
       "      <td>1.275440e+12</td>\n",
       "      <td>1.776480</td>\n",
       "      <td>1.275431e+06</td>\n",
       "      <td>1.275440e+06</td>\n",
       "      <td>336.607335</td>\n",
       "    </tr>\n",
       "    <tr>\n",
       "      <th>75%</th>\n",
       "      <td>803172.000000</td>\n",
       "      <td>1.337597e+12</td>\n",
       "      <td>1.337600e+12</td>\n",
       "      <td>2.643649</td>\n",
       "      <td>1.337597e+06</td>\n",
       "      <td>1.337600e+06</td>\n",
       "      <td>398.773592</td>\n",
       "    </tr>\n",
       "    <tr>\n",
       "      <th>max</th>\n",
       "      <td>999998.000000</td>\n",
       "      <td>1.416519e+12</td>\n",
       "      <td>1.416650e+12</td>\n",
       "      <td>1679.034872</td>\n",
       "      <td>1.416519e+06</td>\n",
       "      <td>1.416650e+06</td>\n",
       "      <td>477.695177</td>\n",
       "    </tr>\n",
       "  </tbody>\n",
       "</table>\n",
       "</div>"
      ],
      "text/plain": [
       "             queryId          sent      received     latency_ms       sent_ms  \\\n",
       "count  381957.000000  3.819570e+05  3.819570e+05  381957.000000  3.819570e+05   \n",
       "mean   515434.063465  1.274899e+12  1.274907e+12       8.100610  1.274899e+06   \n",
       "std    285721.807479  7.712855e+10  7.712799e+10      40.444578  7.712855e+04   \n",
       "min     48624.000000  1.138868e+12  1.138872e+12       0.512270  1.138868e+06   \n",
       "25%    301062.000000  1.207656e+12  1.207667e+12       1.378394  1.207656e+06   \n",
       "50%    551625.000000  1.275431e+12  1.275440e+12       1.776480  1.275431e+06   \n",
       "75%    803172.000000  1.337597e+12  1.337600e+12       2.643649  1.337597e+06   \n",
       "max    999998.000000  1.416519e+12  1.416650e+12    1679.034872  1.416519e+06   \n",
       "\n",
       "        received_ms       sent_sec  \n",
       "count  3.819570e+05  381957.000000  \n",
       "mean   1.274907e+06     336.074912  \n",
       "std    7.712799e+04      77.128554  \n",
       "min    1.138872e+06     200.043889  \n",
       "25%    1.207667e+06     268.832486  \n",
       "50%    1.275440e+06     336.607335  \n",
       "75%    1.337600e+06     398.773592  \n",
       "max    1.416650e+06     477.695177  "
      ]
     },
     "execution_count": 47,
     "metadata": {},
     "output_type": "execute_result"
    }
   ],
   "source": [
    "dfA.describe()"
   ]
  },
  {
   "cell_type": "code",
   "execution_count": 48,
   "id": "6358e296",
   "metadata": {},
   "outputs": [
    {
     "data": {
      "text/html": [
       "<div>\n",
       "<style scoped>\n",
       "    .dataframe tbody tr th:only-of-type {\n",
       "        vertical-align: middle;\n",
       "    }\n",
       "\n",
       "    .dataframe tbody tr th {\n",
       "        vertical-align: top;\n",
       "    }\n",
       "\n",
       "    .dataframe thead th {\n",
       "        text-align: right;\n",
       "    }\n",
       "</style>\n",
       "<table border=\"1\" class=\"dataframe\">\n",
       "  <thead>\n",
       "    <tr style=\"text-align: right;\">\n",
       "      <th></th>\n",
       "      <th>queryId</th>\n",
       "      <th>sent</th>\n",
       "      <th>received</th>\n",
       "      <th>latency_ms</th>\n",
       "      <th>sent_ms</th>\n",
       "      <th>received_ms</th>\n",
       "      <th>sent_sec</th>\n",
       "    </tr>\n",
       "  </thead>\n",
       "  <tbody>\n",
       "    <tr>\n",
       "      <th>count</th>\n",
       "      <td>442753.000000</td>\n",
       "      <td>4.427530e+05</td>\n",
       "      <td>4.427530e+05</td>\n",
       "      <td>442753.000000</td>\n",
       "      <td>4.427530e+05</td>\n",
       "      <td>4.427530e+05</td>\n",
       "      <td>442753.000000</td>\n",
       "    </tr>\n",
       "    <tr>\n",
       "      <th>mean</th>\n",
       "      <td>518989.097409</td>\n",
       "      <td>1.285948e+12</td>\n",
       "      <td>1.285956e+12</td>\n",
       "      <td>7.469916</td>\n",
       "      <td>1.285948e+06</td>\n",
       "      <td>1.285956e+06</td>\n",
       "      <td>347.124251</td>\n",
       "    </tr>\n",
       "    <tr>\n",
       "      <th>std</th>\n",
       "      <td>282486.357394</td>\n",
       "      <td>8.098573e+10</td>\n",
       "      <td>8.098489e+10</td>\n",
       "      <td>41.172896</td>\n",
       "      <td>8.098573e+04</td>\n",
       "      <td>8.098489e+04</td>\n",
       "      <td>80.985725</td>\n",
       "    </tr>\n",
       "    <tr>\n",
       "      <th>min</th>\n",
       "      <td>74922.000000</td>\n",
       "      <td>1.138824e+12</td>\n",
       "      <td>1.138825e+12</td>\n",
       "      <td>0.504710</td>\n",
       "      <td>1.138824e+06</td>\n",
       "      <td>1.138825e+06</td>\n",
       "      <td>200.000220</td>\n",
       "    </tr>\n",
       "    <tr>\n",
       "      <th>25%</th>\n",
       "      <td>329686.000000</td>\n",
       "      <td>1.215950e+12</td>\n",
       "      <td>1.215955e+12</td>\n",
       "      <td>1.283938</td>\n",
       "      <td>1.215950e+06</td>\n",
       "      <td>1.215955e+06</td>\n",
       "      <td>277.126165</td>\n",
       "    </tr>\n",
       "    <tr>\n",
       "      <th>50%</th>\n",
       "      <td>578836.000000</td>\n",
       "      <td>1.290364e+12</td>\n",
       "      <td>1.290366e+12</td>\n",
       "      <td>1.640376</td>\n",
       "      <td>1.290364e+06</td>\n",
       "      <td>1.290366e+06</td>\n",
       "      <td>351.540057</td>\n",
       "    </tr>\n",
       "    <tr>\n",
       "      <th>75%</th>\n",
       "      <td>749573.000000</td>\n",
       "      <td>1.359611e+12</td>\n",
       "      <td>1.359615e+12</td>\n",
       "      <td>2.361917</td>\n",
       "      <td>1.359611e+06</td>\n",
       "      <td>1.359615e+06</td>\n",
       "      <td>420.786704</td>\n",
       "    </tr>\n",
       "    <tr>\n",
       "      <th>max</th>\n",
       "      <td>999998.000000</td>\n",
       "      <td>1.416543e+12</td>\n",
       "      <td>1.416652e+12</td>\n",
       "      <td>2010.080914</td>\n",
       "      <td>1.416543e+06</td>\n",
       "      <td>1.416652e+06</td>\n",
       "      <td>477.718938</td>\n",
       "    </tr>\n",
       "  </tbody>\n",
       "</table>\n",
       "</div>"
      ],
      "text/plain": [
       "             queryId          sent      received     latency_ms       sent_ms  \\\n",
       "count  442753.000000  4.427530e+05  4.427530e+05  442753.000000  4.427530e+05   \n",
       "mean   518989.097409  1.285948e+12  1.285956e+12       7.469916  1.285948e+06   \n",
       "std    282486.357394  8.098573e+10  8.098489e+10      41.172896  8.098573e+04   \n",
       "min     74922.000000  1.138824e+12  1.138825e+12       0.504710  1.138824e+06   \n",
       "25%    329686.000000  1.215950e+12  1.215955e+12       1.283938  1.215950e+06   \n",
       "50%    578836.000000  1.290364e+12  1.290366e+12       1.640376  1.290364e+06   \n",
       "75%    749573.000000  1.359611e+12  1.359615e+12       2.361917  1.359611e+06   \n",
       "max    999998.000000  1.416543e+12  1.416652e+12    2010.080914  1.416543e+06   \n",
       "\n",
       "        received_ms       sent_sec  \n",
       "count  4.427530e+05  442753.000000  \n",
       "mean   1.285956e+06     347.124251  \n",
       "std    8.098489e+04      80.985725  \n",
       "min    1.138825e+06     200.000220  \n",
       "25%    1.215955e+06     277.126165  \n",
       "50%    1.290366e+06     351.540057  \n",
       "75%    1.359615e+06     420.786704  \n",
       "max    1.416652e+06     477.718938  "
      ]
     },
     "execution_count": 48,
     "metadata": {},
     "output_type": "execute_result"
    }
   ],
   "source": [
    "dfB.describe()"
   ]
  },
  {
   "cell_type": "markdown",
   "id": "67daee59",
   "metadata": {},
   "source": [
    "### Calculate Percentiles"
   ]
  },
  {
   "cell_type": "code",
   "execution_count": 49,
   "id": "7e446ce8",
   "metadata": {},
   "outputs": [
    {
     "name": "stdout",
     "output_type": "stream",
     "text": [
      "90% percentile versionA -->  0.9    5.451943\n",
      "Name: latency_ms, dtype: float64 \n",
      "99% percentile Version A -->  0.99    168.705225\n",
      "Name: latency_ms, dtype: float64\n"
     ]
    }
   ],
   "source": [
    "ninetyA = dfA[\"latency_ms\"].dropna().quantile([.9])\n",
    "ninetynineA = dfA[\"latency_ms\"].dropna().quantile([.99])\n",
    "print(\"90% percentile versionA --> \", ninetyA, \"\\n99% percentile Version A --> \", ninetynineA)\n"
   ]
  },
  {
   "cell_type": "code",
   "execution_count": 50,
   "id": "8ff51f30",
   "metadata": {},
   "outputs": [
    {
     "name": "stdout",
     "output_type": "stream",
     "text": [
      "90% percentile versionA -->  0.9    4.801353\n",
      "Name: latency_ms, dtype: float64 \n",
      "99% percentile Version A -->  0.99    150.990992\n",
      "Name: latency_ms, dtype: float64\n"
     ]
    }
   ],
   "source": [
    "ninetyB = dfB[\"latency_ms\"].dropna().quantile([.9])\n",
    "ninetynineB = dfB[\"latency_ms\"].dropna().quantile([.99])\n",
    "print(\"90% percentile versionA --> \", ninetyB, \"\\n99% percentile Version A --> \", ninetynineB)"
   ]
  },
  {
   "cell_type": "markdown",
   "id": "9467581b",
   "metadata": {},
   "source": [
    "### Min. Latencies for Worker 2 (A & B)"
   ]
  },
  {
   "cell_type": "code",
   "execution_count": 51,
   "id": "a6d0c80a",
   "metadata": {},
   "outputs": [
    {
     "data": {
      "text/plain": [
       "workerId                  w2-vA\n",
       "queryType                INSERT\n",
       "queryId                  593932\n",
       "sent              1222474731858\n",
       "received          1222475244128\n",
       "target-region      europe-west2\n",
       "latency_ms              0.51227\n",
       "sent_ms          1222474.731858\n",
       "received_ms      1222475.244128\n",
       "sent_sec             283.650915\n",
       "Name: 925669, dtype: object"
      ]
     },
     "execution_count": 51,
     "metadata": {},
     "output_type": "execute_result"
    }
   ],
   "source": [
    "dfA2.loc[dfA2[\"latency_ms\"].idxmin()]"
   ]
  },
  {
   "cell_type": "code",
   "execution_count": 52,
   "id": "c7c47c98",
   "metadata": {},
   "outputs": [
    {
     "data": {
      "text/plain": [
       "workerId                  w1-vB\n",
       "queryType                INSERT\n",
       "queryId                  637356\n",
       "sent              1370888177092\n",
       "received          1370888812526\n",
       "target-region      europe-west1\n",
       "latency_ms             0.635434\n",
       "sent_ms          1370888.177092\n",
       "received_ms      1370888.812526\n",
       "sent_sec              432.06436\n",
       "Name: 306203, dtype: object"
      ]
     },
     "execution_count": 52,
     "metadata": {},
     "output_type": "execute_result"
    }
   ],
   "source": [
    "dfB1.loc[dfB1[\"latency_ms\"].idxmin()]"
   ]
  },
  {
   "cell_type": "code",
   "execution_count": 53,
   "id": "b866ce25",
   "metadata": {},
   "outputs": [
    {
     "data": {
      "text/plain": [
       "0"
      ]
     },
     "execution_count": 53,
     "metadata": {},
     "output_type": "execute_result"
    }
   ],
   "source": [
    "df[df.received == 999999999999999999].shape[0]\n"
   ]
  },
  {
   "cell_type": "markdown",
   "id": "c7926d67",
   "metadata": {},
   "source": [
    "### Some checks"
   ]
  },
  {
   "cell_type": "markdown",
   "id": "f4d9c4a2",
   "metadata": {},
   "source": [
    "#### Time difference in ms when first query was sent by worker-1 to Version A and B "
   ]
  },
  {
   "cell_type": "code",
   "execution_count": 54,
   "id": "61fe0605",
   "metadata": {},
   "outputs": [
    {
     "data": {
      "text/plain": [
       "248529425"
      ]
     },
     "execution_count": 54,
     "metadata": {},
     "output_type": "execute_result"
    }
   ],
   "source": [
    "\n",
    "dfA2[\"sent\"].min() - dfB2[\"sent\"].min()"
   ]
  },
  {
   "cell_type": "markdown",
   "id": "676b17ce",
   "metadata": {},
   "source": [
    "#### Time difference in ms when last query was sent by worker-1 to Version A and B "
   ]
  },
  {
   "cell_type": "code",
   "execution_count": 55,
   "id": "234a1c20",
   "metadata": {},
   "outputs": [
    {
     "data": {
      "text/plain": [
       "-137318508"
      ]
     },
     "execution_count": 55,
     "metadata": {},
     "output_type": "execute_result"
    }
   ],
   "source": [
    "dfA1[\"sent\"].max() - dfB1[\"sent\"].max() \n"
   ]
  },
  {
   "cell_type": "markdown",
   "id": "74abe57d",
   "metadata": {},
   "source": [
    "## Create Figures "
   ]
  },
  {
   "cell_type": "markdown",
   "id": "2a090a7b",
   "metadata": {},
   "source": [
    "### Create Boxplots"
   ]
  },
  {
   "cell_type": "code",
   "execution_count": 56,
   "id": "58a49efa",
   "metadata": {},
   "outputs": [
    {
     "name": "stdout",
     "output_type": "stream",
     "text": [
      "381957\n"
     ]
    }
   ],
   "source": [
    "sns.set_theme(style=\"darkgrid\")\n",
    "print(len(dfA))"
   ]
  },
  {
   "cell_type": "code",
   "execution_count": 57,
   "id": "4f8631c8",
   "metadata": {},
   "outputs": [
    {
     "data": {
      "image/png": "[encoded data removed]",
      "text/plain": [
       "<Figure size 432x288 with 1 Axes>"
      ]
     },
     "metadata": {},
     "output_type": "display_data"
    }
   ],
   "source": [
    "\n",
    "combined_dfs = pd.DataFrame({versionA: dfA['latency_ms'],\n",
    "                             versionB: dfB['latency_ms']})\n",
    "                             \n",
    "sns.set_style('white')\n",
    "sns.set_context('notebook', font_scale=2.0)\n",
    "\n",
    "box_plot = sns.boxplot(data=combined_dfs, color='white', showfliers=False, whis=1.5,palette=\"vlag\").set_title(phase)\n",
    "\n",
    "\n",
    "\n",
    "\n",
    "ax = box_plot.axes\n",
    "ax.set_ylabel(\"Latency in ms\")\n",
    "lines = ax.get_lines()\n",
    "\n",
    "categories = ax.get_xticks()\n",
    "\n",
    "for i in range(0,5):\n",
    "    for cat in categories:\n",
    "\n",
    "        y = round(lines[(i+cat*5)].get_ydata()[0],2) \n",
    "\n",
    "        ax.text(\n",
    "            cat, \n",
    "            y, \n",
    "            f'{y}', \n",
    "            ha='center', \n",
    "            va='center', \n",
    "            fontweight='bold', \n",
    "            size=20,\n",
    "            color='white',\n",
    "            bbox=dict(facecolor='#445A64'))\n",
    "\n",
    "\n",
    "sns.despine()\n",
    "\n"
   ]
  },
  {
   "cell_type": "code",
   "execution_count": 58,
   "id": "fdc5484a",
   "metadata": {},
   "outputs": [
    {
     "name": "stdout",
     "output_type": "stream",
     "text": [
      "2000000\n"
     ]
    }
   ],
   "source": [
    "sns.set_context(\"notebook\")\n",
    "sns.set(rc={'figure.figsize':(30,8)})\n",
    "print(len(df))"
   ]
  },
  {
   "cell_type": "markdown",
   "id": "73a18cbb",
   "metadata": {},
   "source": [
    "### Create Lineplot comparing latencies of Version A and B"
   ]
  },
  {
   "cell_type": "code",
   "execution_count": null,
   "id": "53bcd3e2",
   "metadata": {
    "scrolled": false
   },
   "outputs": [
    {
     "name": "stderr",
     "output_type": "stream",
     "text": [
      "C:\\Users\\Felix Medicus\\AppData\\Local\\Temp\\ipykernel_16072\\3440065847.py:3: SettingWithCopyWarning: \n",
      "A value is trying to be set on a copy of a slice from a DataFrame.\n",
      "Try using .loc[row_indexer,col_indexer] = value instead\n",
      "\n",
      "See the caveats in the documentation: https://pandas.pydata.org/pandas-docs/stable/user_guide/indexing.html#returning-a-view-versus-a-copy\n",
      "  subchartA[\"100sec_average\"] = subchartA.latency_ms.rolling(5000).mean().shift(-2500)\n",
      "C:\\Users\\Felix Medicus\\AppData\\Local\\Temp\\ipykernel_16072\\3440065847.py:4: SettingWithCopyWarning: \n",
      "A value is trying to be set on a copy of a slice from a DataFrame.\n",
      "Try using .loc[row_indexer,col_indexer] = value instead\n",
      "\n",
      "See the caveats in the documentation: https://pandas.pydata.org/pandas-docs/stable/user_guide/indexing.html#returning-a-view-versus-a-copy\n",
      "  subchartB[\"100sec_average\"] = subchartB.latency_ms.rolling(5000).mean().shift(-2500)\n"
     ]
    }
   ],
   "source": [
    "subchartA = dfARaw[['sent_sec', 'latency_ms']]\n",
    "subchartB = dfBRaw[['sent_sec', 'latency_ms']]\n",
    "subchartA[\"100sec_average\"] = subchartA.latency_ms.rolling(5000).mean().shift(-2500)\n",
    "subchartB[\"100sec_average\"] = subchartB.latency_ms.rolling(5000).mean().shift(-2500)\n",
    "\n",
    "p = sns.lineplot(data=subchartA, x=\"sent_sec\", y=\"100sec_average\", linewidth=0.25)\n",
    "title =  phase + \" \" + workloadLoad  if phase==\"Run\" else phase\n",
    "sns.lineplot(data=subchartB, x='sent_sec',y='100sec_average', linewidth=0.25).set_title(title)\n",
    "p.set_xlabel(\"Seconds\");\n",
    "p.set_ylabel(\"Latency in ms\");\n"
   ]
  },
  {
   "cell_type": "code",
   "execution_count": null,
   "id": "f9cf8960",
   "metadata": {},
   "outputs": [],
   "source": [
    "subchartA = dfA[['sent_sec', 'latency_ms']]\n",
    "subchartB = dfB[['sent_sec', 'latency_ms']]\n",
    "subchartA[\"100sec_average\"] = subchartA.latency_ms.rolling(5000).mean().shift(-2500)\n",
    "subchartB[\"100sec_average\"] = subchartB.latency_ms.rolling(5000).mean().shift(-2500)\n",
    "\n",
    "p = sns.lineplot(data=subchartA, x=\"sent_sec\", y=\"100sec_average\", linewidth=0.25)\n",
    "title =  phase + \" \" + workloadLoad  if phase==\"Run\" else phase\n",
    "sns.lineplot(data=subchartB, x='sent_sec',y='100sec_average', linewidth=0.25).set_title(title)\n",
    "p.set_xlabel(\"Seconds\");\n",
    "p.set_ylabel(\"Latency in ms\");"
   ]
  },
  {
   "cell_type": "code",
   "execution_count": null,
   "id": "4ba5c19b",
   "metadata": {},
   "outputs": [],
   "source": [
    "dfAr1Read = dfA1.loc[(dfA1[\"queryType\"] == \"SELECT\")]\n",
    "dfAr2Read = dfA2.loc[(dfA2[\"queryType\"] == \"SELECT\")]\n",
    "dfAr3Read = dfA3.loc[(dfA3[\"queryType\"] == \"SELECT\")]\n",
    "dfBr1Read = dfB1.loc[(dfB1[\"queryType\"] == \"SELECT\")]\n",
    "dfBr2Read = dfB2.loc[(dfB2[\"queryType\"] == \"SELECT\")]\n",
    "dfBr3Read = dfB3.loc[(dfB3[\"queryType\"] == \"SELECT\")]\n",
    "dfAr1Update = dfA1.loc[(dfA1[\"queryType\"] == \"UPDATE\")]\n",
    "dfAr2Update = dfA2.loc[(dfA2[\"queryType\"] == \"UPDATE\")]\n",
    "dfAr3Update = dfA3.loc[(dfA3[\"queryType\"] == \"UPDATE\")]\n",
    "dfBr1Update = dfB1.loc[(dfB1[\"queryType\"] == \"UPDATE\")]\n",
    "dfBr2Update = dfB2.loc[(dfB2[\"queryType\"] == \"UPDATE\")]\n",
    "dfBr3Update = dfB3.loc[(dfB3[\"queryType\"] == \"UPDATE\")]"
   ]
  },
  {
   "cell_type": "code",
   "execution_count": null,
   "id": "94a09ed8",
   "metadata": {},
   "outputs": [],
   "source": [
    "subchartA = dfARead[['sent_sec', 'latency_ms']]\n",
    "subchartB = dfBRead[['sent_sec', 'latency_ms']]\n",
    "subchartA[\"100sec_average\"] = subchartA.latency_ms.rolling(5000).mean().shift(-2500)\n",
    "subchartB[\"100sec_average\"] = subchartB.latency_ms.rolling(5000).mean().shift(-2500)\n",
    "\n",
    "p = sns.lineplot(data=subchartA, x=\"sent_sec\", y=\"100sec_average\", linewidth=0.25)\n",
    "title =  phase + \" \" + workloadLoad  if phase==\"Run\" else phase\n",
    "sns.lineplot(data=subchartB, x='sent_sec',y='100sec_average', linewidth=0.25).set_title(title)\n",
    "p.set_xlabel(\"Seconds\");\n",
    "p.set_ylabel(\"Latency in ms\");"
   ]
  },
  {
   "cell_type": "code",
   "execution_count": null,
   "id": "b20e86c2",
   "metadata": {},
   "outputs": [],
   "source": [
    "subchartA = dfAUpdate[['sent_sec', 'latency_ms']]\n",
    "subchartB = dfBUpdate[['sent_sec', 'latency_ms']]\n",
    "subchartA[\"100sec_average\"] = subchartA.latency_ms.rolling(5000).mean().shift(-2500)\n",
    "subchartB[\"100sec_average\"] = subchartB.latency_ms.rolling(5000).mean().shift(-2500)\n",
    "\n",
    "p = sns.lineplot(data=subchartA, x=\"sent_sec\", y=\"100sec_average\", linewidth=0.25)\n",
    "title =  phase + \" \" + workloadLoad  if phase==\"Run\" else phase\n",
    "sns.lineplot(data=subchartB, x='sent_sec',y='100sec_average', linewidth=0.25).set_title(title)\n",
    "p.set_xlabel(\"Seconds\");\n",
    "p.set_ylabel(\"Latency in ms\");"
   ]
  },
  {
   "cell_type": "code",
   "execution_count": null,
   "id": "4193bdd2",
   "metadata": {},
   "outputs": [],
   "source": [
    "dfAUpdate.describe()"
   ]
  },
  {
   "cell_type": "code",
   "execution_count": null,
   "id": "c48f099b",
   "metadata": {},
   "outputs": [],
   "source": [
    "dfBUpdate.describe()"
   ]
  },
  {
   "cell_type": "code",
   "execution_count": null,
   "id": "d2281033",
   "metadata": {},
   "outputs": [],
   "source": [
    "dfARead.describe()"
   ]
  },
  {
   "cell_type": "code",
   "execution_count": null,
   "id": "50b4ad52",
   "metadata": {},
   "outputs": [],
   "source": [
    "dfBRead.describe()"
   ]
  }
 ],
 "metadata": {
  "kernelspec": {
   "display_name": "Python 3 (ipykernel)",
   "language": "python",
   "name": "python3"
  },
  "language_info": {
   "codemirror_mode": {
    "name": "ipython",
    "version": 3
   },
   "file_extension": ".py",
   "mimetype": "text/x-python",
   "name": "python",
   "nbconvert_exporter": "python",
   "pygments_lexer": "ipython3",
   "version": "3.10.4"
  },
  "vscode": {
   "interpreter": {
    "hash": "5928451211728501802e96c7747375e6b0437fee24446b5e678a2827fb4e9f89"
   }
  }
 },
 "nbformat": 4,
 "nbformat_minor": 5
}
