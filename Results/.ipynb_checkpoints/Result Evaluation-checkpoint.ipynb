{
 "cells": [
  {
   "cell_type": "markdown",
   "id": "effbe8fe",
   "metadata": {},
   "source": [
    "# Evaluation Of Duet Benchmarking Results from Distributed Database \"Cassandra\""
   ]
  },
  {
   "cell_type": "markdown",
   "id": "e0294f93",
   "metadata": {},
   "source": [
    "### Imports"
   ]
  },
  {
   "cell_type": "code",
   "execution_count": 19,
   "id": "e4a313ec",
   "metadata": {},
   "outputs": [],
   "source": [
    "import matplotlib.pyplot as plt\n",
    "import numpy as np\n",
    "import seaborn as sns\n",
    "import pandas as pd\n",
    "import os\n",
    "from pathlib import Path"
   ]
  },
  {
   "cell_type": "markdown",
   "id": "eb039afe",
   "metadata": {},
   "source": [
    "### Import Benchmarking Measurements as csv file and create Pandas Dataframe for further Analysis"
   ]
  },
  {
   "cell_type": "code",
   "execution_count": 20,
   "id": "2bae1a82",
   "metadata": {},
   "outputs": [
    {
     "name": "stdout",
     "output_type": "stream",
     "text": [
      "C:\\Users\\Felix Medicus\\Desktop\\Thesis_MCC\\DuetBenchmarking\\Results\n",
      "C:\\Users\\Felix Medicus\\Desktop\\Thesis_MCC\\DuetBenchmarking\\Results\\Results\\100_000ops_3t\\load_measurements.csv\n"
     ]
    }
   ],
   "source": [
    "cwd = Path.cwd()\n",
    "print(cwd)\n",
    "filepath = os.path.join(cwd, \"Results\", \"300_000ops_3t\", \"load_measurements.csv\")\n",
    "print(filepath)\n",
    "df = pd.read_csv(filepath)"
   ]
  },
  {
   "cell_type": "markdown",
   "id": "337c61b0",
   "metadata": {},
   "source": [
    "### Insert latencies in ms into the measurement table"
   ]
  },
  {
   "cell_type": "code",
   "execution_count": 21,
   "id": "15d7d02f",
   "metadata": {},
   "outputs": [],
   "source": [
    "df[\"latency_ms\"] = df[\"received\"]- df[\"sent\"]"
   ]
  },
  {
   "cell_type": "markdown",
   "id": "a6a75b54",
   "metadata": {},
   "source": [
    "### Create subsets of dataframe (for Version A and B, and for each worker for Version A and B) "
   ]
  },
  {
   "cell_type": "code",
   "execution_count": 22,
   "id": "50754c1e",
   "metadata": {},
   "outputs": [],
   "source": [
    "dfA1 = df.loc[(df[\"workerId\"] == \"w1-vA\")]\n",
    "dfA2 = df.loc[(df[\"workerId\"] == \"w2-vA\")]\n",
    "dfA3 = df.loc[(df[\"workerId\"] == \"w3-vA\")]\n",
    "dfB1 = df.loc[(df[\"workerId\"] == \"w1-vB\")]\n",
    "dfB2 = df.loc[(df[\"workerId\"] == \"w2-vB\")]\n",
    "dfB3 = df.loc[(df[\"workerId\"] == \"w3-vB\")]\n",
    "dfA = df.loc[(df[\"workerId\"] == \"w1-vA\") | (df[\"workerId\"] == \"w2-vA\") | (df[\"workerId\"] == \"w3-vA\")]\n",
    "dfB = df.loc[(df[\"workerId\"] == \"w1-vB\") | (df[\"workerId\"] == \"w2-vB\") | (df[\"workerId\"] == \"w3-vB\")]"
   ]
  },
  {
   "cell_type": "markdown",
   "id": "8285fdc6",
   "metadata": {},
   "source": [
    "### Return experiment run time (First request send to last response received)"
   ]
  },
  {
   "cell_type": "code",
   "execution_count": 23,
   "id": "637c658e",
   "metadata": {},
   "outputs": [
    {
     "name": "stdout",
     "output_type": "stream",
     "text": [
      "6.528983333333333 minuten\n"
     ]
    }
   ],
   "source": [
    "totalTime = df[\"received\"].max() - df[\"sent\"].min()\n",
    "print(totalTime/1000/60, \"minuten\")"
   ]
  },
  {
   "cell_type": "code",
   "execution_count": 32,
   "id": "6358e296",
   "metadata": {},
   "outputs": [
    {
     "data": {
      "text/html": [
       "<div>\n",
       "<style scoped>\n",
       "    .dataframe tbody tr th:only-of-type {\n",
       "        vertical-align: middle;\n",
       "    }\n",
       "\n",
       "    .dataframe tbody tr th {\n",
       "        vertical-align: top;\n",
       "    }\n",
       "\n",
       "    .dataframe thead th {\n",
       "        text-align: right;\n",
       "    }\n",
       "</style>\n",
       "<table border=\"1\" class=\"dataframe\">\n",
       "  <thead>\n",
       "    <tr style=\"text-align: right;\">\n",
       "      <th></th>\n",
       "      <th>sent</th>\n",
       "      <th>received</th>\n",
       "      <th>latency_ms</th>\n",
       "    </tr>\n",
       "  </thead>\n",
       "  <tbody>\n",
       "    <tr>\n",
       "      <th>count</th>\n",
       "      <td>3.333400e+04</td>\n",
       "      <td>3.333400e+04</td>\n",
       "      <td>33334.000000</td>\n",
       "    </tr>\n",
       "    <tr>\n",
       "      <th>mean</th>\n",
       "      <td>1.657878e+12</td>\n",
       "      <td>1.657878e+12</td>\n",
       "      <td>34.556669</td>\n",
       "    </tr>\n",
       "    <tr>\n",
       "      <th>std</th>\n",
       "      <td>1.125007e+05</td>\n",
       "      <td>1.125088e+05</td>\n",
       "      <td>49.731792</td>\n",
       "    </tr>\n",
       "    <tr>\n",
       "      <th>min</th>\n",
       "      <td>1.657878e+12</td>\n",
       "      <td>1.657878e+12</td>\n",
       "      <td>3.000000</td>\n",
       "    </tr>\n",
       "    <tr>\n",
       "      <th>25%</th>\n",
       "      <td>1.657878e+12</td>\n",
       "      <td>1.657878e+12</td>\n",
       "      <td>10.000000</td>\n",
       "    </tr>\n",
       "    <tr>\n",
       "      <th>50%</th>\n",
       "      <td>1.657878e+12</td>\n",
       "      <td>1.657878e+12</td>\n",
       "      <td>16.000000</td>\n",
       "    </tr>\n",
       "    <tr>\n",
       "      <th>75%</th>\n",
       "      <td>1.657878e+12</td>\n",
       "      <td>1.657878e+12</td>\n",
       "      <td>33.000000</td>\n",
       "    </tr>\n",
       "    <tr>\n",
       "      <th>max</th>\n",
       "      <td>1.657878e+12</td>\n",
       "      <td>1.657878e+12</td>\n",
       "      <td>753.000000</td>\n",
       "    </tr>\n",
       "  </tbody>\n",
       "</table>\n",
       "</div>"
      ],
      "text/plain": [
       "               sent      received    latency_ms\n",
       "count  3.333400e+04  3.333400e+04  33334.000000\n",
       "mean   1.657878e+12  1.657878e+12     34.556669\n",
       "std    1.125007e+05  1.125088e+05     49.731792\n",
       "min    1.657878e+12  1.657878e+12      3.000000\n",
       "25%    1.657878e+12  1.657878e+12     10.000000\n",
       "50%    1.657878e+12  1.657878e+12     16.000000\n",
       "75%    1.657878e+12  1.657878e+12     33.000000\n",
       "max    1.657878e+12  1.657878e+12    753.000000"
      ]
     },
     "execution_count": 32,
     "metadata": {},
     "output_type": "execute_result"
    }
   ],
   "source": [
    "dfB1.describe()"
   ]
  },
  {
   "cell_type": "markdown",
   "id": "9467581b",
   "metadata": {},
   "source": [
    "### Min. Latencies for Worker 2 (A & B)"
   ]
  },
  {
   "cell_type": "code",
   "execution_count": 24,
   "id": "a6d0c80a",
   "metadata": {},
   "outputs": [
    {
     "data": {
      "text/plain": [
       "workerId                                        w2-vA\n",
       "queryType                                      INSERT\n",
       "queryId          9a5d9496-74ea-4779-b584-096e413d87aa\n",
       "sent                                    1657878165504\n",
       "received                                1657878165507\n",
       "target-region                            europe-west1\n",
       "latency_ms                                          3\n",
       "Name: 89595, dtype: object"
      ]
     },
     "execution_count": 24,
     "metadata": {},
     "output_type": "execute_result"
    }
   ],
   "source": [
    "dfA2.loc[dfA2[\"latency_ms\"].idxmin()]"
   ]
  },
  {
   "cell_type": "code",
   "execution_count": 25,
   "id": "c7c47c98",
   "metadata": {},
   "outputs": [
    {
     "data": {
      "text/plain": [
       "workerId                                        w2-vB\n",
       "queryType                                      INSERT\n",
       "queryId          0f9bb44e-4d1d-42d0-877d-30514cc7a132\n",
       "sent                                    1657878187756\n",
       "received                                1657878187759\n",
       "target-region                            europe-west1\n",
       "latency_ms                                          3\n",
       "Name: 95058, dtype: object"
      ]
     },
     "execution_count": 25,
     "metadata": {},
     "output_type": "execute_result"
    }
   ],
   "source": [
    "dfB2.loc[dfB2[\"latency_ms\"].idxmin()]"
   ]
  },
  {
   "cell_type": "markdown",
   "id": "c7926d67",
   "metadata": {},
   "source": [
    "### Some checks"
   ]
  },
  {
   "cell_type": "markdown",
   "id": "f4d9c4a2",
   "metadata": {},
   "source": [
    "#### Time difference in ms when first query was sent by worker-1 to Version A and B "
   ]
  },
  {
   "cell_type": "code",
   "execution_count": 26,
   "id": "61fe0605",
   "metadata": {},
   "outputs": [
    {
     "data": {
      "text/plain": [
       "-1"
      ]
     },
     "execution_count": 26,
     "metadata": {},
     "output_type": "execute_result"
    }
   ],
   "source": [
    "\n",
    "dfA2[\"sent\"].min() - dfB2[\"sent\"].min()"
   ]
  },
  {
   "cell_type": "markdown",
   "id": "676b17ce",
   "metadata": {},
   "source": [
    "#### Time difference in ms when last query was sent by worker-1 to Version A and B "
   ]
  },
  {
   "cell_type": "code",
   "execution_count": 27,
   "id": "234a1c20",
   "metadata": {},
   "outputs": [
    {
     "data": {
      "text/plain": [
       "-964"
      ]
     },
     "execution_count": 27,
     "metadata": {},
     "output_type": "execute_result"
    }
   ],
   "source": [
    "dfA1[\"sent\"].max() - dfB1[\"sent\"].max() \n"
   ]
  },
  {
   "cell_type": "markdown",
   "id": "74abe57d",
   "metadata": {},
   "source": [
    "## Create Figures "
   ]
  },
  {
   "cell_type": "markdown",
   "id": "2a090a7b",
   "metadata": {},
   "source": [
    "### Create Boxplots"
   ]
  },
  {
   "cell_type": "code",
   "execution_count": 28,
   "id": "58a49efa",
   "metadata": {},
   "outputs": [],
   "source": [
    "sns.set_theme(style=\"darkgrid\")"
   ]
  },
  {
   "cell_type": "code",
   "execution_count": 29,
   "id": "4f8631c8",
   "metadata": {},
   "outputs": [
    {
     "data": {
      "image/png": "[encoded data removed]",
      "text/plain": [
       "<Figure size 432x288 with 1 Axes>"
      ]
     },
     "metadata": {},
     "output_type": "display_data"
    }
   ],
   "source": [
    "ax = plt.boxplot(x=dfA[\"latency_ms\"])\n"
   ]
  },
  {
   "cell_type": "markdown",
   "id": "1ef8d979",
   "metadata": {},
   "source": [
    "### Create Flowchart"
   ]
  },
  {
   "cell_type": "code",
   "execution_count": 30,
   "id": "8058b963",
   "metadata": {},
   "outputs": [
    {
     "data": {
      "text/plain": [
       "<seaborn.axisgrid.FacetGrid at 0x2ba0aa633d0>"
      ]
     },
     "execution_count": 30,
     "metadata": {},
     "output_type": "execute_result"
    },
    {
     "data": {
      "image/png": "[encoded data removed]",
      "text/plain": [
       "<Figure size 360x360 with 1 Axes>"
      ]
     },
     "metadata": {},
     "output_type": "display_data"
    }
   ],
   "source": [
    "sns.lmplot(x='sent', y='latency_ms', data=df, fit_reg=False)"
   ]
  }
 ],
 "metadata": {
  "kernelspec": {
   "display_name": "Python 3 (ipykernel)",
   "language": "python",
   "name": "python3"
  },
  "language_info": {
   "codemirror_mode": {
    "name": "ipython",
    "version": 3
   },
   "file_extension": ".py",
   "mimetype": "text/x-python",
   "name": "python",
   "nbconvert_exporter": "python",
   "pygments_lexer": "ipython3",
   "version": "3.10.4"
  }
 },
 "nbformat": 4,
 "nbformat_minor": 5
}
