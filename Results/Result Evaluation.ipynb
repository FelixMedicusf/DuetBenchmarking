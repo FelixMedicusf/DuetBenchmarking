{
 "cells": [
  {
   "cell_type": "markdown",
   "id": "effbe8fe",
   "metadata": {},
   "source": [
    "# Evaluation Of Duet Benchmarking Results from Distributed Database \"Cassandra\""
   ]
  },
  {
   "cell_type": "markdown",
   "id": "e0294f93",
   "metadata": {},
   "source": [
    "### Imports"
   ]
  },
  {
   "cell_type": "code",
   "execution_count": 134,
   "id": "e4a313ec",
   "metadata": {},
   "outputs": [],
   "source": [
    "import matplotlib.pyplot as plt\n",
    "import numpy as np\n",
    "import seaborn as sns\n",
    "import pandas as pd\n",
    "import os\n",
    "from pathlib import Path"
   ]
  },
  {
   "cell_type": "markdown",
   "id": "eb039afe",
   "metadata": {},
   "source": [
    "### Import Benchmarking Measurements as csv file and create Pandas Dataframe for further Analysis"
   ]
  },
  {
   "cell_type": "code",
   "execution_count": 135,
   "id": "2bae1a82",
   "metadata": {},
   "outputs": [
    {
     "name": "stdout",
     "output_type": "stream",
     "text": [
      "C:\\Users\\Felix Medicus\\Desktop\\Thesis_MCC\\DuetBenchmarking\\Results\n",
      "C:\\Users\\Felix Medicus\\Desktop\\Thesis_MCC\\DuetBenchmarking\\Results\\Results\\200_000ops_3t\\run_measurements.csv\n"
     ]
    }
   ],
   "source": [
    "cwd = Path.cwd()\n",
    "print(cwd)\n",
    "filepath = os.path.join(cwd, \"Results\", \"10_000ops_3t\", \"load_measurements.csv\")\n",
    "print(filepath)\n",
    "df = pd.read_csv(filepath)"
   ]
  },
  {
   "cell_type": "markdown",
   "id": "337c61b0",
   "metadata": {},
   "source": [
    "### Insert latencies in ms into the measurement table"
   ]
  },
  {
   "cell_type": "code",
   "execution_count": 136,
   "id": "15d7d02f",
   "metadata": {},
   "outputs": [],
   "source": [
    "df[\"latency_ms\"] = df[\"received\"]- df[\"sent\"]"
   ]
  },
  {
   "cell_type": "markdown",
   "id": "c9c40381",
   "metadata": {},
   "source": [
    "### Restructure Timeline"
   ]
  },
  {
   "cell_type": "code",
   "execution_count": 137,
   "id": "ca0d2243",
   "metadata": {},
   "outputs": [],
   "source": [
    "firstSent = df[\"sent\"].min()\n",
    "df[\"sent_sec\"] = (df[\"sent\"] - firstSent)/1000"
   ]
  },
  {
   "cell_type": "markdown",
   "id": "19999622",
   "metadata": {},
   "source": [
    "### Create Function to prune Measurements"
   ]
  },
  {
   "cell_type": "code",
   "execution_count": 138,
   "id": "ee3aa619",
   "metadata": {},
   "outputs": [
    {
     "name": "stdout",
     "output_type": "stream",
     "text": [
      "Hello from the other side\n"
     ]
    }
   ],
   "source": [
    "def pruneMeasurements(dataframe): \n",
    "    print(\"Hello from the other side\")\n",
    "    \n",
    "pruneMeasurements(df)\n"
   ]
  },
  {
   "cell_type": "markdown",
   "id": "a6a75b54",
   "metadata": {},
   "source": [
    "### Create subsets of dataframe (for Version A and B, and for each worker for Version A and B) "
   ]
  },
  {
   "cell_type": "code",
   "execution_count": 139,
   "id": "50754c1e",
   "metadata": {},
   "outputs": [],
   "source": [
    "dfA1 = df.loc[(df[\"workerId\"] == \"w1-vA\")]\n",
    "dfA2 = df.loc[(df[\"workerId\"] == \"w2-vA\")]\n",
    "dfA3 = df.loc[(df[\"workerId\"] == \"w3-vA\")]\n",
    "dfB1 = df.loc[(df[\"workerId\"] == \"w1-vB\")]\n",
    "dfB2 = df.loc[(df[\"workerId\"] == \"w2-vB\")]\n",
    "dfB3 = df.loc[(df[\"workerId\"] == \"w3-vB\")]\n",
    "dfA = df.loc[(df[\"workerId\"] == \"w1-vA\") | (df[\"workerId\"] == \"w2-vA\") | (df[\"workerId\"] == \"w3-vA\")]\n",
    "dfB = df.loc[(df[\"workerId\"] == \"w1-vB\") | (df[\"workerId\"] == \"w2-vB\") | (df[\"workerId\"] == \"w3-vB\")]"
   ]
  },
  {
   "cell_type": "markdown",
   "id": "8285fdc6",
   "metadata": {},
   "source": [
    "### Return benchmark run time (First request send to last response received)"
   ]
  },
  {
   "cell_type": "code",
   "execution_count": 140,
   "id": "637c658e",
   "metadata": {},
   "outputs": [
    {
     "name": "stdout",
     "output_type": "stream",
     "text": [
      "1.2737166666666666 minuten\n"
     ]
    }
   ],
   "source": [
    "totalTime = df[\"received\"].max() - df[\"sent\"].min()\n",
    "print(totalTime/1000/60, \"minuten\")"
   ]
  },
  {
   "cell_type": "code",
   "execution_count": 141,
   "id": "5a83a254",
   "metadata": {},
   "outputs": [
    {
     "data": {
      "text/html": [
       "<div>\n",
       "<style scoped>\n",
       "    .dataframe tbody tr th:only-of-type {\n",
       "        vertical-align: middle;\n",
       "    }\n",
       "\n",
       "    .dataframe tbody tr th {\n",
       "        vertical-align: top;\n",
       "    }\n",
       "\n",
       "    .dataframe thead th {\n",
       "        text-align: right;\n",
       "    }\n",
       "</style>\n",
       "<table border=\"1\" class=\"dataframe\">\n",
       "  <thead>\n",
       "    <tr style=\"text-align: right;\">\n",
       "      <th></th>\n",
       "      <th>sent</th>\n",
       "      <th>received</th>\n",
       "      <th>latency_ms</th>\n",
       "      <th>sent_sec</th>\n",
       "    </tr>\n",
       "  </thead>\n",
       "  <tbody>\n",
       "    <tr>\n",
       "      <th>count</th>\n",
       "      <td>2.000000e+05</td>\n",
       "      <td>2.000000e+05</td>\n",
       "      <td>200000.000000</td>\n",
       "      <td>200000.000000</td>\n",
       "    </tr>\n",
       "    <tr>\n",
       "      <th>mean</th>\n",
       "      <td>1.657902e+12</td>\n",
       "      <td>1.657902e+12</td>\n",
       "      <td>3.324025</td>\n",
       "      <td>41.002474</td>\n",
       "    </tr>\n",
       "    <tr>\n",
       "      <th>std</th>\n",
       "      <td>2.160897e+04</td>\n",
       "      <td>2.160866e+04</td>\n",
       "      <td>3.271734</td>\n",
       "      <td>21.608968</td>\n",
       "    </tr>\n",
       "    <tr>\n",
       "      <th>min</th>\n",
       "      <td>1.657902e+12</td>\n",
       "      <td>1.657902e+12</td>\n",
       "      <td>0.000000</td>\n",
       "      <td>0.000000</td>\n",
       "    </tr>\n",
       "    <tr>\n",
       "      <th>25%</th>\n",
       "      <td>1.657902e+12</td>\n",
       "      <td>1.657902e+12</td>\n",
       "      <td>2.000000</td>\n",
       "      <td>22.430750</td>\n",
       "    </tr>\n",
       "    <tr>\n",
       "      <th>50%</th>\n",
       "      <td>1.657902e+12</td>\n",
       "      <td>1.657902e+12</td>\n",
       "      <td>2.000000</td>\n",
       "      <td>41.678000</td>\n",
       "    </tr>\n",
       "    <tr>\n",
       "      <th>75%</th>\n",
       "      <td>1.657902e+12</td>\n",
       "      <td>1.657902e+12</td>\n",
       "      <td>4.000000</td>\n",
       "      <td>59.960250</td>\n",
       "    </tr>\n",
       "    <tr>\n",
       "      <th>max</th>\n",
       "      <td>1.657902e+12</td>\n",
       "      <td>1.657902e+12</td>\n",
       "      <td>396.000000</td>\n",
       "      <td>76.422000</td>\n",
       "    </tr>\n",
       "  </tbody>\n",
       "</table>\n",
       "</div>"
      ],
      "text/plain": [
       "               sent      received     latency_ms       sent_sec\n",
       "count  2.000000e+05  2.000000e+05  200000.000000  200000.000000\n",
       "mean   1.657902e+12  1.657902e+12       3.324025      41.002474\n",
       "std    2.160897e+04  2.160866e+04       3.271734      21.608968\n",
       "min    1.657902e+12  1.657902e+12       0.000000       0.000000\n",
       "25%    1.657902e+12  1.657902e+12       2.000000      22.430750\n",
       "50%    1.657902e+12  1.657902e+12       2.000000      41.678000\n",
       "75%    1.657902e+12  1.657902e+12       4.000000      59.960250\n",
       "max    1.657902e+12  1.657902e+12     396.000000      76.422000"
      ]
     },
     "execution_count": 141,
     "metadata": {},
     "output_type": "execute_result"
    }
   ],
   "source": [
    "dfA.describe()"
   ]
  },
  {
   "cell_type": "code",
   "execution_count": 142,
   "id": "6358e296",
   "metadata": {},
   "outputs": [
    {
     "data": {
      "text/html": [
       "<div>\n",
       "<style scoped>\n",
       "    .dataframe tbody tr th:only-of-type {\n",
       "        vertical-align: middle;\n",
       "    }\n",
       "\n",
       "    .dataframe tbody tr th {\n",
       "        vertical-align: top;\n",
       "    }\n",
       "\n",
       "    .dataframe thead th {\n",
       "        text-align: right;\n",
       "    }\n",
       "</style>\n",
       "<table border=\"1\" class=\"dataframe\">\n",
       "  <thead>\n",
       "    <tr style=\"text-align: right;\">\n",
       "      <th></th>\n",
       "      <th>sent</th>\n",
       "      <th>received</th>\n",
       "      <th>latency_ms</th>\n",
       "      <th>sent_sec</th>\n",
       "    </tr>\n",
       "  </thead>\n",
       "  <tbody>\n",
       "    <tr>\n",
       "      <th>count</th>\n",
       "      <td>2.000000e+05</td>\n",
       "      <td>2.000000e+05</td>\n",
       "      <td>200000.000000</td>\n",
       "      <td>200000.000000</td>\n",
       "    </tr>\n",
       "    <tr>\n",
       "      <th>mean</th>\n",
       "      <td>1.657902e+12</td>\n",
       "      <td>1.657902e+12</td>\n",
       "      <td>3.219710</td>\n",
       "      <td>39.964791</td>\n",
       "    </tr>\n",
       "    <tr>\n",
       "      <th>std</th>\n",
       "      <td>2.061564e+04</td>\n",
       "      <td>2.061531e+04</td>\n",
       "      <td>3.040159</td>\n",
       "      <td>20.615636</td>\n",
       "    </tr>\n",
       "    <tr>\n",
       "      <th>min</th>\n",
       "      <td>1.657902e+12</td>\n",
       "      <td>1.657902e+12</td>\n",
       "      <td>0.000000</td>\n",
       "      <td>0.002000</td>\n",
       "    </tr>\n",
       "    <tr>\n",
       "      <th>25%</th>\n",
       "      <td>1.657902e+12</td>\n",
       "      <td>1.657902e+12</td>\n",
       "      <td>1.000000</td>\n",
       "      <td>22.491750</td>\n",
       "    </tr>\n",
       "    <tr>\n",
       "      <th>50%</th>\n",
       "      <td>1.657902e+12</td>\n",
       "      <td>1.657902e+12</td>\n",
       "      <td>2.000000</td>\n",
       "      <td>40.883000</td>\n",
       "    </tr>\n",
       "    <tr>\n",
       "      <th>75%</th>\n",
       "      <td>1.657902e+12</td>\n",
       "      <td>1.657902e+12</td>\n",
       "      <td>4.000000</td>\n",
       "      <td>57.719000</td>\n",
       "    </tr>\n",
       "    <tr>\n",
       "      <th>max</th>\n",
       "      <td>1.657902e+12</td>\n",
       "      <td>1.657902e+12</td>\n",
       "      <td>272.000000</td>\n",
       "      <td>74.573000</td>\n",
       "    </tr>\n",
       "  </tbody>\n",
       "</table>\n",
       "</div>"
      ],
      "text/plain": [
       "               sent      received     latency_ms       sent_sec\n",
       "count  2.000000e+05  2.000000e+05  200000.000000  200000.000000\n",
       "mean   1.657902e+12  1.657902e+12       3.219710      39.964791\n",
       "std    2.061564e+04  2.061531e+04       3.040159      20.615636\n",
       "min    1.657902e+12  1.657902e+12       0.000000       0.002000\n",
       "25%    1.657902e+12  1.657902e+12       1.000000      22.491750\n",
       "50%    1.657902e+12  1.657902e+12       2.000000      40.883000\n",
       "75%    1.657902e+12  1.657902e+12       4.000000      57.719000\n",
       "max    1.657902e+12  1.657902e+12     272.000000      74.573000"
      ]
     },
     "execution_count": 142,
     "metadata": {},
     "output_type": "execute_result"
    }
   ],
   "source": [
    "dfB.describe()"
   ]
  },
  {
   "cell_type": "markdown",
   "id": "9467581b",
   "metadata": {},
   "source": [
    "### Min. Latencies for Worker 2 (A & B)"
   ]
  },
  {
   "cell_type": "code",
   "execution_count": 143,
   "id": "a6d0c80a",
   "metadata": {},
   "outputs": [
    {
     "data": {
      "text/plain": [
       "workerId                                        w2-vA\n",
       "queryType                                      UPDATE\n",
       "queryId          af86d2ad-a4b2-44d1-b3bf-429687ffb6d0\n",
       "sent                                    1657902224227\n",
       "received                                1657902224227\n",
       "target-region                            europe-west1\n",
       "latency_ms                                          0\n",
       "sent_sec                                        2.276\n",
       "Name: 133657, dtype: object"
      ]
     },
     "execution_count": 143,
     "metadata": {},
     "output_type": "execute_result"
    }
   ],
   "source": [
    "dfA2.loc[dfA2[\"latency_ms\"].idxmin()]"
   ]
  },
  {
   "cell_type": "code",
   "execution_count": 144,
   "id": "c7c47c98",
   "metadata": {},
   "outputs": [
    {
     "data": {
      "text/plain": [
       "workerId                                        w2-vB\n",
       "queryType                                      UPDATE\n",
       "queryId          1cf35fee-2db9-4f44-a2db-c3c9d4c0bae4\n",
       "sent                                    1657902226662\n",
       "received                                1657902226662\n",
       "target-region                            europe-west1\n",
       "latency_ms                                          0\n",
       "sent_sec                                        4.711\n",
       "Name: 137372, dtype: object"
      ]
     },
     "execution_count": 144,
     "metadata": {},
     "output_type": "execute_result"
    }
   ],
   "source": [
    "dfB2.loc[dfB2[\"latency_ms\"].idxmin()]"
   ]
  },
  {
   "cell_type": "markdown",
   "id": "c7926d67",
   "metadata": {},
   "source": [
    "### Some checks"
   ]
  },
  {
   "cell_type": "markdown",
   "id": "f4d9c4a2",
   "metadata": {},
   "source": [
    "#### Time difference in ms when first query was sent by worker-1 to Version A and B "
   ]
  },
  {
   "cell_type": "code",
   "execution_count": 145,
   "id": "61fe0605",
   "metadata": {},
   "outputs": [
    {
     "data": {
      "text/plain": [
       "-1"
      ]
     },
     "execution_count": 145,
     "metadata": {},
     "output_type": "execute_result"
    }
   ],
   "source": [
    "\n",
    "dfA2[\"sent\"].min() - dfB2[\"sent\"].min()"
   ]
  },
  {
   "cell_type": "markdown",
   "id": "676b17ce",
   "metadata": {},
   "source": [
    "#### Time difference in ms when last query was sent by worker-1 to Version A and B "
   ]
  },
  {
   "cell_type": "code",
   "execution_count": 146,
   "id": "234a1c20",
   "metadata": {},
   "outputs": [
    {
     "data": {
      "text/plain": [
       "2884"
      ]
     },
     "execution_count": 146,
     "metadata": {},
     "output_type": "execute_result"
    }
   ],
   "source": [
    "dfA1[\"sent\"].max() - dfB1[\"sent\"].max() \n"
   ]
  },
  {
   "cell_type": "markdown",
   "id": "74abe57d",
   "metadata": {},
   "source": [
    "## Create Figures "
   ]
  },
  {
   "cell_type": "markdown",
   "id": "2a090a7b",
   "metadata": {},
   "source": [
    "### Create Boxplots"
   ]
  },
  {
   "cell_type": "code",
   "execution_count": 147,
   "id": "58a49efa",
   "metadata": {},
   "outputs": [],
   "source": [
    "sns.set_theme(style=\"darkgrid\")"
   ]
  },
  {
   "cell_type": "code",
   "execution_count": 148,
   "id": "4f8631c8",
   "metadata": {},
   "outputs": [
    {
     "data": {
      "image/png": "[encoded data removed]",
      "text/plain": [
       "<Figure size 432x288 with 1 Axes>"
      ]
     },
     "metadata": {},
     "output_type": "display_data"
    }
   ],
   "source": [
    "ax = plt.boxplot(x=dfA[\"latency_ms\"])\n"
   ]
  },
  {
   "cell_type": "markdown",
   "id": "1ef8d979",
   "metadata": {},
   "source": [
    "### Create Flowchart"
   ]
  },
  {
   "cell_type": "code",
   "execution_count": 149,
   "id": "8058b963",
   "metadata": {},
   "outputs": [
    {
     "data": {
      "text/plain": [
       "<seaborn.axisgrid.FacetGrid at 0x1e6e1ce20e0>"
      ]
     },
     "execution_count": 149,
     "metadata": {},
     "output_type": "execute_result"
    },
    {
     "data": {
      "image/png": "[encoded data removed]",
      "text/plain": [
       "<Figure size 360x360 with 1 Axes>"
      ]
     },
     "metadata": {},
     "output_type": "display_data"
    }
   ],
   "source": [
    "sns.lmplot(x='sent_sec', y='latency_ms', data=dfA, fit_reg=False)"
   ]
  }
 ],
 "metadata": {
  "kernelspec": {
   "display_name": "Python 3 (ipykernel)",
   "language": "python",
   "name": "python3"
  },
  "language_info": {
   "codemirror_mode": {
    "name": "ipython",
    "version": 3
   },
   "file_extension": ".py",
   "mimetype": "text/x-python",
   "name": "python",
   "nbconvert_exporter": "python",
   "pygments_lexer": "ipython3",
   "version": "3.10.4"
  }
 },
 "nbformat": 4,
 "nbformat_minor": 5
}
