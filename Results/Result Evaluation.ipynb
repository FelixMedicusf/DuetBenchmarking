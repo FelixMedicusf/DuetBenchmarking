{
 "cells": [
  {
   "cell_type": "code",
   "execution_count": 11,
   "id": "e4a313ec",
   "metadata": {},
   "outputs": [],
   "source": [
    "import matplotlib.pyplot as plt\n",
    "import numpy as np\n",
    "import seaborn as sns\n",
    "import pandas as pd\n",
    "import os\n",
    "from pathlib import Path"
   ]
  },
  {
   "cell_type": "code",
   "execution_count": 12,
   "id": "2bae1a82",
   "metadata": {},
   "outputs": [
    {
     "name": "stdout",
     "output_type": "stream",
     "text": [
      "C:\\Users\\Felix Medicus\\Desktop\\Thesis_MCC\\DuetBenchmarking\\Results\n"
     ]
    }
   ],
   "source": [
    "cwd = Path.cwd()\n",
    "print(cwd)"
   ]
  },
  {
   "cell_type": "code",
   "execution_count": 13,
   "id": "d79bd269",
   "metadata": {},
   "outputs": [
    {
     "name": "stdout",
     "output_type": "stream",
     "text": [
      "C:\\Users\\Felix Medicus\\Desktop\\Thesis_MCC\\DuetBenchmarking\\Results\\Results\\10_000ops_single\\load_measurements_10_000_prepared.csv\n"
     ]
    }
   ],
   "source": [
    "filepath = os.path.join(cwd, \"Results\", \"10_000ops_single\", \"load_measurements_10_000_prepared.csv\")\n",
    "print(filepath)"
   ]
  },
  {
   "cell_type": "code",
   "execution_count": 14,
   "id": "672c3aaa",
   "metadata": {},
   "outputs": [
    {
     "name": "stdout",
     "output_type": "stream",
     "text": [
      "<bound method NDFrame.head of       workerId queryType                               queryId           sent  \\\n",
      "0          w1a    INSERT  0b036aa3-75a5-4b36-8f78-6cecccece1a3  1657710893174   \n",
      "1          w1b    INSERT  0b036aa3-75a5-4b36-8f78-6cecccece1a3  1657710893173   \n",
      "2          w1a    INSERT  4e5b7111-e538-4e66-9da6-4bcc1faf8242  1657710893368   \n",
      "3          w1a    INSERT  ba985415-0511-4543-abc5-c5430e4d6d40  1657710893470   \n",
      "4          w1b    INSERT  4e5b7111-e538-4e66-9da6-4bcc1faf8242  1657710893396   \n",
      "...        ...       ...                                   ...            ...   \n",
      "19995      w1b    INSERT  1e73df30-2cdf-44c0-a8df-b502bad989c7  1657711394775   \n",
      "19996      w1b    INSERT  b1eebdf5-97c0-4e49-aa04-00eb3177a032  1657711394808   \n",
      "19997      w1b    INSERT  a2a68a4f-054a-4c9c-93d9-84e775bf630c  1657711394840   \n",
      "19998      w1b    INSERT  7b9d2be1-a635-4e77-8b7d-9c546dfdd8d3  1657711394873   \n",
      "19999      w1b    INSERT  3f249c24-0701-4f56-a5f1-5d9449b5b2c8  1657711394927   \n",
      "\n",
      "            received target-region  \n",
      "0      1657710893367  europe-west1  \n",
      "1      1657710893396  europe-west1  \n",
      "2      1657710893470  europe-west1  \n",
      "3      1657710893535  europe-west1  \n",
      "4      1657710893543  europe-west1  \n",
      "...              ...           ...  \n",
      "19995  1657711394808  europe-west1  \n",
      "19996  1657711394840  europe-west1  \n",
      "19997  1657711394873  europe-west1  \n",
      "19998  1657711394927  europe-west1  \n",
      "19999  1657711394958  europe-west1  \n",
      "\n",
      "[20000 rows x 6 columns]>\n"
     ]
    }
   ],
   "source": [
    "df = pd.read_csv(filepath)\n",
    "print(df.head)"
   ]
  },
  {
   "cell_type": "code",
   "execution_count": 15,
   "id": "32c2ef16",
   "metadata": {},
   "outputs": [
    {
     "name": "stdout",
     "output_type": "stream",
     "text": [
      "1657711394927\n"
     ]
    }
   ],
   "source": [
    "print(df[\"sent\"].max())"
   ]
  },
  {
   "cell_type": "code",
   "execution_count": 17,
   "id": "15d7d02f",
   "metadata": {},
   "outputs": [],
   "source": [
    "df[\"latency_ms\"] = df[\"received\"]- df[\"sent\"]\n"
   ]
  },
  {
   "cell_type": "code",
   "execution_count": 18,
   "id": "50754c1e",
   "metadata": {},
   "outputs": [
    {
     "name": "stdout",
     "output_type": "stream",
     "text": [
      "  workerId queryType                               queryId           sent  \\\n",
      "0      w1a    INSERT  0b036aa3-75a5-4b36-8f78-6cecccece1a3  1657710893174   \n",
      "1      w1b    INSERT  0b036aa3-75a5-4b36-8f78-6cecccece1a3  1657710893173   \n",
      "2      w1a    INSERT  4e5b7111-e538-4e66-9da6-4bcc1faf8242  1657710893368   \n",
      "3      w1a    INSERT  ba985415-0511-4543-abc5-c5430e4d6d40  1657710893470   \n",
      "4      w1b    INSERT  4e5b7111-e538-4e66-9da6-4bcc1faf8242  1657710893396   \n",
      "\n",
      "        received target-region  latency_ms  \n",
      "0  1657710893367  europe-west1         193  \n",
      "1  1657710893396  europe-west1         223  \n",
      "2  1657710893470  europe-west1         102  \n",
      "3  1657710893535  europe-west1          65  \n",
      "4  1657710893543  europe-west1         147  \n"
     ]
    }
   ],
   "source": [
    "print(df.head())\n"
   ]
  },
  {
   "cell_type": "code",
   "execution_count": 22,
   "id": "637c658e",
   "metadata": {},
   "outputs": [
    {
     "data": {
      "text/plain": [
       "count    20000.000000\n",
       "mean        49.838750\n",
       "std         25.877738\n",
       "min         26.000000\n",
       "25%         30.000000\n",
       "50%         35.000000\n",
       "75%         63.000000\n",
       "max        253.000000\n",
       "Name: latency_ms, dtype: float64"
      ]
     },
     "execution_count": 22,
     "metadata": {},
     "output_type": "execute_result"
    }
   ],
   "source": [
    "df[\"latency_ms\"].describe()"
   ]
  },
  {
   "cell_type": "code",
   "execution_count": 23,
   "id": "44375fc6",
   "metadata": {},
   "outputs": [],
   "source": [
    "sns.set_theme(style=\"darkgrid\")\n"
   ]
  },
  {
   "cell_type": "code",
   "execution_count": 24,
   "id": "e639f5fc",
   "metadata": {},
   "outputs": [
    {
     "name": "stdout",
     "output_type": "stream",
     "text": [
      "8.363083333333334 minuten\n"
     ]
    }
   ],
   "source": [
    "totalTime = df[\"received\"].max() - df[\"sent\"].min()\n",
    "print(totalTime/1000/60, \"minuten\")"
   ]
  },
  {
   "cell_type": "code",
   "execution_count": 25,
   "id": "a301ec3e",
   "metadata": {},
   "outputs": [
    {
     "name": "stdout",
     "output_type": "stream",
     "text": [
      "1657710893173\n"
     ]
    }
   ],
   "source": [
    "print(df[\"sent\"].min())"
   ]
  },
  {
   "cell_type": "code",
   "execution_count": 26,
   "id": "04312cb0",
   "metadata": {},
   "outputs": [
    {
     "data": {
      "text/plain": [
       "<seaborn.axisgrid.FacetGrid at 0x231db782950>"
      ]
     },
     "execution_count": 26,
     "metadata": {},
     "output_type": "execute_result"
    },
    {
     "data": {
      "image/png": "[encoded data removed]",
      "text/plain": [
       "<Figure size 360x360 with 1 Axes>"
      ]
     },
     "metadata": {
      "needs_background": "light"
     },
     "output_type": "display_data"
    }
   ],
   "source": [
    "sns.lmplot(x='sent', y='latency_ms', data=df, fit_reg=False)"
   ]
  },
  {
   "cell_type": "code",
   "execution_count": 27,
   "id": "74d06e29",
   "metadata": {},
   "outputs": [],
   "source": [
    "dfA = df.loc[(df[\"workerId\"] == \"w1a\") | (df[\"workerId\"] == \"w2a\") | (df[\"workerId\"] == \"w3a\")]\n",
    "dfB = df.loc[(df[\"workerId\"] == \"w1b\") | (df[\"workerId\"] == \"w2b\") | (df[\"workerId\"] == \"w3b\")]"
   ]
  },
  {
   "cell_type": "code",
   "execution_count": 28,
   "id": "c7c47c98",
   "metadata": {},
   "outputs": [
    {
     "data": {
      "text/html": [
       "<div>\n",
       "<style scoped>\n",
       "    .dataframe tbody tr th:only-of-type {\n",
       "        vertical-align: middle;\n",
       "    }\n",
       "\n",
       "    .dataframe tbody tr th {\n",
       "        vertical-align: top;\n",
       "    }\n",
       "\n",
       "    .dataframe thead th {\n",
       "        text-align: right;\n",
       "    }\n",
       "</style>\n",
       "<table border=\"1\" class=\"dataframe\">\n",
       "  <thead>\n",
       "    <tr style=\"text-align: right;\">\n",
       "      <th></th>\n",
       "      <th>workerId</th>\n",
       "      <th>queryType</th>\n",
       "      <th>queryId</th>\n",
       "      <th>sent</th>\n",
       "      <th>received</th>\n",
       "      <th>target-region</th>\n",
       "      <th>latency_ms</th>\n",
       "    </tr>\n",
       "  </thead>\n",
       "  <tbody>\n",
       "    <tr>\n",
       "      <th>0</th>\n",
       "      <td>w1a</td>\n",
       "      <td>INSERT</td>\n",
       "      <td>0b036aa3-75a5-4b36-8f78-6cecccece1a3</td>\n",
       "      <td>1657710893174</td>\n",
       "      <td>1657710893367</td>\n",
       "      <td>europe-west1</td>\n",
       "      <td>193</td>\n",
       "    </tr>\n",
       "    <tr>\n",
       "      <th>2</th>\n",
       "      <td>w1a</td>\n",
       "      <td>INSERT</td>\n",
       "      <td>4e5b7111-e538-4e66-9da6-4bcc1faf8242</td>\n",
       "      <td>1657710893368</td>\n",
       "      <td>1657710893470</td>\n",
       "      <td>europe-west1</td>\n",
       "      <td>102</td>\n",
       "    </tr>\n",
       "    <tr>\n",
       "      <th>3</th>\n",
       "      <td>w1a</td>\n",
       "      <td>INSERT</td>\n",
       "      <td>ba985415-0511-4543-abc5-c5430e4d6d40</td>\n",
       "      <td>1657710893470</td>\n",
       "      <td>1657710893535</td>\n",
       "      <td>europe-west1</td>\n",
       "      <td>65</td>\n",
       "    </tr>\n",
       "    <tr>\n",
       "      <th>5</th>\n",
       "      <td>w1a</td>\n",
       "      <td>INSERT</td>\n",
       "      <td>59351431-241d-44ef-b7ad-c875821c9cad</td>\n",
       "      <td>1657710893535</td>\n",
       "      <td>1657710893578</td>\n",
       "      <td>europe-west1</td>\n",
       "      <td>43</td>\n",
       "    </tr>\n",
       "    <tr>\n",
       "      <th>8</th>\n",
       "      <td>w1a</td>\n",
       "      <td>INSERT</td>\n",
       "      <td>3aa8aef0-03db-4f64-a4f0-1be6e65c93f1</td>\n",
       "      <td>1657710893578</td>\n",
       "      <td>1657710893632</td>\n",
       "      <td>europe-west1</td>\n",
       "      <td>54</td>\n",
       "    </tr>\n",
       "  </tbody>\n",
       "</table>\n",
       "</div>"
      ],
      "text/plain": [
       "  workerId queryType                               queryId           sent  \\\n",
       "0      w1a    INSERT  0b036aa3-75a5-4b36-8f78-6cecccece1a3  1657710893174   \n",
       "2      w1a    INSERT  4e5b7111-e538-4e66-9da6-4bcc1faf8242  1657710893368   \n",
       "3      w1a    INSERT  ba985415-0511-4543-abc5-c5430e4d6d40  1657710893470   \n",
       "5      w1a    INSERT  59351431-241d-44ef-b7ad-c875821c9cad  1657710893535   \n",
       "8      w1a    INSERT  3aa8aef0-03db-4f64-a4f0-1be6e65c93f1  1657710893578   \n",
       "\n",
       "        received target-region  latency_ms  \n",
       "0  1657710893367  europe-west1         193  \n",
       "2  1657710893470  europe-west1         102  \n",
       "3  1657710893535  europe-west1          65  \n",
       "5  1657710893578  europe-west1          43  \n",
       "8  1657710893632  europe-west1          54  "
      ]
     },
     "execution_count": 28,
     "metadata": {},
     "output_type": "execute_result"
    }
   ],
   "source": [
    "dfA.head()\n"
   ]
  },
  {
   "cell_type": "code",
   "execution_count": 29,
   "id": "17e772c8",
   "metadata": {},
   "outputs": [
    {
     "data": {
      "text/html": [
       "<div>\n",
       "<style scoped>\n",
       "    .dataframe tbody tr th:only-of-type {\n",
       "        vertical-align: middle;\n",
       "    }\n",
       "\n",
       "    .dataframe tbody tr th {\n",
       "        vertical-align: top;\n",
       "    }\n",
       "\n",
       "    .dataframe thead th {\n",
       "        text-align: right;\n",
       "    }\n",
       "</style>\n",
       "<table border=\"1\" class=\"dataframe\">\n",
       "  <thead>\n",
       "    <tr style=\"text-align: right;\">\n",
       "      <th></th>\n",
       "      <th>sent</th>\n",
       "      <th>received</th>\n",
       "      <th>latency_ms</th>\n",
       "    </tr>\n",
       "  </thead>\n",
       "  <tbody>\n",
       "    <tr>\n",
       "      <th>count</th>\n",
       "      <td>1.000000e+04</td>\n",
       "      <td>1.000000e+04</td>\n",
       "      <td>10000.000000</td>\n",
       "    </tr>\n",
       "    <tr>\n",
       "      <th>mean</th>\n",
       "      <td>1.657711e+12</td>\n",
       "      <td>1.657711e+12</td>\n",
       "      <td>49.520500</td>\n",
       "    </tr>\n",
       "    <tr>\n",
       "      <th>std</th>\n",
       "      <td>1.419447e+05</td>\n",
       "      <td>1.419441e+05</td>\n",
       "      <td>25.616335</td>\n",
       "    </tr>\n",
       "    <tr>\n",
       "      <th>min</th>\n",
       "      <td>1.657711e+12</td>\n",
       "      <td>1.657711e+12</td>\n",
       "      <td>26.000000</td>\n",
       "    </tr>\n",
       "    <tr>\n",
       "      <th>25%</th>\n",
       "      <td>1.657711e+12</td>\n",
       "      <td>1.657711e+12</td>\n",
       "      <td>30.000000</td>\n",
       "    </tr>\n",
       "    <tr>\n",
       "      <th>50%</th>\n",
       "      <td>1.657711e+12</td>\n",
       "      <td>1.657711e+12</td>\n",
       "      <td>35.000000</td>\n",
       "    </tr>\n",
       "    <tr>\n",
       "      <th>75%</th>\n",
       "      <td>1.657711e+12</td>\n",
       "      <td>1.657711e+12</td>\n",
       "      <td>62.000000</td>\n",
       "    </tr>\n",
       "    <tr>\n",
       "      <th>max</th>\n",
       "      <td>1.657711e+12</td>\n",
       "      <td>1.657711e+12</td>\n",
       "      <td>253.000000</td>\n",
       "    </tr>\n",
       "  </tbody>\n",
       "</table>\n",
       "</div>"
      ],
      "text/plain": [
       "               sent      received    latency_ms\n",
       "count  1.000000e+04  1.000000e+04  10000.000000\n",
       "mean   1.657711e+12  1.657711e+12     49.520500\n",
       "std    1.419447e+05  1.419441e+05     25.616335\n",
       "min    1.657711e+12  1.657711e+12     26.000000\n",
       "25%    1.657711e+12  1.657711e+12     30.000000\n",
       "50%    1.657711e+12  1.657711e+12     35.000000\n",
       "75%    1.657711e+12  1.657711e+12     62.000000\n",
       "max    1.657711e+12  1.657711e+12    253.000000"
      ]
     },
     "execution_count": 29,
     "metadata": {},
     "output_type": "execute_result"
    }
   ],
   "source": [
    "dfA.describe()"
   ]
  },
  {
   "cell_type": "code",
   "execution_count": 30,
   "id": "61fe0605",
   "metadata": {},
   "outputs": [
    {
     "data": {
      "text/html": [
       "<div>\n",
       "<style scoped>\n",
       "    .dataframe tbody tr th:only-of-type {\n",
       "        vertical-align: middle;\n",
       "    }\n",
       "\n",
       "    .dataframe tbody tr th {\n",
       "        vertical-align: top;\n",
       "    }\n",
       "\n",
       "    .dataframe thead th {\n",
       "        text-align: right;\n",
       "    }\n",
       "</style>\n",
       "<table border=\"1\" class=\"dataframe\">\n",
       "  <thead>\n",
       "    <tr style=\"text-align: right;\">\n",
       "      <th></th>\n",
       "      <th>workerId</th>\n",
       "      <th>queryType</th>\n",
       "      <th>queryId</th>\n",
       "      <th>sent</th>\n",
       "      <th>received</th>\n",
       "      <th>target-region</th>\n",
       "      <th>latency_ms</th>\n",
       "    </tr>\n",
       "  </thead>\n",
       "  <tbody>\n",
       "    <tr>\n",
       "      <th>1</th>\n",
       "      <td>w1b</td>\n",
       "      <td>INSERT</td>\n",
       "      <td>0b036aa3-75a5-4b36-8f78-6cecccece1a3</td>\n",
       "      <td>1657710893173</td>\n",
       "      <td>1657710893396</td>\n",
       "      <td>europe-west1</td>\n",
       "      <td>223</td>\n",
       "    </tr>\n",
       "    <tr>\n",
       "      <th>4</th>\n",
       "      <td>w1b</td>\n",
       "      <td>INSERT</td>\n",
       "      <td>4e5b7111-e538-4e66-9da6-4bcc1faf8242</td>\n",
       "      <td>1657710893396</td>\n",
       "      <td>1657710893543</td>\n",
       "      <td>europe-west1</td>\n",
       "      <td>147</td>\n",
       "    </tr>\n",
       "    <tr>\n",
       "      <th>6</th>\n",
       "      <td>w1b</td>\n",
       "      <td>INSERT</td>\n",
       "      <td>ba985415-0511-4543-abc5-c5430e4d6d40</td>\n",
       "      <td>1657710893543</td>\n",
       "      <td>1657710893581</td>\n",
       "      <td>europe-west1</td>\n",
       "      <td>38</td>\n",
       "    </tr>\n",
       "    <tr>\n",
       "      <th>7</th>\n",
       "      <td>w1b</td>\n",
       "      <td>INSERT</td>\n",
       "      <td>59351431-241d-44ef-b7ad-c875821c9cad</td>\n",
       "      <td>1657710893581</td>\n",
       "      <td>1657710893623</td>\n",
       "      <td>europe-west1</td>\n",
       "      <td>42</td>\n",
       "    </tr>\n",
       "    <tr>\n",
       "      <th>10</th>\n",
       "      <td>w1b</td>\n",
       "      <td>INSERT</td>\n",
       "      <td>3aa8aef0-03db-4f64-a4f0-1be6e65c93f1</td>\n",
       "      <td>1657710893623</td>\n",
       "      <td>1657710893695</td>\n",
       "      <td>europe-west1</td>\n",
       "      <td>72</td>\n",
       "    </tr>\n",
       "  </tbody>\n",
       "</table>\n",
       "</div>"
      ],
      "text/plain": [
       "   workerId queryType                               queryId           sent  \\\n",
       "1       w1b    INSERT  0b036aa3-75a5-4b36-8f78-6cecccece1a3  1657710893173   \n",
       "4       w1b    INSERT  4e5b7111-e538-4e66-9da6-4bcc1faf8242  1657710893396   \n",
       "6       w1b    INSERT  ba985415-0511-4543-abc5-c5430e4d6d40  1657710893543   \n",
       "7       w1b    INSERT  59351431-241d-44ef-b7ad-c875821c9cad  1657710893581   \n",
       "10      w1b    INSERT  3aa8aef0-03db-4f64-a4f0-1be6e65c93f1  1657710893623   \n",
       "\n",
       "         received target-region  latency_ms  \n",
       "1   1657710893396  europe-west1         223  \n",
       "4   1657710893543  europe-west1         147  \n",
       "6   1657710893581  europe-west1          38  \n",
       "7   1657710893623  europe-west1          42  \n",
       "10  1657710893695  europe-west1          72  "
      ]
     },
     "execution_count": 30,
     "metadata": {},
     "output_type": "execute_result"
    }
   ],
   "source": [
    "dfB.head()"
   ]
  },
  {
   "cell_type": "code",
   "execution_count": 31,
   "id": "234a1c20",
   "metadata": {},
   "outputs": [
    {
     "data": {
      "text/html": [
       "<div>\n",
       "<style scoped>\n",
       "    .dataframe tbody tr th:only-of-type {\n",
       "        vertical-align: middle;\n",
       "    }\n",
       "\n",
       "    .dataframe tbody tr th {\n",
       "        vertical-align: top;\n",
       "    }\n",
       "\n",
       "    .dataframe thead th {\n",
       "        text-align: right;\n",
       "    }\n",
       "</style>\n",
       "<table border=\"1\" class=\"dataframe\">\n",
       "  <thead>\n",
       "    <tr style=\"text-align: right;\">\n",
       "      <th></th>\n",
       "      <th>sent</th>\n",
       "      <th>received</th>\n",
       "      <th>latency_ms</th>\n",
       "    </tr>\n",
       "  </thead>\n",
       "  <tbody>\n",
       "    <tr>\n",
       "      <th>count</th>\n",
       "      <td>1.000000e+04</td>\n",
       "      <td>1.000000e+04</td>\n",
       "      <td>10000.000000</td>\n",
       "    </tr>\n",
       "    <tr>\n",
       "      <th>mean</th>\n",
       "      <td>1.657711e+12</td>\n",
       "      <td>1.657711e+12</td>\n",
       "      <td>50.157000</td>\n",
       "    </tr>\n",
       "    <tr>\n",
       "      <th>std</th>\n",
       "      <td>1.443086e+05</td>\n",
       "      <td>1.443081e+05</td>\n",
       "      <td>26.133933</td>\n",
       "    </tr>\n",
       "    <tr>\n",
       "      <th>min</th>\n",
       "      <td>1.657711e+12</td>\n",
       "      <td>1.657711e+12</td>\n",
       "      <td>26.000000</td>\n",
       "    </tr>\n",
       "    <tr>\n",
       "      <th>25%</th>\n",
       "      <td>1.657711e+12</td>\n",
       "      <td>1.657711e+12</td>\n",
       "      <td>30.750000</td>\n",
       "    </tr>\n",
       "    <tr>\n",
       "      <th>50%</th>\n",
       "      <td>1.657711e+12</td>\n",
       "      <td>1.657711e+12</td>\n",
       "      <td>35.000000</td>\n",
       "    </tr>\n",
       "    <tr>\n",
       "      <th>75%</th>\n",
       "      <td>1.657711e+12</td>\n",
       "      <td>1.657711e+12</td>\n",
       "      <td>64.000000</td>\n",
       "    </tr>\n",
       "    <tr>\n",
       "      <th>max</th>\n",
       "      <td>1.657711e+12</td>\n",
       "      <td>1.657711e+12</td>\n",
       "      <td>223.000000</td>\n",
       "    </tr>\n",
       "  </tbody>\n",
       "</table>\n",
       "</div>"
      ],
      "text/plain": [
       "               sent      received    latency_ms\n",
       "count  1.000000e+04  1.000000e+04  10000.000000\n",
       "mean   1.657711e+12  1.657711e+12     50.157000\n",
       "std    1.443086e+05  1.443081e+05     26.133933\n",
       "min    1.657711e+12  1.657711e+12     26.000000\n",
       "25%    1.657711e+12  1.657711e+12     30.750000\n",
       "50%    1.657711e+12  1.657711e+12     35.000000\n",
       "75%    1.657711e+12  1.657711e+12     64.000000\n",
       "max    1.657711e+12  1.657711e+12    223.000000"
      ]
     },
     "execution_count": 31,
     "metadata": {},
     "output_type": "execute_result"
    }
   ],
   "source": [
    "dfB.describe()"
   ]
  },
  {
   "cell_type": "code",
   "execution_count": null,
   "id": "1c6d8209",
   "metadata": {},
   "outputs": [],
   "source": []
  },
  {
   "cell_type": "code",
   "execution_count": null,
   "id": "414f3287",
   "metadata": {},
   "outputs": [],
   "source": []
  },
  {
   "cell_type": "code",
   "execution_count": 33,
   "id": "4f8631c8",
   "metadata": {},
   "outputs": [
    {
     "data": {
      "image/png": "[encoded data removed]",
      "text/plain": [
       "<Figure size 640x480 with 1 Axes>"
      ]
     },
     "metadata": {},
     "output_type": "display_data"
    }
   ],
   "source": [
    "ax = plt.boxplot(x=dfA[\"latency_ms\"],)\n"
   ]
  }
 ],
 "metadata": {
  "kernelspec": {
   "display_name": "Python 3 (ipykernel)",
   "language": "python",
   "name": "python3"
  },
  "language_info": {
   "codemirror_mode": {
    "name": "ipython",
    "version": 3
   },
   "file_extension": ".py",
   "mimetype": "text/x-python",
   "name": "python",
   "nbconvert_exporter": "python",
   "pygments_lexer": "ipython3",
   "version": "3.10.4"
  }
 },
 "nbformat": 4,
 "nbformat_minor": 5
}
