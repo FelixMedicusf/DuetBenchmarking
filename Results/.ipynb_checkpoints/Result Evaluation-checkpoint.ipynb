{
 "cells": [
  {
   "cell_type": "markdown",
   "id": "effbe8fe",
   "metadata": {},
   "source": [
    "# Evaluation Of Duet Benchmarking Results from Distributed Database \"Cassandra\""
   ]
  },
  {
   "cell_type": "markdown",
   "id": "e0294f93",
   "metadata": {},
   "source": [
    "### Imports"
   ]
  },
  {
   "cell_type": "code",
   "execution_count": 34,
   "id": "e4a313ec",
   "metadata": {},
   "outputs": [],
   "source": [
    "import matplotlib.pyplot as plt\n",
    "import numpy as np\n",
    "import seaborn as sns\n",
    "import pandas as pd\n",
    "import os\n",
    "from pathlib import Path"
   ]
  },
  {
   "cell_type": "markdown",
   "id": "eb039afe",
   "metadata": {},
   "source": [
    "### Import Benchmarking Measurements as csv file and create Pandas Dataframe for further Analysis"
   ]
  },
  {
   "cell_type": "code",
   "execution_count": 35,
   "id": "2bae1a82",
   "metadata": {},
   "outputs": [
    {
     "name": "stdout",
     "output_type": "stream",
     "text": [
      "C:\\Users\\Felix Medicus\\Desktop\\Thesis_MCC\\DuetBenchmarking\\Results\n",
      "C:\\Users\\Felix Medicus\\Desktop\\Thesis_MCC\\DuetBenchmarking\\Results\\Results\\10_000ops_lokal\\load_measurements_10000.csv\n"
     ]
    }
   ],
   "source": [
    "cwd = Path.cwd()\n",
    "filepath = os.path.join(cwd, \"Results\", \"10_000ops_lokal\", \"load_measurements_10000.csv\")\n",
    "print(filepath)\n",
    "df = pd.read_csv(filepath)"
   ]
  },
  {
   "cell_type": "markdown",
   "id": "337c61b0",
   "metadata": {},
   "source": [
    "### Insert latencies in ms into the measurement table"
   ]
  },
  {
   "cell_type": "code",
   "execution_count": 36,
   "id": "15d7d02f",
   "metadata": {},
   "outputs": [],
   "source": [
    "df[\"latency_ms\"] = df[\"received\"]- df[\"sent\"]"
   ]
  },
  {
   "cell_type": "markdown",
   "id": "c9c40381",
   "metadata": {},
   "source": [
    "### Restructure Timeline"
   ]
  },
  {
   "cell_type": "code",
   "execution_count": 37,
   "id": "ca0d2243",
   "metadata": {},
   "outputs": [],
   "source": [
    "firstSent = df[\"sent\"].min()\n",
    "df[\"sent_sec\"] = (df[\"sent\"] - firstSent)/1000"
   ]
  },
  {
   "cell_type": "markdown",
   "id": "19999622",
   "metadata": {},
   "source": [
    "### Create Function to prune Measurements"
   ]
  },
  {
   "cell_type": "code",
   "execution_count": 38,
   "id": "ee3aa619",
   "metadata": {},
   "outputs": [
    {
     "name": "stdout",
     "output_type": "stream",
     "text": [
      "Hello from the other side\n"
     ]
    }
   ],
   "source": [
    "def pruneMeasurements(dataframe): \n",
    "    print(\"Hello from the other side\")\n",
    "    \n",
    "pruneMeasurements(df)\n"
   ]
  },
  {
   "cell_type": "markdown",
   "id": "a6a75b54",
   "metadata": {},
   "source": [
    "### Create subsets of dataframe (for Version A and B, and for each worker for Version A and B) "
   ]
  },
  {
   "cell_type": "code",
   "execution_count": 39,
   "id": "50754c1e",
   "metadata": {},
   "outputs": [],
   "source": [
    "dfA1 = df.loc[(df[\"workerId\"] == \"w1-vA\")]\n",
    "dfA2 = df.loc[(df[\"workerId\"] == \"w2-vA\")]\n",
    "dfA3 = df.loc[(df[\"workerId\"] == \"w3-vA\")]\n",
    "dfB1 = df.loc[(df[\"workerId\"] == \"w1-vB\")]\n",
    "dfB2 = df.loc[(df[\"workerId\"] == \"w2-vB\")]\n",
    "dfB3 = df.loc[(df[\"workerId\"] == \"w3-vB\")]\n",
    "dfA = df.loc[(df[\"workerId\"] == \"w1-vA\") | (df[\"workerId\"] == \"w2-vA\") | (df[\"workerId\"] == \"w3-vA\")]\n",
    "dfB = df.loc[(df[\"workerId\"] == \"w1-vB\") | (df[\"workerId\"] == \"w2-vB\") | (df[\"workerId\"] == \"w3-vB\")]"
   ]
  },
  {
   "cell_type": "markdown",
   "id": "8285fdc6",
   "metadata": {},
   "source": [
    "### Return benchmark run time (First request send to last response received)"
   ]
  },
  {
   "cell_type": "code",
   "execution_count": 40,
   "id": "637c658e",
   "metadata": {},
   "outputs": [
    {
     "name": "stdout",
     "output_type": "stream",
     "text": [
      "1.6583833333333333 minuten\n"
     ]
    }
   ],
   "source": [
    "totalTime = df[\"received\"].max() - df[\"sent\"].min()\n",
    "print(totalTime/1000/60, \"minuten\")"
   ]
  },
  {
   "cell_type": "code",
   "execution_count": 41,
   "id": "5a83a254",
   "metadata": {},
   "outputs": [
    {
     "data": {
      "text/html": [
       "<div>\n",
       "<style scoped>\n",
       "    .dataframe tbody tr th:only-of-type {\n",
       "        vertical-align: middle;\n",
       "    }\n",
       "\n",
       "    .dataframe tbody tr th {\n",
       "        vertical-align: top;\n",
       "    }\n",
       "\n",
       "    .dataframe thead th {\n",
       "        text-align: right;\n",
       "    }\n",
       "</style>\n",
       "<table border=\"1\" class=\"dataframe\">\n",
       "  <thead>\n",
       "    <tr style=\"text-align: right;\">\n",
       "      <th></th>\n",
       "      <th>sent</th>\n",
       "      <th>received</th>\n",
       "      <th>latency_ms</th>\n",
       "      <th>sent_sec</th>\n",
       "    </tr>\n",
       "  </thead>\n",
       "  <tbody>\n",
       "    <tr>\n",
       "      <th>count</th>\n",
       "      <td>1.000000e+04</td>\n",
       "      <td>1.000000e+04</td>\n",
       "      <td>10000.000000</td>\n",
       "      <td>10000.000000</td>\n",
       "    </tr>\n",
       "    <tr>\n",
       "      <th>mean</th>\n",
       "      <td>1.657968e+12</td>\n",
       "      <td>1.657968e+12</td>\n",
       "      <td>29.677200</td>\n",
       "      <td>49.610312</td>\n",
       "    </tr>\n",
       "    <tr>\n",
       "      <th>std</th>\n",
       "      <td>2.854619e+04</td>\n",
       "      <td>2.854608e+04</td>\n",
       "      <td>5.263437</td>\n",
       "      <td>28.546194</td>\n",
       "    </tr>\n",
       "    <tr>\n",
       "      <th>min</th>\n",
       "      <td>1.657968e+12</td>\n",
       "      <td>1.657968e+12</td>\n",
       "      <td>25.000000</td>\n",
       "      <td>0.000000</td>\n",
       "    </tr>\n",
       "    <tr>\n",
       "      <th>25%</th>\n",
       "      <td>1.657968e+12</td>\n",
       "      <td>1.657968e+12</td>\n",
       "      <td>28.000000</td>\n",
       "      <td>24.938500</td>\n",
       "    </tr>\n",
       "    <tr>\n",
       "      <th>50%</th>\n",
       "      <td>1.657968e+12</td>\n",
       "      <td>1.657968e+12</td>\n",
       "      <td>28.000000</td>\n",
       "      <td>49.582500</td>\n",
       "    </tr>\n",
       "    <tr>\n",
       "      <th>75%</th>\n",
       "      <td>1.657968e+12</td>\n",
       "      <td>1.657968e+12</td>\n",
       "      <td>29.000000</td>\n",
       "      <td>74.321250</td>\n",
       "    </tr>\n",
       "    <tr>\n",
       "      <th>max</th>\n",
       "      <td>1.657968e+12</td>\n",
       "      <td>1.657968e+12</td>\n",
       "      <td>82.000000</td>\n",
       "      <td>99.076000</td>\n",
       "    </tr>\n",
       "  </tbody>\n",
       "</table>\n",
       "</div>"
      ],
      "text/plain": [
       "               sent      received    latency_ms      sent_sec\n",
       "count  1.000000e+04  1.000000e+04  10000.000000  10000.000000\n",
       "mean   1.657968e+12  1.657968e+12     29.677200     49.610312\n",
       "std    2.854619e+04  2.854608e+04      5.263437     28.546194\n",
       "min    1.657968e+12  1.657968e+12     25.000000      0.000000\n",
       "25%    1.657968e+12  1.657968e+12     28.000000     24.938500\n",
       "50%    1.657968e+12  1.657968e+12     28.000000     49.582500\n",
       "75%    1.657968e+12  1.657968e+12     29.000000     74.321250\n",
       "max    1.657968e+12  1.657968e+12     82.000000     99.076000"
      ]
     },
     "execution_count": 41,
     "metadata": {},
     "output_type": "execute_result"
    }
   ],
   "source": [
    "dfA.describe()"
   ]
  },
  {
   "cell_type": "code",
   "execution_count": 42,
   "id": "6358e296",
   "metadata": {},
   "outputs": [
    {
     "data": {
      "text/html": [
       "<div>\n",
       "<style scoped>\n",
       "    .dataframe tbody tr th:only-of-type {\n",
       "        vertical-align: middle;\n",
       "    }\n",
       "\n",
       "    .dataframe tbody tr th {\n",
       "        vertical-align: top;\n",
       "    }\n",
       "\n",
       "    .dataframe thead th {\n",
       "        text-align: right;\n",
       "    }\n",
       "</style>\n",
       "<table border=\"1\" class=\"dataframe\">\n",
       "  <thead>\n",
       "    <tr style=\"text-align: right;\">\n",
       "      <th></th>\n",
       "      <th>sent</th>\n",
       "      <th>received</th>\n",
       "      <th>latency_ms</th>\n",
       "      <th>sent_sec</th>\n",
       "    </tr>\n",
       "  </thead>\n",
       "  <tbody>\n",
       "    <tr>\n",
       "      <th>count</th>\n",
       "      <td>1.000000e+04</td>\n",
       "      <td>1.000000e+04</td>\n",
       "      <td>10000.00000</td>\n",
       "      <td>10000.000000</td>\n",
       "    </tr>\n",
       "    <tr>\n",
       "      <th>mean</th>\n",
       "      <td>1.657968e+12</td>\n",
       "      <td>1.657968e+12</td>\n",
       "      <td>29.73480</td>\n",
       "      <td>49.657313</td>\n",
       "    </tr>\n",
       "    <tr>\n",
       "      <th>std</th>\n",
       "      <td>2.861014e+04</td>\n",
       "      <td>2.861008e+04</td>\n",
       "      <td>5.24479</td>\n",
       "      <td>28.610143</td>\n",
       "    </tr>\n",
       "    <tr>\n",
       "      <th>min</th>\n",
       "      <td>1.657968e+12</td>\n",
       "      <td>1.657968e+12</td>\n",
       "      <td>25.00000</td>\n",
       "      <td>0.000000</td>\n",
       "    </tr>\n",
       "    <tr>\n",
       "      <th>25%</th>\n",
       "      <td>1.657968e+12</td>\n",
       "      <td>1.657968e+12</td>\n",
       "      <td>28.00000</td>\n",
       "      <td>25.008250</td>\n",
       "    </tr>\n",
       "    <tr>\n",
       "      <th>50%</th>\n",
       "      <td>1.657968e+12</td>\n",
       "      <td>1.657968e+12</td>\n",
       "      <td>28.00000</td>\n",
       "      <td>49.634000</td>\n",
       "    </tr>\n",
       "    <tr>\n",
       "      <th>75%</th>\n",
       "      <td>1.657968e+12</td>\n",
       "      <td>1.657968e+12</td>\n",
       "      <td>29.00000</td>\n",
       "      <td>74.406500</td>\n",
       "    </tr>\n",
       "    <tr>\n",
       "      <th>max</th>\n",
       "      <td>1.657968e+12</td>\n",
       "      <td>1.657968e+12</td>\n",
       "      <td>102.00000</td>\n",
       "      <td>99.474000</td>\n",
       "    </tr>\n",
       "  </tbody>\n",
       "</table>\n",
       "</div>"
      ],
      "text/plain": [
       "               sent      received   latency_ms      sent_sec\n",
       "count  1.000000e+04  1.000000e+04  10000.00000  10000.000000\n",
       "mean   1.657968e+12  1.657968e+12     29.73480     49.657313\n",
       "std    2.861014e+04  2.861008e+04      5.24479     28.610143\n",
       "min    1.657968e+12  1.657968e+12     25.00000      0.000000\n",
       "25%    1.657968e+12  1.657968e+12     28.00000     25.008250\n",
       "50%    1.657968e+12  1.657968e+12     28.00000     49.634000\n",
       "75%    1.657968e+12  1.657968e+12     29.00000     74.406500\n",
       "max    1.657968e+12  1.657968e+12    102.00000     99.474000"
      ]
     },
     "execution_count": 42,
     "metadata": {},
     "output_type": "execute_result"
    }
   ],
   "source": [
    "dfB.describe()"
   ]
  },
  {
   "cell_type": "markdown",
   "id": "9467581b",
   "metadata": {},
   "source": [
    "### Min. Latencies for Worker 2 (A & B)"
   ]
  },
  {
   "cell_type": "code",
   "execution_count": 43,
   "id": "a6d0c80a",
   "metadata": {},
   "outputs": [
    {
     "ename": "ValueError",
     "evalue": "attempt to get argmin of an empty sequence",
     "output_type": "error",
     "traceback": [
      "\u001b[1;31m---------------------------------------------------------------------------\u001b[0m",
      "\u001b[1;31mValueError\u001b[0m                                Traceback (most recent call last)",
      "Input \u001b[1;32mIn [43]\u001b[0m, in \u001b[0;36m<cell line: 1>\u001b[1;34m()\u001b[0m\n\u001b[1;32m----> 1\u001b[0m dfA2\u001b[38;5;241m.\u001b[39mloc[\u001b[43mdfA2\u001b[49m\u001b[43m[\u001b[49m\u001b[38;5;124;43m\"\u001b[39;49m\u001b[38;5;124;43mlatency_ms\u001b[39;49m\u001b[38;5;124;43m\"\u001b[39;49m\u001b[43m]\u001b[49m\u001b[38;5;241;43m.\u001b[39;49m\u001b[43midxmin\u001b[49m\u001b[43m(\u001b[49m\u001b[43m)\u001b[49m]\n",
      "File \u001b[1;32m~\\AppData\\Local\\Programs\\Python\\Python310\\lib\\site-packages\\pandas\\core\\series.py:2334\u001b[0m, in \u001b[0;36mSeries.idxmin\u001b[1;34m(self, axis, skipna, *args, **kwargs)\u001b[0m\n\u001b[0;32m   2270\u001b[0m \u001b[38;5;28;01mdef\u001b[39;00m \u001b[38;5;21midxmin\u001b[39m(\u001b[38;5;28mself\u001b[39m, axis\u001b[38;5;241m=\u001b[39m\u001b[38;5;241m0\u001b[39m, skipna\u001b[38;5;241m=\u001b[39m\u001b[38;5;28;01mTrue\u001b[39;00m, \u001b[38;5;241m*\u001b[39margs, \u001b[38;5;241m*\u001b[39m\u001b[38;5;241m*\u001b[39mkwargs):\n\u001b[0;32m   2271\u001b[0m     \u001b[38;5;124;03m\"\"\"\u001b[39;00m\n\u001b[0;32m   2272\u001b[0m \u001b[38;5;124;03m    Return the row label of the minimum value.\u001b[39;00m\n\u001b[0;32m   2273\u001b[0m \n\u001b[1;32m   (...)\u001b[0m\n\u001b[0;32m   2332\u001b[0m \u001b[38;5;124;03m    nan\u001b[39;00m\n\u001b[0;32m   2333\u001b[0m \u001b[38;5;124;03m    \"\"\"\u001b[39;00m\n\u001b[1;32m-> 2334\u001b[0m     i \u001b[38;5;241m=\u001b[39m \u001b[38;5;28mself\u001b[39m\u001b[38;5;241m.\u001b[39margmin(axis, skipna, \u001b[38;5;241m*\u001b[39margs, \u001b[38;5;241m*\u001b[39m\u001b[38;5;241m*\u001b[39mkwargs)\n\u001b[0;32m   2335\u001b[0m     \u001b[38;5;28;01mif\u001b[39;00m i \u001b[38;5;241m==\u001b[39m \u001b[38;5;241m-\u001b[39m\u001b[38;5;241m1\u001b[39m:\n\u001b[0;32m   2336\u001b[0m         \u001b[38;5;28;01mreturn\u001b[39;00m np\u001b[38;5;241m.\u001b[39mnan\n",
      "File \u001b[1;32m~\\AppData\\Local\\Programs\\Python\\Python310\\lib\\site-packages\\pandas\\core\\base.py:719\u001b[0m, in \u001b[0;36mIndexOpsMixin.argmin\u001b[1;34m(self, axis, skipna, *args, **kwargs)\u001b[0m\n\u001b[0;32m    715\u001b[0m         \u001b[38;5;28;01mreturn\u001b[39;00m delegate\u001b[38;5;241m.\u001b[39margmin()\n\u001b[0;32m    716\u001b[0m \u001b[38;5;28;01melse\u001b[39;00m:\n\u001b[0;32m    717\u001b[0m     \u001b[38;5;66;03m# error: Incompatible return value type (got \"Union[int, ndarray]\", expected\u001b[39;00m\n\u001b[0;32m    718\u001b[0m     \u001b[38;5;66;03m# \"int\")\u001b[39;00m\n\u001b[1;32m--> 719\u001b[0m     \u001b[38;5;28;01mreturn\u001b[39;00m \u001b[43mnanops\u001b[49m\u001b[38;5;241;43m.\u001b[39;49m\u001b[43mnanargmin\u001b[49m\u001b[43m(\u001b[49m\u001b[43m  \u001b[49m\u001b[38;5;66;43;03m# type: ignore[return-value]\u001b[39;49;00m\n\u001b[0;32m    720\u001b[0m \u001b[43m        \u001b[49m\u001b[43mdelegate\u001b[49m\u001b[43m,\u001b[49m\u001b[43m \u001b[49m\u001b[43mskipna\u001b[49m\u001b[38;5;241;43m=\u001b[39;49m\u001b[43mskipna\u001b[49m\n\u001b[0;32m    721\u001b[0m \u001b[43m    \u001b[49m\u001b[43m)\u001b[49m\n",
      "File \u001b[1;32m~\\AppData\\Local\\Programs\\Python\\Python310\\lib\\site-packages\\pandas\\core\\nanops.py:93\u001b[0m, in \u001b[0;36mdisallow.__call__.<locals>._f\u001b[1;34m(*args, **kwargs)\u001b[0m\n\u001b[0;32m     91\u001b[0m \u001b[38;5;28;01mtry\u001b[39;00m:\n\u001b[0;32m     92\u001b[0m     \u001b[38;5;28;01mwith\u001b[39;00m np\u001b[38;5;241m.\u001b[39merrstate(invalid\u001b[38;5;241m=\u001b[39m\u001b[38;5;124m\"\u001b[39m\u001b[38;5;124mignore\u001b[39m\u001b[38;5;124m\"\u001b[39m):\n\u001b[1;32m---> 93\u001b[0m         \u001b[38;5;28;01mreturn\u001b[39;00m f(\u001b[38;5;241m*\u001b[39margs, \u001b[38;5;241m*\u001b[39m\u001b[38;5;241m*\u001b[39mkwargs)\n\u001b[0;32m     94\u001b[0m \u001b[38;5;28;01mexcept\u001b[39;00m \u001b[38;5;167;01mValueError\u001b[39;00m \u001b[38;5;28;01mas\u001b[39;00m e:\n\u001b[0;32m     95\u001b[0m     \u001b[38;5;66;03m# we want to transform an object array\u001b[39;00m\n\u001b[0;32m     96\u001b[0m     \u001b[38;5;66;03m# ValueError message to the more typical TypeError\u001b[39;00m\n\u001b[0;32m     97\u001b[0m     \u001b[38;5;66;03m# e.g. this is normally a disallowed function on\u001b[39;00m\n\u001b[0;32m     98\u001b[0m     \u001b[38;5;66;03m# object arrays that contain strings\u001b[39;00m\n\u001b[0;32m     99\u001b[0m     \u001b[38;5;28;01mif\u001b[39;00m is_object_dtype(args[\u001b[38;5;241m0\u001b[39m]):\n",
      "File \u001b[1;32m~\\AppData\\Local\\Programs\\Python\\Python310\\lib\\site-packages\\pandas\\core\\nanops.py:1142\u001b[0m, in \u001b[0;36mnanargmin\u001b[1;34m(values, axis, skipna, mask)\u001b[0m\n\u001b[0;32m   1140\u001b[0m values, mask, _, _, _ \u001b[38;5;241m=\u001b[39m _get_values(values, \u001b[38;5;28;01mTrue\u001b[39;00m, fill_value_typ\u001b[38;5;241m=\u001b[39m\u001b[38;5;124m\"\u001b[39m\u001b[38;5;124m+inf\u001b[39m\u001b[38;5;124m\"\u001b[39m, mask\u001b[38;5;241m=\u001b[39mmask)\n\u001b[0;32m   1141\u001b[0m \u001b[38;5;66;03m# error: Need type annotation for 'result'\u001b[39;00m\n\u001b[1;32m-> 1142\u001b[0m result \u001b[38;5;241m=\u001b[39m \u001b[43mvalues\u001b[49m\u001b[38;5;241;43m.\u001b[39;49m\u001b[43margmin\u001b[49m\u001b[43m(\u001b[49m\u001b[43maxis\u001b[49m\u001b[43m)\u001b[49m  \u001b[38;5;66;03m# type: ignore[var-annotated]\u001b[39;00m\n\u001b[0;32m   1143\u001b[0m result \u001b[38;5;241m=\u001b[39m _maybe_arg_null_out(result, axis, mask, skipna)\n\u001b[0;32m   1144\u001b[0m \u001b[38;5;28;01mreturn\u001b[39;00m result\n",
      "\u001b[1;31mValueError\u001b[0m: attempt to get argmin of an empty sequence"
     ]
    }
   ],
   "source": [
    "dfA2.loc[dfA2[\"latency_ms\"].idxmin()]"
   ]
  },
  {
   "cell_type": "code",
   "execution_count": null,
   "id": "c7c47c98",
   "metadata": {},
   "outputs": [],
   "source": [
    "dfB2.loc[dfB2[\"latency_ms\"].idxmin()]"
   ]
  },
  {
   "cell_type": "markdown",
   "id": "c7926d67",
   "metadata": {},
   "source": [
    "### Some checks"
   ]
  },
  {
   "cell_type": "markdown",
   "id": "f4d9c4a2",
   "metadata": {},
   "source": [
    "#### Time difference in ms when first query was sent by worker-1 to Version A and B "
   ]
  },
  {
   "cell_type": "code",
   "execution_count": null,
   "id": "61fe0605",
   "metadata": {},
   "outputs": [],
   "source": [
    "\n",
    "dfA2[\"sent\"].min() - dfB2[\"sent\"].min()"
   ]
  },
  {
   "cell_type": "markdown",
   "id": "676b17ce",
   "metadata": {},
   "source": [
    "#### Time difference in ms when last query was sent by worker-1 to Version A and B "
   ]
  },
  {
   "cell_type": "code",
   "execution_count": null,
   "id": "234a1c20",
   "metadata": {},
   "outputs": [],
   "source": [
    "dfA1[\"sent\"].max() - dfB1[\"sent\"].max() \n"
   ]
  },
  {
   "cell_type": "markdown",
   "id": "74abe57d",
   "metadata": {},
   "source": [
    "## Create Figures "
   ]
  },
  {
   "cell_type": "markdown",
   "id": "2a090a7b",
   "metadata": {},
   "source": [
    "### Create Boxplots"
   ]
  },
  {
   "cell_type": "code",
   "execution_count": null,
   "id": "58a49efa",
   "metadata": {},
   "outputs": [],
   "source": [
    "sns.set_theme(style=\"darkgrid\")"
   ]
  },
  {
   "cell_type": "code",
   "execution_count": null,
   "id": "4f8631c8",
   "metadata": {},
   "outputs": [],
   "source": [
    "ax = plt.boxplot(x=dfA[\"latency_ms\"])\n"
   ]
  },
  {
   "cell_type": "markdown",
   "id": "1ef8d979",
   "metadata": {},
   "source": [
    "### Create Flowchart"
   ]
  },
  {
   "cell_type": "code",
   "execution_count": null,
   "id": "8058b963",
   "metadata": {},
   "outputs": [],
   "source": [
    "sns.lmplot(x='sent_sec', y='latency_ms', data=dfA, fit_reg=False)"
   ]
  }
 ],
 "metadata": {
  "kernelspec": {
   "display_name": "Python 3 (ipykernel)",
   "language": "python",
   "name": "python3"
  },
  "language_info": {
   "codemirror_mode": {
    "name": "ipython",
    "version": 3
   },
   "file_extension": ".py",
   "mimetype": "text/x-python",
   "name": "python",
   "nbconvert_exporter": "python",
   "pygments_lexer": "ipython3",
   "version": "3.10.4"
  }
 },
 "nbformat": 4,
 "nbformat_minor": 5
}
