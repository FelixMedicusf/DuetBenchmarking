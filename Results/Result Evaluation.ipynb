{
 "cells": [
  {
   "cell_type": "markdown",
   "id": "effbe8fe",
   "metadata": {},
   "source": [
    "# Evaluation Of Duet Benchmarking Results from Distributed Database \"Cassandra\""
   ]
  },
  {
   "cell_type": "markdown",
   "id": "e0294f93",
   "metadata": {},
   "source": [
    "### Imports"
   ]
  },
  {
   "cell_type": "code",
   "execution_count": 98,
   "id": "e4a313ec",
   "metadata": {},
   "outputs": [],
   "source": [
    "import matplotlib.pyplot as plt\n",
    "import numpy as np\n",
    "import seaborn as sns\n",
    "import pandas as pd\n",
    "import os\n",
    "from pathlib import Path"
   ]
  },
  {
   "cell_type": "markdown",
   "id": "eb039afe",
   "metadata": {},
   "source": [
    "### Import Benchmarking Measurements as csv file and create Pandas Dataframe for further Analysis"
   ]
  },
  {
   "cell_type": "code",
   "execution_count": 99,
   "id": "2bae1a82",
   "metadata": {},
   "outputs": [
    {
     "name": "stdout",
     "output_type": "stream",
     "text": [
      "C:\\Users\\Felix Medicus\\Desktop\\Thesis_MCC\\DuetBenchmarking\\Results\\Results\\1mCops_3t\\run_measurements.csv\n"
     ]
    }
   ],
   "source": [
    "cwd = Path.cwd()\n",
    "filepath = os.path.join(cwd, \"Results\", \"1mCops_3t\", \"run_measurements.csv\")\n",
    "print(filepath)\n",
    "df = pd.read_csv(filepath)"
   ]
  },
  {
   "cell_type": "markdown",
   "id": "337c61b0",
   "metadata": {},
   "source": [
    "### Insert latencies in ms into the measurement table"
   ]
  },
  {
   "cell_type": "code",
   "execution_count": 100,
   "id": "15d7d02f",
   "metadata": {},
   "outputs": [],
   "source": [
    "df[\"latency_ms\"] = (df[\"received\"]- df[\"sent\"])/1000000"
   ]
  },
  {
   "cell_type": "code",
   "execution_count": 101,
   "id": "5ddf3971",
   "metadata": {},
   "outputs": [],
   "source": [
    "df[\"sent_ms\"] = df[\"sent\"].div(1000000)\n",
    "df[\"received_ms\"] = df[\"received\"].div(1000000)"
   ]
  },
  {
   "cell_type": "code",
   "execution_count": 102,
   "id": "baca2f0f",
   "metadata": {},
   "outputs": [
    {
     "data": {
      "text/html": [
       "<div>\n",
       "<style scoped>\n",
       "    .dataframe tbody tr th:only-of-type {\n",
       "        vertical-align: middle;\n",
       "    }\n",
       "\n",
       "    .dataframe tbody tr th {\n",
       "        vertical-align: top;\n",
       "    }\n",
       "\n",
       "    .dataframe thead th {\n",
       "        text-align: right;\n",
       "    }\n",
       "</style>\n",
       "<table border=\"1\" class=\"dataframe\">\n",
       "  <thead>\n",
       "    <tr style=\"text-align: right;\">\n",
       "      <th></th>\n",
       "      <th>sent</th>\n",
       "      <th>received</th>\n",
       "      <th>latency_ms</th>\n",
       "      <th>sent_ms</th>\n",
       "      <th>received_ms</th>\n",
       "    </tr>\n",
       "  </thead>\n",
       "  <tbody>\n",
       "    <tr>\n",
       "      <th>count</th>\n",
       "      <td>2.000000e+06</td>\n",
       "      <td>2.000000e+06</td>\n",
       "      <td>2.000000e+06</td>\n",
       "      <td>2.000000e+06</td>\n",
       "      <td>2.000000e+06</td>\n",
       "    </tr>\n",
       "    <tr>\n",
       "      <th>mean</th>\n",
       "      <td>3.451032e+12</td>\n",
       "      <td>3.451040e+12</td>\n",
       "      <td>8.203986e+00</td>\n",
       "      <td>3.451032e+06</td>\n",
       "      <td>3.451040e+06</td>\n",
       "    </tr>\n",
       "    <tr>\n",
       "      <th>std</th>\n",
       "      <td>2.676066e+11</td>\n",
       "      <td>2.676071e+11</td>\n",
       "      <td>2.236801e+01</td>\n",
       "      <td>2.676066e+05</td>\n",
       "      <td>2.676071e+05</td>\n",
       "    </tr>\n",
       "    <tr>\n",
       "      <th>min</th>\n",
       "      <td>3.009894e+12</td>\n",
       "      <td>3.010038e+12</td>\n",
       "      <td>6.495310e-01</td>\n",
       "      <td>3.009894e+06</td>\n",
       "      <td>3.010038e+06</td>\n",
       "    </tr>\n",
       "    <tr>\n",
       "      <th>25%</th>\n",
       "      <td>3.196562e+12</td>\n",
       "      <td>3.196587e+12</td>\n",
       "      <td>1.394271e+00</td>\n",
       "      <td>3.196562e+06</td>\n",
       "      <td>3.196587e+06</td>\n",
       "    </tr>\n",
       "    <tr>\n",
       "      <th>50%</th>\n",
       "      <td>3.443921e+12</td>\n",
       "      <td>3.443924e+12</td>\n",
       "      <td>2.071056e+00</td>\n",
       "      <td>3.443921e+06</td>\n",
       "      <td>3.443924e+06</td>\n",
       "    </tr>\n",
       "    <tr>\n",
       "      <th>75%</th>\n",
       "      <td>3.684901e+12</td>\n",
       "      <td>3.684904e+12</td>\n",
       "      <td>3.688821e+00</td>\n",
       "      <td>3.684901e+06</td>\n",
       "      <td>3.684904e+06</td>\n",
       "    </tr>\n",
       "    <tr>\n",
       "      <th>max</th>\n",
       "      <td>3.937053e+12</td>\n",
       "      <td>3.937055e+12</td>\n",
       "      <td>3.922801e+02</td>\n",
       "      <td>3.937053e+06</td>\n",
       "      <td>3.937055e+06</td>\n",
       "    </tr>\n",
       "  </tbody>\n",
       "</table>\n",
       "</div>"
      ],
      "text/plain": [
       "               sent      received    latency_ms       sent_ms   received_ms\n",
       "count  2.000000e+06  2.000000e+06  2.000000e+06  2.000000e+06  2.000000e+06\n",
       "mean   3.451032e+12  3.451040e+12  8.203986e+00  3.451032e+06  3.451040e+06\n",
       "std    2.676066e+11  2.676071e+11  2.236801e+01  2.676066e+05  2.676071e+05\n",
       "min    3.009894e+12  3.010038e+12  6.495310e-01  3.009894e+06  3.010038e+06\n",
       "25%    3.196562e+12  3.196587e+12  1.394271e+00  3.196562e+06  3.196587e+06\n",
       "50%    3.443921e+12  3.443924e+12  2.071056e+00  3.443921e+06  3.443924e+06\n",
       "75%    3.684901e+12  3.684904e+12  3.688821e+00  3.684901e+06  3.684904e+06\n",
       "max    3.937053e+12  3.937055e+12  3.922801e+02  3.937053e+06  3.937055e+06"
      ]
     },
     "execution_count": 102,
     "metadata": {},
     "output_type": "execute_result"
    }
   ],
   "source": [
    "df.describe()"
   ]
  },
  {
   "cell_type": "markdown",
   "id": "c9c40381",
   "metadata": {},
   "source": [
    "### Restructure Timeline"
   ]
  },
  {
   "cell_type": "code",
   "execution_count": 103,
   "id": "ca0d2243",
   "metadata": {},
   "outputs": [],
   "source": [
    "firstSent = df[\"sent\"].min()\n",
    "df[\"sent_sec\"] = (df[\"sent\"] - firstSent)/1000000/1000"
   ]
  },
  {
   "cell_type": "markdown",
   "id": "19999622",
   "metadata": {},
   "source": [
    "### Create Function to prune Measurements"
   ]
  },
  {
   "cell_type": "code",
   "execution_count": 104,
   "id": "ee3aa619",
   "metadata": {},
   "outputs": [
    {
     "name": "stdout",
     "output_type": "stream",
     "text": [
      "Hello from the other side\n"
     ]
    }
   ],
   "source": [
    "def pruneMeasurements(dataframe): \n",
    "    print(\"Hello from the other side\")\n",
    "    \n",
    "pruneMeasurements(df)\n"
   ]
  },
  {
   "cell_type": "markdown",
   "id": "a6a75b54",
   "metadata": {},
   "source": [
    "### Create subsets of dataframe (for Version A and B, and for each worker for Version A and B) "
   ]
  },
  {
   "cell_type": "code",
   "execution_count": 105,
   "id": "50754c1e",
   "metadata": {},
   "outputs": [],
   "source": [
    "dfA1 = df.loc[(df[\"workerId\"] == \"w1-vA\")]\n",
    "dfA2 = df.loc[(df[\"workerId\"] == \"w2-vA\")]\n",
    "dfA3 = df.loc[(df[\"workerId\"] == \"w3-vA\")]\n",
    "dfB1 = df.loc[(df[\"workerId\"] == \"w1-vB\")]\n",
    "dfB2 = df.loc[(df[\"workerId\"] == \"w2-vB\")]\n",
    "dfB3 = df.loc[(df[\"workerId\"] == \"w3-vB\")]\n",
    "dfA = df.loc[(df[\"workerId\"] == \"w1-vA\") | (df[\"workerId\"] == \"w2-vA\") | (df[\"workerId\"] == \"w3-vA\")]\n",
    "dfB = df.loc[(df[\"workerId\"] == \"w1-vB\") | (df[\"workerId\"] == \"w2-vB\") | (df[\"workerId\"] == \"w3-vB\")]"
   ]
  },
  {
   "cell_type": "markdown",
   "id": "8285fdc6",
   "metadata": {},
   "source": [
    "### Return benchmark run time (First request send to last response received)"
   ]
  },
  {
   "cell_type": "code",
   "execution_count": 106,
   "id": "637c658e",
   "metadata": {},
   "outputs": [
    {
     "name": "stdout",
     "output_type": "stream",
     "text": [
      "15.452681873583334 minuten\n"
     ]
    }
   ],
   "source": [
    "totalTime = df[\"received\"].max() - df[\"sent\"].min()\n",
    "print(totalTime/1000000/1000/60, \"minuten\")"
   ]
  },
  {
   "cell_type": "code",
   "execution_count": 107,
   "id": "5a83a254",
   "metadata": {},
   "outputs": [
    {
     "data": {
      "text/html": [
       "<div>\n",
       "<style scoped>\n",
       "    .dataframe tbody tr th:only-of-type {\n",
       "        vertical-align: middle;\n",
       "    }\n",
       "\n",
       "    .dataframe tbody tr th {\n",
       "        vertical-align: top;\n",
       "    }\n",
       "\n",
       "    .dataframe thead th {\n",
       "        text-align: right;\n",
       "    }\n",
       "</style>\n",
       "<table border=\"1\" class=\"dataframe\">\n",
       "  <thead>\n",
       "    <tr style=\"text-align: right;\">\n",
       "      <th></th>\n",
       "      <th>sent</th>\n",
       "      <th>received</th>\n",
       "      <th>latency_ms</th>\n",
       "      <th>sent_ms</th>\n",
       "      <th>received_ms</th>\n",
       "      <th>sent_sec</th>\n",
       "    </tr>\n",
       "  </thead>\n",
       "  <tbody>\n",
       "    <tr>\n",
       "      <th>count</th>\n",
       "      <td>1.000000e+06</td>\n",
       "      <td>1.000000e+06</td>\n",
       "      <td>1000000.000000</td>\n",
       "      <td>1.000000e+06</td>\n",
       "      <td>1.000000e+06</td>\n",
       "      <td>1000000.000000</td>\n",
       "    </tr>\n",
       "    <tr>\n",
       "      <th>mean</th>\n",
       "      <td>3.451173e+12</td>\n",
       "      <td>3.451181e+12</td>\n",
       "      <td>8.153034</td>\n",
       "      <td>3.451173e+06</td>\n",
       "      <td>3.451181e+06</td>\n",
       "      <td>441.279290</td>\n",
       "    </tr>\n",
       "    <tr>\n",
       "      <th>std</th>\n",
       "      <td>2.657365e+11</td>\n",
       "      <td>2.657369e+11</td>\n",
       "      <td>22.277434</td>\n",
       "      <td>2.657365e+05</td>\n",
       "      <td>2.657369e+05</td>\n",
       "      <td>265.736459</td>\n",
       "    </tr>\n",
       "    <tr>\n",
       "      <th>min</th>\n",
       "      <td>3.009894e+12</td>\n",
       "      <td>3.010064e+12</td>\n",
       "      <td>0.669454</td>\n",
       "      <td>3.009894e+06</td>\n",
       "      <td>3.010064e+06</td>\n",
       "      <td>0.000000</td>\n",
       "    </tr>\n",
       "    <tr>\n",
       "      <th>25%</th>\n",
       "      <td>3.199147e+12</td>\n",
       "      <td>3.199150e+12</td>\n",
       "      <td>1.395673</td>\n",
       "      <td>3.199147e+06</td>\n",
       "      <td>3.199150e+06</td>\n",
       "      <td>189.252956</td>\n",
       "    </tr>\n",
       "    <tr>\n",
       "      <th>50%</th>\n",
       "      <td>3.444653e+12</td>\n",
       "      <td>3.444655e+12</td>\n",
       "      <td>2.075693</td>\n",
       "      <td>3.444653e+06</td>\n",
       "      <td>3.444655e+06</td>\n",
       "      <td>434.759591</td>\n",
       "    </tr>\n",
       "    <tr>\n",
       "      <th>75%</th>\n",
       "      <td>3.684178e+12</td>\n",
       "      <td>3.684184e+12</td>\n",
       "      <td>3.679725</td>\n",
       "      <td>3.684178e+06</td>\n",
       "      <td>3.684184e+06</td>\n",
       "      <td>674.284831</td>\n",
       "    </tr>\n",
       "    <tr>\n",
       "      <th>max</th>\n",
       "      <td>3.927611e+12</td>\n",
       "      <td>3.927612e+12</td>\n",
       "      <td>384.965052</td>\n",
       "      <td>3.927611e+06</td>\n",
       "      <td>3.927612e+06</td>\n",
       "      <td>917.717018</td>\n",
       "    </tr>\n",
       "  </tbody>\n",
       "</table>\n",
       "</div>"
      ],
      "text/plain": [
       "               sent      received      latency_ms       sent_ms   received_ms  \\\n",
       "count  1.000000e+06  1.000000e+06  1000000.000000  1.000000e+06  1.000000e+06   \n",
       "mean   3.451173e+12  3.451181e+12        8.153034  3.451173e+06  3.451181e+06   \n",
       "std    2.657365e+11  2.657369e+11       22.277434  2.657365e+05  2.657369e+05   \n",
       "min    3.009894e+12  3.010064e+12        0.669454  3.009894e+06  3.010064e+06   \n",
       "25%    3.199147e+12  3.199150e+12        1.395673  3.199147e+06  3.199150e+06   \n",
       "50%    3.444653e+12  3.444655e+12        2.075693  3.444653e+06  3.444655e+06   \n",
       "75%    3.684178e+12  3.684184e+12        3.679725  3.684178e+06  3.684184e+06   \n",
       "max    3.927611e+12  3.927612e+12      384.965052  3.927611e+06  3.927612e+06   \n",
       "\n",
       "             sent_sec  \n",
       "count  1000000.000000  \n",
       "mean       441.279290  \n",
       "std        265.736459  \n",
       "min          0.000000  \n",
       "25%        189.252956  \n",
       "50%        434.759591  \n",
       "75%        674.284831  \n",
       "max        917.717018  "
      ]
     },
     "execution_count": 107,
     "metadata": {},
     "output_type": "execute_result"
    }
   ],
   "source": [
    "dfA.describe()"
   ]
  },
  {
   "cell_type": "code",
   "execution_count": 108,
   "id": "6358e296",
   "metadata": {},
   "outputs": [
    {
     "data": {
      "text/html": [
       "<div>\n",
       "<style scoped>\n",
       "    .dataframe tbody tr th:only-of-type {\n",
       "        vertical-align: middle;\n",
       "    }\n",
       "\n",
       "    .dataframe tbody tr th {\n",
       "        vertical-align: top;\n",
       "    }\n",
       "\n",
       "    .dataframe thead th {\n",
       "        text-align: right;\n",
       "    }\n",
       "</style>\n",
       "<table border=\"1\" class=\"dataframe\">\n",
       "  <thead>\n",
       "    <tr style=\"text-align: right;\">\n",
       "      <th></th>\n",
       "      <th>sent</th>\n",
       "      <th>received</th>\n",
       "      <th>latency_ms</th>\n",
       "      <th>sent_ms</th>\n",
       "      <th>received_ms</th>\n",
       "      <th>sent_sec</th>\n",
       "    </tr>\n",
       "  </thead>\n",
       "  <tbody>\n",
       "    <tr>\n",
       "      <th>count</th>\n",
       "      <td>1.000000e+06</td>\n",
       "      <td>1.000000e+06</td>\n",
       "      <td>1000000.000000</td>\n",
       "      <td>1.000000e+06</td>\n",
       "      <td>1.000000e+06</td>\n",
       "      <td>1000000.000000</td>\n",
       "    </tr>\n",
       "    <tr>\n",
       "      <th>mean</th>\n",
       "      <td>3.450891e+12</td>\n",
       "      <td>3.450899e+12</td>\n",
       "      <td>8.254939</td>\n",
       "      <td>3.450891e+06</td>\n",
       "      <td>3.450899e+06</td>\n",
       "      <td>440.997425</td>\n",
       "    </tr>\n",
       "    <tr>\n",
       "      <th>std</th>\n",
       "      <td>2.694638e+11</td>\n",
       "      <td>2.694644e+11</td>\n",
       "      <td>22.458113</td>\n",
       "      <td>2.694638e+05</td>\n",
       "      <td>2.694644e+05</td>\n",
       "      <td>269.463824</td>\n",
       "    </tr>\n",
       "    <tr>\n",
       "      <th>min</th>\n",
       "      <td>3.009894e+12</td>\n",
       "      <td>3.010038e+12</td>\n",
       "      <td>0.649531</td>\n",
       "      <td>3.009894e+06</td>\n",
       "      <td>3.010038e+06</td>\n",
       "      <td>0.000339</td>\n",
       "    </tr>\n",
       "    <tr>\n",
       "      <th>25%</th>\n",
       "      <td>3.193150e+12</td>\n",
       "      <td>3.193158e+12</td>\n",
       "      <td>1.392855</td>\n",
       "      <td>3.193150e+06</td>\n",
       "      <td>3.193158e+06</td>\n",
       "      <td>183.256744</td>\n",
       "    </tr>\n",
       "    <tr>\n",
       "      <th>50%</th>\n",
       "      <td>3.443195e+12</td>\n",
       "      <td>3.443203e+12</td>\n",
       "      <td>2.065935</td>\n",
       "      <td>3.443195e+06</td>\n",
       "      <td>3.443203e+06</td>\n",
       "      <td>433.301618</td>\n",
       "    </tr>\n",
       "    <tr>\n",
       "      <th>75%</th>\n",
       "      <td>3.685664e+12</td>\n",
       "      <td>3.685666e+12</td>\n",
       "      <td>3.697239</td>\n",
       "      <td>3.685664e+06</td>\n",
       "      <td>3.685666e+06</td>\n",
       "      <td>675.770331</td>\n",
       "    </tr>\n",
       "    <tr>\n",
       "      <th>max</th>\n",
       "      <td>3.937053e+12</td>\n",
       "      <td>3.937055e+12</td>\n",
       "      <td>392.280054</td>\n",
       "      <td>3.937053e+06</td>\n",
       "      <td>3.937055e+06</td>\n",
       "      <td>927.158988</td>\n",
       "    </tr>\n",
       "  </tbody>\n",
       "</table>\n",
       "</div>"
      ],
      "text/plain": [
       "               sent      received      latency_ms       sent_ms   received_ms  \\\n",
       "count  1.000000e+06  1.000000e+06  1000000.000000  1.000000e+06  1.000000e+06   \n",
       "mean   3.450891e+12  3.450899e+12        8.254939  3.450891e+06  3.450899e+06   \n",
       "std    2.694638e+11  2.694644e+11       22.458113  2.694638e+05  2.694644e+05   \n",
       "min    3.009894e+12  3.010038e+12        0.649531  3.009894e+06  3.010038e+06   \n",
       "25%    3.193150e+12  3.193158e+12        1.392855  3.193150e+06  3.193158e+06   \n",
       "50%    3.443195e+12  3.443203e+12        2.065935  3.443195e+06  3.443203e+06   \n",
       "75%    3.685664e+12  3.685666e+12        3.697239  3.685664e+06  3.685666e+06   \n",
       "max    3.937053e+12  3.937055e+12      392.280054  3.937053e+06  3.937055e+06   \n",
       "\n",
       "             sent_sec  \n",
       "count  1000000.000000  \n",
       "mean       440.997425  \n",
       "std        269.463824  \n",
       "min          0.000339  \n",
       "25%        183.256744  \n",
       "50%        433.301618  \n",
       "75%        675.770331  \n",
       "max        927.158988  "
      ]
     },
     "execution_count": 108,
     "metadata": {},
     "output_type": "execute_result"
    }
   ],
   "source": [
    "dfB.describe()"
   ]
  },
  {
   "cell_type": "markdown",
   "id": "9467581b",
   "metadata": {},
   "source": [
    "### Min. Latencies for Worker 2 (A & B)"
   ]
  },
  {
   "cell_type": "code",
   "execution_count": 118,
   "id": "a6d0c80a",
   "metadata": {},
   "outputs": [
    {
     "data": {
      "text/plain": [
       "workerId                                        w3-vA\n",
       "queryType                                      SELECT\n",
       "queryId          353a59a3-217b-4a03-b0ac-81d91066245d\n",
       "sent                                    3347847894222\n",
       "received                                3347848616651\n",
       "target-region                                 unknown\n",
       "latency_ms                                   0.722429\n",
       "sent_ms                                3347847.894222\n",
       "received_ms                            3347848.616651\n",
       "sent_sec                                   337.954296\n",
       "Name: 1598929, dtype: object"
      ]
     },
     "execution_count": 118,
     "metadata": {},
     "output_type": "execute_result"
    }
   ],
   "source": [
    "dfA3.loc[dfA3[\"latency_ms\"].idxmin()]"
   ]
  },
  {
   "cell_type": "code",
   "execution_count": 121,
   "id": "c7c47c98",
   "metadata": {},
   "outputs": [
    {
     "data": {
      "text/plain": [
       "workerId                                        w1-vB\n",
       "queryType                                      SELECT\n",
       "queryId          8a43da84-a77b-47d7-afd6-47410b5cdb21\n",
       "sent                                    3212955576568\n",
       "received                                3212956279143\n",
       "target-region                                 unknown\n",
       "latency_ms                                   0.702575\n",
       "sent_ms                                3212955.576568\n",
       "received_ms                            3212956.279143\n",
       "sent_sec                                   203.061978\n",
       "Name: 177515, dtype: object"
      ]
     },
     "execution_count": 121,
     "metadata": {},
     "output_type": "execute_result"
    }
   ],
   "source": [
    "dfB1.loc[dfB1[\"latency_ms\"].idxmin()]"
   ]
  },
  {
   "cell_type": "markdown",
   "id": "c7926d67",
   "metadata": {},
   "source": [
    "### Some checks"
   ]
  },
  {
   "cell_type": "markdown",
   "id": "f4d9c4a2",
   "metadata": {},
   "source": [
    "#### Time difference in ms when first query was sent by worker-1 to Version A and B "
   ]
  },
  {
   "cell_type": "code",
   "execution_count": 111,
   "id": "61fe0605",
   "metadata": {},
   "outputs": [
    {
     "data": {
      "text/plain": [
       "-578214"
      ]
     },
     "execution_count": 111,
     "metadata": {},
     "output_type": "execute_result"
    }
   ],
   "source": [
    "\n",
    "dfA2[\"sent\"].min() - dfB2[\"sent\"].min()"
   ]
  },
  {
   "cell_type": "markdown",
   "id": "676b17ce",
   "metadata": {},
   "source": [
    "#### Time difference in ms when last query was sent by worker-1 to Version A and B "
   ]
  },
  {
   "cell_type": "code",
   "execution_count": 112,
   "id": "234a1c20",
   "metadata": {},
   "outputs": [
    {
     "data": {
      "text/plain": [
       "-16122698535"
      ]
     },
     "execution_count": 112,
     "metadata": {},
     "output_type": "execute_result"
    }
   ],
   "source": [
    "dfA1[\"sent\"].max() - dfB1[\"sent\"].max() \n"
   ]
  },
  {
   "cell_type": "markdown",
   "id": "74abe57d",
   "metadata": {},
   "source": [
    "## Create Figures "
   ]
  },
  {
   "cell_type": "markdown",
   "id": "2a090a7b",
   "metadata": {},
   "source": [
    "### Create Boxplots"
   ]
  },
  {
   "cell_type": "code",
   "execution_count": 113,
   "id": "58a49efa",
   "metadata": {},
   "outputs": [],
   "source": [
    "sns.set_theme(style=\"darkgrid\")"
   ]
  },
  {
   "cell_type": "code",
   "execution_count": 114,
   "id": "4f8631c8",
   "metadata": {},
   "outputs": [
    {
     "data": {
      "image/png": "[encoded data removed]",
      "text/plain": [
       "<Figure size 432x288 with 1 Axes>"
      ]
     },
     "metadata": {},
     "output_type": "display_data"
    }
   ],
   "source": [
    "ax = plt.boxplot(x=dfA[\"latency_ms\"])\n"
   ]
  },
  {
   "cell_type": "markdown",
   "id": "1ef8d979",
   "metadata": {},
   "source": [
    "### Create Flowchart"
   ]
  },
  {
   "cell_type": "code",
   "execution_count": 115,
   "id": "8058b963",
   "metadata": {},
   "outputs": [
    {
     "data": {
      "text/plain": [
       "<seaborn.axisgrid.FacetGrid at 0x1d182073520>"
      ]
     },
     "execution_count": 115,
     "metadata": {},
     "output_type": "execute_result"
    },
    {
     "data": {
      "image/png": "[encoded data removed]",
      "text/plain": [
       "<Figure size 360x360 with 1 Axes>"
      ]
     },
     "metadata": {},
     "output_type": "display_data"
    }
   ],
   "source": [
    "sns.lmplot(x='sent_sec', y='latency_ms', data=dfA, fit_reg=False)"
   ]
  }
 ],
 "metadata": {
  "kernelspec": {
   "display_name": "Python 3 (ipykernel)",
   "language": "python",
   "name": "python3"
  },
  "language_info": {
   "codemirror_mode": {
    "name": "ipython",
    "version": 3
   },
   "file_extension": ".py",
   "mimetype": "text/x-python",
   "name": "python",
   "nbconvert_exporter": "python",
   "pygments_lexer": "ipython3",
   "version": "3.10.4"
  }
 },
 "nbformat": 4,
 "nbformat_minor": 5
}
