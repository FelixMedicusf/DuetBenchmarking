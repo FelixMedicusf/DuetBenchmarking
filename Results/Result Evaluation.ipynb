{
 "cells": [
  {
   "cell_type": "markdown",
   "id": "effbe8fe",
   "metadata": {},
   "source": [
    "# Evaluation Of Duet Benchmarking Results from Distributed Database \"Cassandra\""
   ]
  },
  {
   "cell_type": "markdown",
   "id": "e0294f93",
   "metadata": {},
   "source": [
    "### Imports"
   ]
  },
  {
   "cell_type": "code",
   "execution_count": 190,
   "id": "e4a313ec",
   "metadata": {},
   "outputs": [],
   "source": [
    "import matplotlib.pyplot as plt\n",
    "import numpy as np\n",
    "import seaborn as sns\n",
    "import pandas as pd\n",
    "import os\n",
    "from pathlib import Path"
   ]
  },
  {
   "cell_type": "markdown",
   "id": "eb039afe",
   "metadata": {},
   "source": [
    "### Import Benchmarking Measurements as csv file and create Pandas Dataframe for further Analysis"
   ]
  },
  {
   "cell_type": "code",
   "execution_count": 191,
   "id": "2bae1a82",
   "metadata": {},
   "outputs": [
    {
     "name": "stdout",
     "output_type": "stream",
     "text": [
      "C:\\Users\\Felix Medicus\\Desktop\\Thesis_MCC\\DuetBenchmarking\\Results\\Results\\1mCops_3t\\AA\\load_measurements1.csv\n"
     ]
    }
   ],
   "source": [
    "cwd = Path.cwd()\n",
    "filepath = os.path.join(cwd, \"Results\", \"1mCops_3t\", \"AA\", \"load_measurements1.csv\")\n",
    "print(filepath)\n",
    "df = pd.read_csv(filepath)"
   ]
  },
  {
   "cell_type": "markdown",
   "id": "337c61b0",
   "metadata": {},
   "source": [
    "### Insert latencies in ms into the measurement table"
   ]
  },
  {
   "cell_type": "code",
   "execution_count": 192,
   "id": "15d7d02f",
   "metadata": {},
   "outputs": [],
   "source": [
    "df[\"latency_ms\"] = (df[\"received\"]- df[\"sent\"])/1000000"
   ]
  },
  {
   "cell_type": "code",
   "execution_count": 193,
   "id": "5ddf3971",
   "metadata": {},
   "outputs": [],
   "source": [
    "df[\"sent_ms\"] = df[\"sent\"].div(1000000)\n",
    "df[\"received_ms\"] = df[\"received\"].div(1000000)"
   ]
  },
  {
   "cell_type": "code",
   "execution_count": 194,
   "id": "baca2f0f",
   "metadata": {},
   "outputs": [
    {
     "data": {
      "text/html": [
       "<div>\n",
       "<style scoped>\n",
       "    .dataframe tbody tr th:only-of-type {\n",
       "        vertical-align: middle;\n",
       "    }\n",
       "\n",
       "    .dataframe tbody tr th {\n",
       "        vertical-align: top;\n",
       "    }\n",
       "\n",
       "    .dataframe thead th {\n",
       "        text-align: right;\n",
       "    }\n",
       "</style>\n",
       "<table border=\"1\" class=\"dataframe\">\n",
       "  <thead>\n",
       "    <tr style=\"text-align: right;\">\n",
       "      <th></th>\n",
       "      <th>sent</th>\n",
       "      <th>received</th>\n",
       "      <th>latency_ms</th>\n",
       "      <th>sent_ms</th>\n",
       "      <th>received_ms</th>\n",
       "    </tr>\n",
       "  </thead>\n",
       "  <tbody>\n",
       "    <tr>\n",
       "      <th>count</th>\n",
       "      <td>2.000000e+06</td>\n",
       "      <td>2.000000e+06</td>\n",
       "      <td>2.000000e+06</td>\n",
       "      <td>2.000000e+06</td>\n",
       "      <td>2.000000e+06</td>\n",
       "    </tr>\n",
       "    <tr>\n",
       "      <th>mean</th>\n",
       "      <td>1.244700e+12</td>\n",
       "      <td>1.244710e+12</td>\n",
       "      <td>9.677485e+00</td>\n",
       "      <td>1.244700e+06</td>\n",
       "      <td>1.244710e+06</td>\n",
       "    </tr>\n",
       "    <tr>\n",
       "      <th>std</th>\n",
       "      <td>3.317779e+11</td>\n",
       "      <td>3.317782e+11</td>\n",
       "      <td>2.809713e+01</td>\n",
       "      <td>3.317779e+05</td>\n",
       "      <td>3.317782e+05</td>\n",
       "    </tr>\n",
       "    <tr>\n",
       "      <th>min</th>\n",
       "      <td>7.138860e+11</td>\n",
       "      <td>7.139794e+11</td>\n",
       "      <td>6.094180e-01</td>\n",
       "      <td>7.138860e+05</td>\n",
       "      <td>7.139794e+05</td>\n",
       "    </tr>\n",
       "    <tr>\n",
       "      <th>25%</th>\n",
       "      <td>9.352365e+11</td>\n",
       "      <td>9.353175e+11</td>\n",
       "      <td>1.480934e+00</td>\n",
       "      <td>9.352365e+05</td>\n",
       "      <td>9.353175e+05</td>\n",
       "    </tr>\n",
       "    <tr>\n",
       "      <th>50%</th>\n",
       "      <td>1.246099e+12</td>\n",
       "      <td>1.246111e+12</td>\n",
       "      <td>2.532188e+00</td>\n",
       "      <td>1.246099e+06</td>\n",
       "      <td>1.246111e+06</td>\n",
       "    </tr>\n",
       "    <tr>\n",
       "      <th>75%</th>\n",
       "      <td>1.538468e+12</td>\n",
       "      <td>1.538473e+12</td>\n",
       "      <td>4.967014e+00</td>\n",
       "      <td>1.538468e+06</td>\n",
       "      <td>1.538473e+06</td>\n",
       "    </tr>\n",
       "    <tr>\n",
       "      <th>max</th>\n",
       "      <td>1.815078e+12</td>\n",
       "      <td>1.815080e+12</td>\n",
       "      <td>1.139651e+03</td>\n",
       "      <td>1.815078e+06</td>\n",
       "      <td>1.815080e+06</td>\n",
       "    </tr>\n",
       "  </tbody>\n",
       "</table>\n",
       "</div>"
      ],
      "text/plain": [
       "               sent      received    latency_ms       sent_ms   received_ms\n",
       "count  2.000000e+06  2.000000e+06  2.000000e+06  2.000000e+06  2.000000e+06\n",
       "mean   1.244700e+12  1.244710e+12  9.677485e+00  1.244700e+06  1.244710e+06\n",
       "std    3.317779e+11  3.317782e+11  2.809713e+01  3.317779e+05  3.317782e+05\n",
       "min    7.138860e+11  7.139794e+11  6.094180e-01  7.138860e+05  7.139794e+05\n",
       "25%    9.352365e+11  9.353175e+11  1.480934e+00  9.352365e+05  9.353175e+05\n",
       "50%    1.246099e+12  1.246111e+12  2.532188e+00  1.246099e+06  1.246111e+06\n",
       "75%    1.538468e+12  1.538473e+12  4.967014e+00  1.538468e+06  1.538473e+06\n",
       "max    1.815078e+12  1.815080e+12  1.139651e+03  1.815078e+06  1.815080e+06"
      ]
     },
     "execution_count": 194,
     "metadata": {},
     "output_type": "execute_result"
    }
   ],
   "source": [
    "df.describe()"
   ]
  },
  {
   "cell_type": "markdown",
   "id": "c9c40381",
   "metadata": {},
   "source": [
    "### Restructure Timeline"
   ]
  },
  {
   "cell_type": "code",
   "execution_count": 195,
   "id": "ca0d2243",
   "metadata": {},
   "outputs": [],
   "source": [
    "firstSent = df[\"sent\"].min()\n",
    "df[\"sent_sec\"] = (df[\"sent\"] - firstSent)/1000000/1000"
   ]
  },
  {
   "cell_type": "markdown",
   "id": "19999622",
   "metadata": {},
   "source": [
    "### Create Function to prune Measurements"
   ]
  },
  {
   "cell_type": "code",
   "execution_count": 196,
   "id": "ee3aa619",
   "metadata": {},
   "outputs": [
    {
     "name": "stdout",
     "output_type": "stream",
     "text": [
      "Hello from the other side\n"
     ]
    }
   ],
   "source": [
    "def pruneMeasurements(dataframe): \n",
    "    print(\"Hello from the other side\")\n",
    "    \n",
    "pruneMeasurements(df)\n"
   ]
  },
  {
   "cell_type": "markdown",
   "id": "a6a75b54",
   "metadata": {},
   "source": [
    "### Create subsets of dataframe (for Version A and B, and for each worker for Version A and B) "
   ]
  },
  {
   "cell_type": "code",
   "execution_count": 197,
   "id": "50754c1e",
   "metadata": {},
   "outputs": [],
   "source": [
    "dfA1 = df.loc[(df[\"workerId\"] == \"w1-vA\")]\n",
    "dfA2 = df.loc[(df[\"workerId\"] == \"w2-vA\")]\n",
    "dfA3 = df.loc[(df[\"workerId\"] == \"w3-vA\")]\n",
    "dfB1 = df.loc[(df[\"workerId\"] == \"w1-vB\")]\n",
    "dfB2 = df.loc[(df[\"workerId\"] == \"w2-vB\")]\n",
    "dfB3 = df.loc[(df[\"workerId\"] == \"w3-vB\")]\n",
    "dfA = df.loc[(df[\"workerId\"] == \"w1-vA\") | (df[\"workerId\"] == \"w2-vA\") | (df[\"workerId\"] == \"w3-vA\")]\n",
    "dfB = df.loc[(df[\"workerId\"] == \"w1-vB\") | (df[\"workerId\"] == \"w2-vB\") | (df[\"workerId\"] == \"w3-vB\")]"
   ]
  },
  {
   "cell_type": "markdown",
   "id": "8285fdc6",
   "metadata": {},
   "source": [
    "### Return benchmark run time (First request send to last response received)"
   ]
  },
  {
   "cell_type": "code",
   "execution_count": 198,
   "id": "637c658e",
   "metadata": {},
   "outputs": [
    {
     "name": "stdout",
     "output_type": "stream",
     "text": [
      "18.35322682205 minuten\n"
     ]
    }
   ],
   "source": [
    "totalTime = df[\"received\"].max() - df[\"sent\"].min()\n",
    "print(totalTime/1000000/1000/60, \"minuten\")"
   ]
  },
  {
   "cell_type": "code",
   "execution_count": 199,
   "id": "5a83a254",
   "metadata": {},
   "outputs": [
    {
     "data": {
      "text/html": [
       "<div>\n",
       "<style scoped>\n",
       "    .dataframe tbody tr th:only-of-type {\n",
       "        vertical-align: middle;\n",
       "    }\n",
       "\n",
       "    .dataframe tbody tr th {\n",
       "        vertical-align: top;\n",
       "    }\n",
       "\n",
       "    .dataframe thead th {\n",
       "        text-align: right;\n",
       "    }\n",
       "</style>\n",
       "<table border=\"1\" class=\"dataframe\">\n",
       "  <thead>\n",
       "    <tr style=\"text-align: right;\">\n",
       "      <th></th>\n",
       "      <th>sent</th>\n",
       "      <th>received</th>\n",
       "      <th>latency_ms</th>\n",
       "      <th>sent_ms</th>\n",
       "      <th>received_ms</th>\n",
       "      <th>sent_sec</th>\n",
       "    </tr>\n",
       "  </thead>\n",
       "  <tbody>\n",
       "    <tr>\n",
       "      <th>count</th>\n",
       "      <td>1.000000e+06</td>\n",
       "      <td>1.000000e+06</td>\n",
       "      <td>1000000.000000</td>\n",
       "      <td>1.000000e+06</td>\n",
       "      <td>1.000000e+06</td>\n",
       "      <td>1000000.000000</td>\n",
       "    </tr>\n",
       "    <tr>\n",
       "      <th>mean</th>\n",
       "      <td>1.254351e+12</td>\n",
       "      <td>1.254361e+12</td>\n",
       "      <td>9.774248</td>\n",
       "      <td>1.254351e+06</td>\n",
       "      <td>1.254361e+06</td>\n",
       "      <td>540.465100</td>\n",
       "    </tr>\n",
       "    <tr>\n",
       "      <th>std</th>\n",
       "      <td>3.357173e+11</td>\n",
       "      <td>3.357175e+11</td>\n",
       "      <td>28.299411</td>\n",
       "      <td>3.357173e+05</td>\n",
       "      <td>3.357175e+05</td>\n",
       "      <td>335.717253</td>\n",
       "    </tr>\n",
       "    <tr>\n",
       "      <th>min</th>\n",
       "      <td>7.138910e+11</td>\n",
       "      <td>7.139794e+11</td>\n",
       "      <td>0.609418</td>\n",
       "      <td>7.138910e+05</td>\n",
       "      <td>7.139794e+05</td>\n",
       "      <td>0.005072</td>\n",
       "    </tr>\n",
       "    <tr>\n",
       "      <th>25%</th>\n",
       "      <td>9.438365e+11</td>\n",
       "      <td>9.438443e+11</td>\n",
       "      <td>1.503700</td>\n",
       "      <td>9.438365e+05</td>\n",
       "      <td>9.438443e+05</td>\n",
       "      <td>229.950502</td>\n",
       "    </tr>\n",
       "    <tr>\n",
       "      <th>50%</th>\n",
       "      <td>1.258181e+12</td>\n",
       "      <td>1.258189e+12</td>\n",
       "      <td>2.563613</td>\n",
       "      <td>1.258181e+06</td>\n",
       "      <td>1.258189e+06</td>\n",
       "      <td>544.295208</td>\n",
       "    </tr>\n",
       "    <tr>\n",
       "      <th>75%</th>\n",
       "      <td>1.553419e+12</td>\n",
       "      <td>1.553421e+12</td>\n",
       "      <td>5.040265</td>\n",
       "      <td>1.553419e+06</td>\n",
       "      <td>1.553421e+06</td>\n",
       "      <td>839.532902</td>\n",
       "    </tr>\n",
       "    <tr>\n",
       "      <th>max</th>\n",
       "      <td>1.815078e+12</td>\n",
       "      <td>1.815080e+12</td>\n",
       "      <td>944.048282</td>\n",
       "      <td>1.815078e+06</td>\n",
       "      <td>1.815080e+06</td>\n",
       "      <td>1101.192524</td>\n",
       "    </tr>\n",
       "  </tbody>\n",
       "</table>\n",
       "</div>"
      ],
      "text/plain": [
       "               sent      received      latency_ms       sent_ms   received_ms  \\\n",
       "count  1.000000e+06  1.000000e+06  1000000.000000  1.000000e+06  1.000000e+06   \n",
       "mean   1.254351e+12  1.254361e+12        9.774248  1.254351e+06  1.254361e+06   \n",
       "std    3.357173e+11  3.357175e+11       28.299411  3.357173e+05  3.357175e+05   \n",
       "min    7.138910e+11  7.139794e+11        0.609418  7.138910e+05  7.139794e+05   \n",
       "25%    9.438365e+11  9.438443e+11        1.503700  9.438365e+05  9.438443e+05   \n",
       "50%    1.258181e+12  1.258189e+12        2.563613  1.258181e+06  1.258189e+06   \n",
       "75%    1.553419e+12  1.553421e+12        5.040265  1.553419e+06  1.553421e+06   \n",
       "max    1.815078e+12  1.815080e+12      944.048282  1.815078e+06  1.815080e+06   \n",
       "\n",
       "             sent_sec  \n",
       "count  1000000.000000  \n",
       "mean       540.465100  \n",
       "std        335.717253  \n",
       "min          0.005072  \n",
       "25%        229.950502  \n",
       "50%        544.295208  \n",
       "75%        839.532902  \n",
       "max       1101.192524  "
      ]
     },
     "execution_count": 199,
     "metadata": {},
     "output_type": "execute_result"
    }
   ],
   "source": [
    "dfA.describe()"
   ]
  },
  {
   "cell_type": "code",
   "execution_count": 200,
   "id": "6358e296",
   "metadata": {},
   "outputs": [
    {
     "data": {
      "text/html": [
       "<div>\n",
       "<style scoped>\n",
       "    .dataframe tbody tr th:only-of-type {\n",
       "        vertical-align: middle;\n",
       "    }\n",
       "\n",
       "    .dataframe tbody tr th {\n",
       "        vertical-align: top;\n",
       "    }\n",
       "\n",
       "    .dataframe thead th {\n",
       "        text-align: right;\n",
       "    }\n",
       "</style>\n",
       "<table border=\"1\" class=\"dataframe\">\n",
       "  <thead>\n",
       "    <tr style=\"text-align: right;\">\n",
       "      <th></th>\n",
       "      <th>sent</th>\n",
       "      <th>received</th>\n",
       "      <th>latency_ms</th>\n",
       "      <th>sent_ms</th>\n",
       "      <th>received_ms</th>\n",
       "      <th>sent_sec</th>\n",
       "    </tr>\n",
       "  </thead>\n",
       "  <tbody>\n",
       "    <tr>\n",
       "      <th>count</th>\n",
       "      <td>1.000000e+06</td>\n",
       "      <td>1.000000e+06</td>\n",
       "      <td>1000000.000000</td>\n",
       "      <td>1.000000e+06</td>\n",
       "      <td>1.000000e+06</td>\n",
       "      <td>1000000.000000</td>\n",
       "    </tr>\n",
       "    <tr>\n",
       "      <th>mean</th>\n",
       "      <td>1.235049e+12</td>\n",
       "      <td>1.235059e+12</td>\n",
       "      <td>9.580722</td>\n",
       "      <td>1.235049e+06</td>\n",
       "      <td>1.235059e+06</td>\n",
       "      <td>521.163145</td>\n",
       "    </tr>\n",
       "    <tr>\n",
       "      <th>std</th>\n",
       "      <td>3.275071e+11</td>\n",
       "      <td>3.275076e+11</td>\n",
       "      <td>27.893059</td>\n",
       "      <td>3.275071e+05</td>\n",
       "      <td>3.275076e+05</td>\n",
       "      <td>327.507138</td>\n",
       "    </tr>\n",
       "    <tr>\n",
       "      <th>min</th>\n",
       "      <td>7.138860e+11</td>\n",
       "      <td>7.139936e+11</td>\n",
       "      <td>0.610209</td>\n",
       "      <td>7.138860e+05</td>\n",
       "      <td>7.139936e+05</td>\n",
       "      <td>0.000000</td>\n",
       "    </tr>\n",
       "    <tr>\n",
       "      <th>25%</th>\n",
       "      <td>9.273257e+11</td>\n",
       "      <td>9.273285e+11</td>\n",
       "      <td>1.458987</td>\n",
       "      <td>9.273257e+05</td>\n",
       "      <td>9.273285e+05</td>\n",
       "      <td>213.439693</td>\n",
       "    </tr>\n",
       "    <tr>\n",
       "      <th>50%</th>\n",
       "      <td>1.230681e+12</td>\n",
       "      <td>1.230685e+12</td>\n",
       "      <td>2.500249</td>\n",
       "      <td>1.230681e+06</td>\n",
       "      <td>1.230685e+06</td>\n",
       "      <td>516.795338</td>\n",
       "    </tr>\n",
       "    <tr>\n",
       "      <th>75%</th>\n",
       "      <td>1.525675e+12</td>\n",
       "      <td>1.525682e+12</td>\n",
       "      <td>4.892151</td>\n",
       "      <td>1.525675e+06</td>\n",
       "      <td>1.525682e+06</td>\n",
       "      <td>811.788579</td>\n",
       "    </tr>\n",
       "    <tr>\n",
       "      <th>max</th>\n",
       "      <td>1.801378e+12</td>\n",
       "      <td>1.801379e+12</td>\n",
       "      <td>1139.650844</td>\n",
       "      <td>1.801378e+06</td>\n",
       "      <td>1.801379e+06</td>\n",
       "      <td>1087.492329</td>\n",
       "    </tr>\n",
       "  </tbody>\n",
       "</table>\n",
       "</div>"
      ],
      "text/plain": [
       "               sent      received      latency_ms       sent_ms   received_ms  \\\n",
       "count  1.000000e+06  1.000000e+06  1000000.000000  1.000000e+06  1.000000e+06   \n",
       "mean   1.235049e+12  1.235059e+12        9.580722  1.235049e+06  1.235059e+06   \n",
       "std    3.275071e+11  3.275076e+11       27.893059  3.275071e+05  3.275076e+05   \n",
       "min    7.138860e+11  7.139936e+11        0.610209  7.138860e+05  7.139936e+05   \n",
       "25%    9.273257e+11  9.273285e+11        1.458987  9.273257e+05  9.273285e+05   \n",
       "50%    1.230681e+12  1.230685e+12        2.500249  1.230681e+06  1.230685e+06   \n",
       "75%    1.525675e+12  1.525682e+12        4.892151  1.525675e+06  1.525682e+06   \n",
       "max    1.801378e+12  1.801379e+12     1139.650844  1.801378e+06  1.801379e+06   \n",
       "\n",
       "             sent_sec  \n",
       "count  1000000.000000  \n",
       "mean       521.163145  \n",
       "std        327.507138  \n",
       "min          0.000000  \n",
       "25%        213.439693  \n",
       "50%        516.795338  \n",
       "75%        811.788579  \n",
       "max       1087.492329  "
      ]
     },
     "execution_count": 200,
     "metadata": {},
     "output_type": "execute_result"
    }
   ],
   "source": [
    "dfB.describe()"
   ]
  },
  {
   "cell_type": "markdown",
   "id": "9467581b",
   "metadata": {},
   "source": [
    "### Min. Latencies for Worker 2 (A & B)"
   ]
  },
  {
   "cell_type": "code",
   "execution_count": 201,
   "id": "a6d0c80a",
   "metadata": {},
   "outputs": [
    {
     "data": {
      "text/plain": [
       "workerId                                        w3-vA\n",
       "queryType                                      INSERT\n",
       "queryId          607a0bfc-1aff-4aff-8d81-6789d4e0d2f8\n",
       "sent                                    1653218593775\n",
       "received                                1653219257080\n",
       "target-region                                 unknown\n",
       "latency_ms                                   0.663305\n",
       "sent_ms                                1653218.593775\n",
       "received_ms                             1653219.25708\n",
       "sent_sec                                   939.332631\n",
       "Name: 1900856, dtype: object"
      ]
     },
     "execution_count": 201,
     "metadata": {},
     "output_type": "execute_result"
    }
   ],
   "source": [
    "dfA3.loc[dfA3[\"latency_ms\"].idxmin()]"
   ]
  },
  {
   "cell_type": "code",
   "execution_count": 202,
   "id": "c7c47c98",
   "metadata": {},
   "outputs": [
    {
     "data": {
      "text/plain": [
       "workerId                                        w1-vB\n",
       "queryType                                      INSERT\n",
       "queryId          8a71a156-531d-4056-a385-ad4f3b0e471b\n",
       "sent                                     949382992775\n",
       "received                                 949383602984\n",
       "target-region                                 unknown\n",
       "latency_ms                                   0.610209\n",
       "sent_ms                                 949382.992775\n",
       "received_ms                             949383.602984\n",
       "sent_sec                                    235.49703\n",
       "Name: 175958, dtype: object"
      ]
     },
     "execution_count": 202,
     "metadata": {},
     "output_type": "execute_result"
    }
   ],
   "source": [
    "dfB1.loc[dfB1[\"latency_ms\"].idxmin()]"
   ]
  },
  {
   "cell_type": "markdown",
   "id": "c7926d67",
   "metadata": {},
   "source": [
    "### Some checks"
   ]
  },
  {
   "cell_type": "markdown",
   "id": "f4d9c4a2",
   "metadata": {},
   "source": [
    "#### Time difference in ms when first query was sent by worker-1 to Version A and B "
   ]
  },
  {
   "cell_type": "code",
   "execution_count": 203,
   "id": "61fe0605",
   "metadata": {},
   "outputs": [
    {
     "data": {
      "text/plain": [
       "-4263360"
      ]
     },
     "execution_count": 203,
     "metadata": {},
     "output_type": "execute_result"
    }
   ],
   "source": [
    "\n",
    "dfA2[\"sent\"].min() - dfB2[\"sent\"].min()"
   ]
  },
  {
   "cell_type": "markdown",
   "id": "676b17ce",
   "metadata": {},
   "source": [
    "#### Time difference in ms when last query was sent by worker-1 to Version A and B "
   ]
  },
  {
   "cell_type": "code",
   "execution_count": 204,
   "id": "234a1c20",
   "metadata": {},
   "outputs": [
    {
     "data": {
      "text/plain": [
       "25976630330"
      ]
     },
     "execution_count": 204,
     "metadata": {},
     "output_type": "execute_result"
    }
   ],
   "source": [
    "dfA1[\"sent\"].max() - dfB1[\"sent\"].max() \n"
   ]
  },
  {
   "cell_type": "markdown",
   "id": "74abe57d",
   "metadata": {},
   "source": [
    "## Create Figures "
   ]
  },
  {
   "cell_type": "markdown",
   "id": "2a090a7b",
   "metadata": {},
   "source": [
    "### Create Boxplots"
   ]
  },
  {
   "cell_type": "code",
   "execution_count": 205,
   "id": "58a49efa",
   "metadata": {},
   "outputs": [],
   "source": [
    "sns.set_theme(style=\"darkgrid\")"
   ]
  },
  {
   "cell_type": "code",
   "execution_count": 206,
   "id": "4f8631c8",
   "metadata": {},
   "outputs": [
    {
     "data": {
      "image/png": "[encoded data removed]",
      "text/plain": [
       "<Figure size 432x288 with 1 Axes>"
      ]
     },
     "metadata": {},
     "output_type": "display_data"
    }
   ],
   "source": [
    "ax = plt.boxplot(x=dfA[\"latency_ms\"])\n"
   ]
  },
  {
   "cell_type": "markdown",
   "id": "1ef8d979",
   "metadata": {},
   "source": [
    "### Create Flowchart"
   ]
  },
  {
   "cell_type": "code",
   "execution_count": 207,
   "id": "8058b963",
   "metadata": {},
   "outputs": [
    {
     "data": {
      "text/plain": [
       "<seaborn.axisgrid.FacetGrid at 0x1f4130596f0>"
      ]
     },
     "execution_count": 207,
     "metadata": {},
     "output_type": "execute_result"
    },
    {
     "data": {
      "image/png": "[encoded data removed]",
      "text/plain": [
       "<Figure size 360x360 with 1 Axes>"
      ]
     },
     "metadata": {},
     "output_type": "display_data"
    }
   ],
   "source": [
    "sns.lmplot(x='sent_sec', y='latency_ms', data=dfA, fit_reg=False)"
   ]
  },
  {
   "cell_type": "code",
   "execution_count": 213,
   "id": "0aa44e9f",
   "metadata": {},
   "outputs": [],
   "source": [
    "latenciesA = dfA[\"latency_ms\"].to_numpy()\n",
    "latenciesB = dfB[\"latency_ms\"].to_numpy()"
   ]
  },
  {
   "cell_type": "code",
   "execution_count": 214,
   "id": "56701caf",
   "metadata": {},
   "outputs": [
    {
     "data": {
      "text/plain": [
       "<AxesSubplot:xlabel='sent_sec'>"
      ]
     },
     "execution_count": 214,
     "metadata": {},
     "output_type": "execute_result"
    },
    {
     "data": {
      "image/png": "[encoded data removed]",
      "text/plain": [
       "<Figure size 432x288 with 1 Axes>"
      ]
     },
     "metadata": {},
     "output_type": "display_data"
    }
   ],
   "source": [
    "dfA.plot(x='sent_sec', y='latency_ms')"
   ]
  },
  {
   "cell_type": "code",
   "execution_count": 215,
   "id": "c8ae7fff",
   "metadata": {},
   "outputs": [
    {
     "data": {
      "text/plain": [
       "<AxesSubplot:xlabel='sent_sec'>"
      ]
     },
     "execution_count": 215,
     "metadata": {},
     "output_type": "execute_result"
    },
    {
     "data": {
      "image/png": "[encoded data removed]",
      "text/plain": [
       "<Figure size 432x288 with 1 Axes>"
      ]
     },
     "metadata": {},
     "output_type": "display_data"
    }
   ],
   "source": [
    "dfB.plot(x='sent_sec', y='latency_ms')"
   ]
  }
 ],
 "metadata": {
  "kernelspec": {
   "display_name": "Python 3 (ipykernel)",
   "language": "python",
   "name": "python3"
  },
  "language_info": {
   "codemirror_mode": {
    "name": "ipython",
    "version": 3
   },
   "file_extension": ".py",
   "mimetype": "text/x-python",
   "name": "python",
   "nbconvert_exporter": "python",
   "pygments_lexer": "ipython3",
   "version": "3.10.4"
  }
 },
 "nbformat": 4,
 "nbformat_minor": 5
}
