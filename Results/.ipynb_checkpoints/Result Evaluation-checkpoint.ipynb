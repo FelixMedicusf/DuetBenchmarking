{
 "cells": [
  {
   "cell_type": "markdown",
   "id": "effbe8fe",
   "metadata": {},
   "source": [
    "# Evaluation Of Duet Benchmarking Results from Distributed Database \"Cassandra\""
   ]
  },
  {
   "cell_type": "markdown",
   "id": "e0294f93",
   "metadata": {},
   "source": [
    "### Imports"
   ]
  },
  {
   "cell_type": "code",
   "execution_count": 19,
   "id": "e4a313ec",
   "metadata": {},
   "outputs": [],
   "source": [
    "import matplotlib.pyplot as plt\n",
    "import numpy as np\n",
    "import seaborn as sns\n",
    "import pandas as pd\n",
    "import os\n",
    "from pathlib import Path"
   ]
  },
  {
   "cell_type": "markdown",
   "id": "eb039afe",
   "metadata": {},
   "source": [
    "### Import Benchmarking Measurements as csv file and create Pandas Dataframe for further Analysis"
   ]
  },
  {
   "cell_type": "code",
   "execution_count": 20,
   "id": "2bae1a82",
   "metadata": {},
   "outputs": [
    {
     "name": "stdout",
     "output_type": "stream",
     "text": [
      "C:\\Users\\Felix Medicus\\Desktop\\Thesis_MCC\\DuetBenchmarking\\Results\\Results\\1mCops_3t\\run_measurements2.csv\n"
     ]
    }
   ],
   "source": [
    "cwd = Path.cwd()\n",
    "filepath = os.path.join(cwd, \"Results\", \"1mCops_3t\", \"run_measurements2.csv\")\n",
    "print(filepath)\n",
    "df = pd.read_csv(filepath)"
   ]
  },
  {
   "cell_type": "markdown",
   "id": "337c61b0",
   "metadata": {},
   "source": [
    "### Insert latencies in ms into the measurement table"
   ]
  },
  {
   "cell_type": "code",
   "execution_count": 21,
   "id": "15d7d02f",
   "metadata": {},
   "outputs": [],
   "source": [
    "df[\"latency_ms\"] = (df[\"received\"]- df[\"sent\"])/1000000"
   ]
  },
  {
   "cell_type": "code",
   "execution_count": 22,
   "id": "5ddf3971",
   "metadata": {},
   "outputs": [],
   "source": [
    "df[\"sent_ms\"] = df[\"sent\"].div(1000000)\n",
    "df[\"received_ms\"] = df[\"received\"].div(1000000)"
   ]
  },
  {
   "cell_type": "code",
   "execution_count": 23,
   "id": "baca2f0f",
   "metadata": {},
   "outputs": [
    {
     "data": {
      "text/html": [
       "<div>\n",
       "<style scoped>\n",
       "    .dataframe tbody tr th:only-of-type {\n",
       "        vertical-align: middle;\n",
       "    }\n",
       "\n",
       "    .dataframe tbody tr th {\n",
       "        vertical-align: top;\n",
       "    }\n",
       "\n",
       "    .dataframe thead th {\n",
       "        text-align: right;\n",
       "    }\n",
       "</style>\n",
       "<table border=\"1\" class=\"dataframe\">\n",
       "  <thead>\n",
       "    <tr style=\"text-align: right;\">\n",
       "      <th></th>\n",
       "      <th>queryId</th>\n",
       "      <th>sent</th>\n",
       "      <th>received</th>\n",
       "      <th>latency_ms</th>\n",
       "      <th>sent_ms</th>\n",
       "      <th>received_ms</th>\n",
       "    </tr>\n",
       "  </thead>\n",
       "  <tbody>\n",
       "    <tr>\n",
       "      <th>count</th>\n",
       "      <td>2.000000e+06</td>\n",
       "      <td>2.000000e+06</td>\n",
       "      <td>2.000000e+06</td>\n",
       "      <td>2.000000e+06</td>\n",
       "      <td>2.000000e+06</td>\n",
       "      <td>2.000000e+06</td>\n",
       "    </tr>\n",
       "    <tr>\n",
       "      <th>mean</th>\n",
       "      <td>4.999995e+05</td>\n",
       "      <td>4.109407e+12</td>\n",
       "      <td>4.109416e+12</td>\n",
       "      <td>8.502735e+00</td>\n",
       "      <td>4.109407e+06</td>\n",
       "      <td>4.109416e+06</td>\n",
       "    </tr>\n",
       "    <tr>\n",
       "      <th>std</th>\n",
       "      <td>2.886752e+05</td>\n",
       "      <td>2.857577e+11</td>\n",
       "      <td>2.857590e+11</td>\n",
       "      <td>2.034804e+01</td>\n",
       "      <td>2.857577e+05</td>\n",
       "      <td>2.857590e+05</td>\n",
       "    </tr>\n",
       "    <tr>\n",
       "      <th>min</th>\n",
       "      <td>0.000000e+00</td>\n",
       "      <td>3.665404e+12</td>\n",
       "      <td>3.665421e+12</td>\n",
       "      <td>5.911000e-01</td>\n",
       "      <td>3.665404e+06</td>\n",
       "      <td>3.665421e+06</td>\n",
       "    </tr>\n",
       "    <tr>\n",
       "      <th>25%</th>\n",
       "      <td>2.499998e+05</td>\n",
       "      <td>3.818919e+12</td>\n",
       "      <td>3.818924e+12</td>\n",
       "      <td>1.216466e+00</td>\n",
       "      <td>3.818919e+06</td>\n",
       "      <td>3.818924e+06</td>\n",
       "    </tr>\n",
       "    <tr>\n",
       "      <th>50%</th>\n",
       "      <td>4.999995e+05</td>\n",
       "      <td>4.088687e+12</td>\n",
       "      <td>4.088692e+12</td>\n",
       "      <td>1.773292e+00</td>\n",
       "      <td>4.088687e+06</td>\n",
       "      <td>4.088692e+06</td>\n",
       "    </tr>\n",
       "    <tr>\n",
       "      <th>75%</th>\n",
       "      <td>7.499992e+05</td>\n",
       "      <td>4.362758e+12</td>\n",
       "      <td>4.362784e+12</td>\n",
       "      <td>3.276360e+00</td>\n",
       "      <td>4.362758e+06</td>\n",
       "      <td>4.362784e+06</td>\n",
       "    </tr>\n",
       "    <tr>\n",
       "      <th>max</th>\n",
       "      <td>9.999990e+05</td>\n",
       "      <td>4.650442e+12</td>\n",
       "      <td>4.650443e+12</td>\n",
       "      <td>3.944949e+02</td>\n",
       "      <td>4.650442e+06</td>\n",
       "      <td>4.650443e+06</td>\n",
       "    </tr>\n",
       "  </tbody>\n",
       "</table>\n",
       "</div>"
      ],
      "text/plain": [
       "            queryId          sent      received    latency_ms       sent_ms  \\\n",
       "count  2.000000e+06  2.000000e+06  2.000000e+06  2.000000e+06  2.000000e+06   \n",
       "mean   4.999995e+05  4.109407e+12  4.109416e+12  8.502735e+00  4.109407e+06   \n",
       "std    2.886752e+05  2.857577e+11  2.857590e+11  2.034804e+01  2.857577e+05   \n",
       "min    0.000000e+00  3.665404e+12  3.665421e+12  5.911000e-01  3.665404e+06   \n",
       "25%    2.499998e+05  3.818919e+12  3.818924e+12  1.216466e+00  3.818919e+06   \n",
       "50%    4.999995e+05  4.088687e+12  4.088692e+12  1.773292e+00  4.088687e+06   \n",
       "75%    7.499992e+05  4.362758e+12  4.362784e+12  3.276360e+00  4.362758e+06   \n",
       "max    9.999990e+05  4.650442e+12  4.650443e+12  3.944949e+02  4.650442e+06   \n",
       "\n",
       "        received_ms  \n",
       "count  2.000000e+06  \n",
       "mean   4.109416e+06  \n",
       "std    2.857590e+05  \n",
       "min    3.665421e+06  \n",
       "25%    3.818924e+06  \n",
       "50%    4.088692e+06  \n",
       "75%    4.362784e+06  \n",
       "max    4.650443e+06  "
      ]
     },
     "execution_count": 23,
     "metadata": {},
     "output_type": "execute_result"
    }
   ],
   "source": [
    "df.describe()"
   ]
  },
  {
   "cell_type": "markdown",
   "id": "c9c40381",
   "metadata": {},
   "source": [
    "### Restructure Timeline"
   ]
  },
  {
   "cell_type": "code",
   "execution_count": 24,
   "id": "ca0d2243",
   "metadata": {},
   "outputs": [],
   "source": [
    "firstSent = df[\"sent\"].min()\n",
    "df[\"sent_sec\"] = (df[\"sent\"] - firstSent)/1000000/1000"
   ]
  },
  {
   "cell_type": "markdown",
   "id": "19999622",
   "metadata": {},
   "source": [
    "### Create Function to prune Measurements"
   ]
  },
  {
   "cell_type": "code",
   "execution_count": 25,
   "id": "ee3aa619",
   "metadata": {},
   "outputs": [
    {
     "name": "stdout",
     "output_type": "stream",
     "text": [
      "Hello from the other side\n"
     ]
    }
   ],
   "source": [
    "def pruneMeasurements(dataframe): \n",
    "    print(\"Hello from the other side\")\n",
    "    \n",
    "pruneMeasurements(df)\n"
   ]
  },
  {
   "cell_type": "markdown",
   "id": "a6a75b54",
   "metadata": {},
   "source": [
    "### Create subsets of dataframe (for Version A and B, and for each worker for Version A and B) "
   ]
  },
  {
   "cell_type": "code",
   "execution_count": 26,
   "id": "50754c1e",
   "metadata": {},
   "outputs": [],
   "source": [
    "dfA1 = df.loc[(df[\"workerId\"] == \"w1-vA\")]\n",
    "dfA2 = df.loc[(df[\"workerId\"] == \"w2-vA\")]\n",
    "dfA3 = df.loc[(df[\"workerId\"] == \"w3-vA\")]\n",
    "dfB1 = df.loc[(df[\"workerId\"] == \"w1-vB\")]\n",
    "dfB2 = df.loc[(df[\"workerId\"] == \"w2-vB\")]\n",
    "dfB3 = df.loc[(df[\"workerId\"] == \"w3-vB\")]\n",
    "dfA = df.loc[(df[\"workerId\"] == \"w1-vA\") | (df[\"workerId\"] == \"w2-vA\") | (df[\"workerId\"] == \"w3-vA\")]\n",
    "dfB = df.loc[(df[\"workerId\"] == \"w1-vB\") | (df[\"workerId\"] == \"w2-vB\") | (df[\"workerId\"] == \"w3-vB\")]"
   ]
  },
  {
   "cell_type": "markdown",
   "id": "8285fdc6",
   "metadata": {},
   "source": [
    "### Return benchmark run time (First request send to last response received)"
   ]
  },
  {
   "cell_type": "code",
   "execution_count": 27,
   "id": "637c658e",
   "metadata": {},
   "outputs": [
    {
     "name": "stdout",
     "output_type": "stream",
     "text": [
      "16.41731188495 minuten\n"
     ]
    }
   ],
   "source": [
    "totalTime = df[\"received\"].max() - df[\"sent\"].min()\n",
    "print(totalTime/1000000/1000/60, \"minuten\")"
   ]
  },
  {
   "cell_type": "code",
   "execution_count": 28,
   "id": "5a83a254",
   "metadata": {},
   "outputs": [
    {
     "data": {
      "text/html": [
       "<div>\n",
       "<style scoped>\n",
       "    .dataframe tbody tr th:only-of-type {\n",
       "        vertical-align: middle;\n",
       "    }\n",
       "\n",
       "    .dataframe tbody tr th {\n",
       "        vertical-align: top;\n",
       "    }\n",
       "\n",
       "    .dataframe thead th {\n",
       "        text-align: right;\n",
       "    }\n",
       "</style>\n",
       "<table border=\"1\" class=\"dataframe\">\n",
       "  <thead>\n",
       "    <tr style=\"text-align: right;\">\n",
       "      <th></th>\n",
       "      <th>queryId</th>\n",
       "      <th>sent</th>\n",
       "      <th>received</th>\n",
       "      <th>latency_ms</th>\n",
       "      <th>sent_ms</th>\n",
       "      <th>received_ms</th>\n",
       "      <th>sent_sec</th>\n",
       "    </tr>\n",
       "  </thead>\n",
       "  <tbody>\n",
       "    <tr>\n",
       "      <th>count</th>\n",
       "      <td>1000000.000000</td>\n",
       "      <td>1.000000e+06</td>\n",
       "      <td>1.000000e+06</td>\n",
       "      <td>1000000.000000</td>\n",
       "      <td>1.000000e+06</td>\n",
       "      <td>1.000000e+06</td>\n",
       "      <td>1000000.000000</td>\n",
       "    </tr>\n",
       "    <tr>\n",
       "      <th>mean</th>\n",
       "      <td>499999.500000</td>\n",
       "      <td>4.110863e+12</td>\n",
       "      <td>4.110871e+12</td>\n",
       "      <td>8.508580</td>\n",
       "      <td>4.110863e+06</td>\n",
       "      <td>4.110871e+06</td>\n",
       "      <td>445.458365</td>\n",
       "    </tr>\n",
       "    <tr>\n",
       "      <th>std</th>\n",
       "      <td>288675.278932</td>\n",
       "      <td>2.858226e+11</td>\n",
       "      <td>2.858239e+11</td>\n",
       "      <td>20.342648</td>\n",
       "      <td>2.858226e+05</td>\n",
       "      <td>2.858239e+05</td>\n",
       "      <td>285.822607</td>\n",
       "    </tr>\n",
       "    <tr>\n",
       "      <th>min</th>\n",
       "      <td>0.000000</td>\n",
       "      <td>3.665404e+12</td>\n",
       "      <td>3.665452e+12</td>\n",
       "      <td>0.622959</td>\n",
       "      <td>3.665404e+06</td>\n",
       "      <td>3.665452e+06</td>\n",
       "      <td>0.000000</td>\n",
       "    </tr>\n",
       "    <tr>\n",
       "      <th>25%</th>\n",
       "      <td>249999.750000</td>\n",
       "      <td>3.820442e+12</td>\n",
       "      <td>3.820445e+12</td>\n",
       "      <td>1.215704</td>\n",
       "      <td>3.820442e+06</td>\n",
       "      <td>3.820445e+06</td>\n",
       "      <td>155.037892</td>\n",
       "    </tr>\n",
       "    <tr>\n",
       "      <th>50%</th>\n",
       "      <td>499999.500000</td>\n",
       "      <td>4.090528e+12</td>\n",
       "      <td>4.090541e+12</td>\n",
       "      <td>1.770671</td>\n",
       "      <td>4.090528e+06</td>\n",
       "      <td>4.090541e+06</td>\n",
       "      <td>425.123495</td>\n",
       "    </tr>\n",
       "    <tr>\n",
       "      <th>75%</th>\n",
       "      <td>749999.250000</td>\n",
       "      <td>4.364576e+12</td>\n",
       "      <td>4.364586e+12</td>\n",
       "      <td>3.245763</td>\n",
       "      <td>4.364576e+06</td>\n",
       "      <td>4.364586e+06</td>\n",
       "      <td>699.171486</td>\n",
       "    </tr>\n",
       "    <tr>\n",
       "      <th>max</th>\n",
       "      <td>999999.000000</td>\n",
       "      <td>4.650021e+12</td>\n",
       "      <td>4.650022e+12</td>\n",
       "      <td>288.295393</td>\n",
       "      <td>4.650021e+06</td>\n",
       "      <td>4.650022e+06</td>\n",
       "      <td>984.616981</td>\n",
       "    </tr>\n",
       "  </tbody>\n",
       "</table>\n",
       "</div>"
      ],
      "text/plain": [
       "              queryId          sent      received      latency_ms  \\\n",
       "count  1000000.000000  1.000000e+06  1.000000e+06  1000000.000000   \n",
       "mean    499999.500000  4.110863e+12  4.110871e+12        8.508580   \n",
       "std     288675.278932  2.858226e+11  2.858239e+11       20.342648   \n",
       "min          0.000000  3.665404e+12  3.665452e+12        0.622959   \n",
       "25%     249999.750000  3.820442e+12  3.820445e+12        1.215704   \n",
       "50%     499999.500000  4.090528e+12  4.090541e+12        1.770671   \n",
       "75%     749999.250000  4.364576e+12  4.364586e+12        3.245763   \n",
       "max     999999.000000  4.650021e+12  4.650022e+12      288.295393   \n",
       "\n",
       "            sent_ms   received_ms        sent_sec  \n",
       "count  1.000000e+06  1.000000e+06  1000000.000000  \n",
       "mean   4.110863e+06  4.110871e+06      445.458365  \n",
       "std    2.858226e+05  2.858239e+05      285.822607  \n",
       "min    3.665404e+06  3.665452e+06        0.000000  \n",
       "25%    3.820442e+06  3.820445e+06      155.037892  \n",
       "50%    4.090528e+06  4.090541e+06      425.123495  \n",
       "75%    4.364576e+06  4.364586e+06      699.171486  \n",
       "max    4.650021e+06  4.650022e+06      984.616981  "
      ]
     },
     "execution_count": 28,
     "metadata": {},
     "output_type": "execute_result"
    }
   ],
   "source": [
    "dfA.describe()"
   ]
  },
  {
   "cell_type": "code",
   "execution_count": 29,
   "id": "6358e296",
   "metadata": {},
   "outputs": [
    {
     "data": {
      "text/html": [
       "<div>\n",
       "<style scoped>\n",
       "    .dataframe tbody tr th:only-of-type {\n",
       "        vertical-align: middle;\n",
       "    }\n",
       "\n",
       "    .dataframe tbody tr th {\n",
       "        vertical-align: top;\n",
       "    }\n",
       "\n",
       "    .dataframe thead th {\n",
       "        text-align: right;\n",
       "    }\n",
       "</style>\n",
       "<table border=\"1\" class=\"dataframe\">\n",
       "  <thead>\n",
       "    <tr style=\"text-align: right;\">\n",
       "      <th></th>\n",
       "      <th>queryId</th>\n",
       "      <th>sent</th>\n",
       "      <th>received</th>\n",
       "      <th>latency_ms</th>\n",
       "      <th>sent_ms</th>\n",
       "      <th>received_ms</th>\n",
       "      <th>sent_sec</th>\n",
       "    </tr>\n",
       "  </thead>\n",
       "  <tbody>\n",
       "    <tr>\n",
       "      <th>count</th>\n",
       "      <td>1000000.000000</td>\n",
       "      <td>1.000000e+06</td>\n",
       "      <td>1.000000e+06</td>\n",
       "      <td>1000000.000000</td>\n",
       "      <td>1.000000e+06</td>\n",
       "      <td>1.000000e+06</td>\n",
       "      <td>1000000.000000</td>\n",
       "    </tr>\n",
       "    <tr>\n",
       "      <th>mean</th>\n",
       "      <td>499999.500000</td>\n",
       "      <td>4.107952e+12</td>\n",
       "      <td>4.107960e+12</td>\n",
       "      <td>8.496889</td>\n",
       "      <td>4.107952e+06</td>\n",
       "      <td>4.107960e+06</td>\n",
       "      <td>442.547665</td>\n",
       "    </tr>\n",
       "    <tr>\n",
       "      <th>std</th>\n",
       "      <td>288675.278932</td>\n",
       "      <td>2.856856e+11</td>\n",
       "      <td>2.856869e+11</td>\n",
       "      <td>20.353438</td>\n",
       "      <td>2.856856e+05</td>\n",
       "      <td>2.856869e+05</td>\n",
       "      <td>285.685557</td>\n",
       "    </tr>\n",
       "    <tr>\n",
       "      <th>min</th>\n",
       "      <td>0.000000</td>\n",
       "      <td>3.665405e+12</td>\n",
       "      <td>3.665421e+12</td>\n",
       "      <td>0.591100</td>\n",
       "      <td>3.665405e+06</td>\n",
       "      <td>3.665421e+06</td>\n",
       "      <td>0.000512</td>\n",
       "    </tr>\n",
       "    <tr>\n",
       "      <th>25%</th>\n",
       "      <td>249999.750000</td>\n",
       "      <td>3.817491e+12</td>\n",
       "      <td>3.817499e+12</td>\n",
       "      <td>1.217210</td>\n",
       "      <td>3.817491e+06</td>\n",
       "      <td>3.817499e+06</td>\n",
       "      <td>152.086869</td>\n",
       "    </tr>\n",
       "    <tr>\n",
       "      <th>50%</th>\n",
       "      <td>499999.500000</td>\n",
       "      <td>4.086818e+12</td>\n",
       "      <td>4.086822e+12</td>\n",
       "      <td>1.775933</td>\n",
       "      <td>4.086818e+06</td>\n",
       "      <td>4.086822e+06</td>\n",
       "      <td>421.413468</td>\n",
       "    </tr>\n",
       "    <tr>\n",
       "      <th>75%</th>\n",
       "      <td>749999.250000</td>\n",
       "      <td>4.360913e+12</td>\n",
       "      <td>4.360925e+12</td>\n",
       "      <td>3.308458</td>\n",
       "      <td>4.360913e+06</td>\n",
       "      <td>4.360925e+06</td>\n",
       "      <td>695.508849</td>\n",
       "    </tr>\n",
       "    <tr>\n",
       "      <th>max</th>\n",
       "      <td>999999.000000</td>\n",
       "      <td>4.650442e+12</td>\n",
       "      <td>4.650443e+12</td>\n",
       "      <td>394.494888</td>\n",
       "      <td>4.650442e+06</td>\n",
       "      <td>4.650443e+06</td>\n",
       "      <td>985.037296</td>\n",
       "    </tr>\n",
       "  </tbody>\n",
       "</table>\n",
       "</div>"
      ],
      "text/plain": [
       "              queryId          sent      received      latency_ms  \\\n",
       "count  1000000.000000  1.000000e+06  1.000000e+06  1000000.000000   \n",
       "mean    499999.500000  4.107952e+12  4.107960e+12        8.496889   \n",
       "std     288675.278932  2.856856e+11  2.856869e+11       20.353438   \n",
       "min          0.000000  3.665405e+12  3.665421e+12        0.591100   \n",
       "25%     249999.750000  3.817491e+12  3.817499e+12        1.217210   \n",
       "50%     499999.500000  4.086818e+12  4.086822e+12        1.775933   \n",
       "75%     749999.250000  4.360913e+12  4.360925e+12        3.308458   \n",
       "max     999999.000000  4.650442e+12  4.650443e+12      394.494888   \n",
       "\n",
       "            sent_ms   received_ms        sent_sec  \n",
       "count  1.000000e+06  1.000000e+06  1000000.000000  \n",
       "mean   4.107952e+06  4.107960e+06      442.547665  \n",
       "std    2.856856e+05  2.856869e+05      285.685557  \n",
       "min    3.665405e+06  3.665421e+06        0.000512  \n",
       "25%    3.817491e+06  3.817499e+06      152.086869  \n",
       "50%    4.086818e+06  4.086822e+06      421.413468  \n",
       "75%    4.360913e+06  4.360925e+06      695.508849  \n",
       "max    4.650442e+06  4.650443e+06      985.037296  "
      ]
     },
     "execution_count": 29,
     "metadata": {},
     "output_type": "execute_result"
    }
   ],
   "source": [
    "dfB.describe()"
   ]
  },
  {
   "cell_type": "markdown",
   "id": "9467581b",
   "metadata": {},
   "source": [
    "### Min. Latencies for Worker 2 (A & B)"
   ]
  },
  {
   "cell_type": "code",
   "execution_count": 30,
   "id": "a6d0c80a",
   "metadata": {},
   "outputs": [
    {
     "data": {
      "text/plain": [
       "workerId                  w3-vA\n",
       "queryType                SELECT\n",
       "queryId                   98537\n",
       "sent              3880498964541\n",
       "received          3880499596796\n",
       "target-region           unknown\n",
       "latency_ms             0.632255\n",
       "sent_ms          3880498.964541\n",
       "received_ms      3880499.596796\n",
       "sent_sec             215.094632\n",
       "Name: 1532397, dtype: object"
      ]
     },
     "execution_count": 30,
     "metadata": {},
     "output_type": "execute_result"
    }
   ],
   "source": [
    "dfA3.loc[dfA3[\"latency_ms\"].idxmin()]"
   ]
  },
  {
   "cell_type": "code",
   "execution_count": 31,
   "id": "c7c47c98",
   "metadata": {},
   "outputs": [
    {
     "data": {
      "text/plain": [
       "workerId                  w1-vB\n",
       "queryType                SELECT\n",
       "queryId                  166578\n",
       "sent              4081089479708\n",
       "received          4081090070808\n",
       "target-region           unknown\n",
       "latency_ms               0.5911\n",
       "sent_ms          4081089.479708\n",
       "received_ms      4081090.070808\n",
       "sent_sec             415.685148\n",
       "Name: 334154, dtype: object"
      ]
     },
     "execution_count": 31,
     "metadata": {},
     "output_type": "execute_result"
    }
   ],
   "source": [
    "dfB1.loc[dfB1[\"latency_ms\"].idxmin()]"
   ]
  },
  {
   "cell_type": "markdown",
   "id": "c7926d67",
   "metadata": {},
   "source": [
    "### Some checks"
   ]
  },
  {
   "cell_type": "markdown",
   "id": "f4d9c4a2",
   "metadata": {},
   "source": [
    "#### Time difference in ms when first query was sent by worker-1 to Version A and B "
   ]
  },
  {
   "cell_type": "code",
   "execution_count": 32,
   "id": "61fe0605",
   "metadata": {},
   "outputs": [
    {
     "data": {
      "text/plain": [
       "-511996"
      ]
     },
     "execution_count": 32,
     "metadata": {},
     "output_type": "execute_result"
    }
   ],
   "source": [
    "\n",
    "dfA2[\"sent\"].min() - dfB2[\"sent\"].min()"
   ]
  },
  {
   "cell_type": "markdown",
   "id": "676b17ce",
   "metadata": {},
   "source": [
    "#### Time difference in ms when last query was sent by worker-1 to Version A and B "
   ]
  },
  {
   "cell_type": "code",
   "execution_count": 33,
   "id": "234a1c20",
   "metadata": {},
   "outputs": [
    {
     "data": {
      "text/plain": [
       "-3992860681"
      ]
     },
     "execution_count": 33,
     "metadata": {},
     "output_type": "execute_result"
    }
   ],
   "source": [
    "dfA1[\"sent\"].max() - dfB1[\"sent\"].max() \n"
   ]
  },
  {
   "cell_type": "markdown",
   "id": "74abe57d",
   "metadata": {},
   "source": [
    "## Create Figures "
   ]
  },
  {
   "cell_type": "markdown",
   "id": "2a090a7b",
   "metadata": {},
   "source": [
    "### Create Boxplots"
   ]
  },
  {
   "cell_type": "code",
   "execution_count": 34,
   "id": "58a49efa",
   "metadata": {},
   "outputs": [],
   "source": [
    "sns.set_theme(style=\"darkgrid\")"
   ]
  },
  {
   "cell_type": "code",
   "execution_count": 35,
   "id": "4f8631c8",
   "metadata": {},
   "outputs": [
    {
     "data": {
      "image/png": "[encoded data removed]",
      "text/plain": [
       "<Figure size 432x288 with 1 Axes>"
      ]
     },
     "metadata": {},
     "output_type": "display_data"
    }
   ],
   "source": [
    "ax = plt.boxplot(x=dfA[\"latency_ms\"])\n"
   ]
  },
  {
   "cell_type": "markdown",
   "id": "1ef8d979",
   "metadata": {},
   "source": [
    "### Create Flowchart"
   ]
  },
  {
   "cell_type": "code",
   "execution_count": 36,
   "id": "8058b963",
   "metadata": {},
   "outputs": [
    {
     "data": {
      "text/plain": [
       "<seaborn.axisgrid.FacetGrid at 0x1a430003340>"
      ]
     },
     "execution_count": 36,
     "metadata": {},
     "output_type": "execute_result"
    },
    {
     "data": {
      "image/png": "[encoded data removed]",
      "text/plain": [
       "<Figure size 360x360 with 1 Axes>"
      ]
     },
     "metadata": {},
     "output_type": "display_data"
    }
   ],
   "source": [
    "sns.lmplot(x='sent_sec', y='latency_ms', data=dfA, fit_reg=False)"
   ]
  }
 ],
 "metadata": {
  "kernelspec": {
   "display_name": "Python 3 (ipykernel)",
   "language": "python",
   "name": "python3"
  },
  "language_info": {
   "codemirror_mode": {
    "name": "ipython",
    "version": 3
   },
   "file_extension": ".py",
   "mimetype": "text/x-python",
   "name": "python",
   "nbconvert_exporter": "python",
   "pygments_lexer": "ipython3",
   "version": "3.10.4"
  }
 },
 "nbformat": 4,
 "nbformat_minor": 5
}
