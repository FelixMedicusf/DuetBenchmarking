{
 "cells": [
  {
   "cell_type": "markdown",
   "id": "effbe8fe",
   "metadata": {},
   "source": [
    "# Evaluation Of Duet Benchmarking Results from Distributed Database \"Cassandra\""
   ]
  },
  {
   "cell_type": "markdown",
   "id": "e0294f93",
   "metadata": {},
   "source": [
    "### Imports"
   ]
  },
  {
   "cell_type": "code",
   "execution_count": 303,
   "id": "e4a313ec",
   "metadata": {},
   "outputs": [],
   "source": [
    "import matplotlib.pyplot as plt\n",
    "import numpy as np\n",
    "import seaborn as sns\n",
    "import pandas as pd\n",
    "import os\n",
    "from pathlib import Path"
   ]
  },
  {
   "cell_type": "code",
   "execution_count": 304,
   "id": "c971a7d9",
   "metadata": {},
   "outputs": [],
   "source": [
    "# cwd = Path.cwd()\n",
    "# filepath = os.path.join(cwd, \"Results\", \"1.25mCops_4t\", \"AA\", \"run_measurements3.csv\")\n",
    "# print(filepath)\n",
    "# df3 = pd.read_csv(filepath)"
   ]
  },
  {
   "cell_type": "code",
   "execution_count": 305,
   "id": "a1039b8a",
   "metadata": {},
   "outputs": [],
   "source": [
    "# cwd = Path.cwd()\n",
    "# filepath = os.path.join(cwd, \"Results\", \"1.25mCops_4t\", \"AA\", \"run_measurements2.csv\")\n",
    "# print(filepath)\n",
    "# df2 = pd.read_csv(filepath)"
   ]
  },
  {
   "cell_type": "markdown",
   "id": "eb039afe",
   "metadata": {},
   "source": [
    "### Import Benchmarking Measurements as csv file and create Pandas Dataframe for further Analysis"
   ]
  },
  {
   "cell_type": "code",
   "execution_count": 306,
   "id": "2bae1a82",
   "metadata": {},
   "outputs": [
    {
     "name": "stdout",
     "output_type": "stream",
     "text": [
      "C:\\Users\\Felix Medicus\\Desktop\\Thesis_MCC\\DuetBenchmarking\\Results\\Results\\international\\1mCops_4t\\AA\\run_measurements1.csv\n"
     ]
    }
   ],
   "source": [
    "cwd = Path.cwd()\n",
    "filepath = os.path.join(cwd, \"Results\",\"international\", \"1mCops_4t\", \"AA\", \"run_measurements1.csv\")\n",
    "print(filepath)\n",
    "df = pd.read_csv(filepath)"
   ]
  },
  {
   "cell_type": "code",
   "execution_count": 307,
   "id": "776e1055",
   "metadata": {},
   "outputs": [],
   "source": [
    "# df = pd.concat([df1, df2, df3])\n",
    "# df = df1"
   ]
  },
  {
   "cell_type": "markdown",
   "id": "83d67033",
   "metadata": {},
   "source": [
    "### Set Versions as Variables"
   ]
  },
  {
   "cell_type": "code",
   "execution_count": 308,
   "id": "068dc046",
   "metadata": {},
   "outputs": [],
   "source": [
    "workloadLoad = \"Workload C: 100% Insert\"\n",
    "workloadRun = \"Workload C: 100% Read\"\n",
    "phase = \"Run\"\n",
    "versionA = \"Version A: Cassandra 4.0.4\"\n",
    "versionB = \"Version B: Cassandra 3.0.27\""
   ]
  },
  {
   "cell_type": "markdown",
   "id": "337c61b0",
   "metadata": {},
   "source": [
    "### Insert latencies in ms into the measurement table"
   ]
  },
  {
   "cell_type": "code",
   "execution_count": 309,
   "id": "15d7d02f",
   "metadata": {},
   "outputs": [],
   "source": [
    "df[\"latency_ms\"] = (df[\"received\"]- df[\"sent\"])/1000000"
   ]
  },
  {
   "cell_type": "code",
   "execution_count": 310,
   "id": "5ddf3971",
   "metadata": {},
   "outputs": [],
   "source": [
    "df[\"sent_ms\"] = df[\"sent\"].div(1000000)\n",
    "df[\"received_ms\"] = df[\"received\"].div(1000000)"
   ]
  },
  {
   "cell_type": "code",
   "execution_count": 311,
   "id": "baca2f0f",
   "metadata": {},
   "outputs": [
    {
     "data": {
      "text/html": [
       "<div>\n",
       "<style scoped>\n",
       "    .dataframe tbody tr th:only-of-type {\n",
       "        vertical-align: middle;\n",
       "    }\n",
       "\n",
       "    .dataframe tbody tr th {\n",
       "        vertical-align: top;\n",
       "    }\n",
       "\n",
       "    .dataframe thead th {\n",
       "        text-align: right;\n",
       "    }\n",
       "</style>\n",
       "<table border=\"1\" class=\"dataframe\">\n",
       "  <thead>\n",
       "    <tr style=\"text-align: right;\">\n",
       "      <th></th>\n",
       "      <th>queryId</th>\n",
       "      <th>sent</th>\n",
       "      <th>received</th>\n",
       "      <th>latency_ms</th>\n",
       "      <th>sent_ms</th>\n",
       "      <th>received_ms</th>\n",
       "    </tr>\n",
       "  </thead>\n",
       "  <tbody>\n",
       "    <tr>\n",
       "      <th>count</th>\n",
       "      <td>2.000000e+06</td>\n",
       "      <td>2.000000e+06</td>\n",
       "      <td>2.000000e+06</td>\n",
       "      <td>2.000000e+06</td>\n",
       "      <td>2.000000e+06</td>\n",
       "      <td>2.000000e+06</td>\n",
       "    </tr>\n",
       "    <tr>\n",
       "      <th>mean</th>\n",
       "      <td>4.999995e+05</td>\n",
       "      <td>3.406594e+12</td>\n",
       "      <td>3.406602e+12</td>\n",
       "      <td>8.016074e+00</td>\n",
       "      <td>3.406594e+06</td>\n",
       "      <td>3.406602e+06</td>\n",
       "    </tr>\n",
       "    <tr>\n",
       "      <th>std</th>\n",
       "      <td>2.886752e+05</td>\n",
       "      <td>2.549844e+11</td>\n",
       "      <td>2.549850e+11</td>\n",
       "      <td>2.447347e+01</td>\n",
       "      <td>2.549844e+05</td>\n",
       "      <td>2.549850e+05</td>\n",
       "    </tr>\n",
       "    <tr>\n",
       "      <th>min</th>\n",
       "      <td>0.000000e+00</td>\n",
       "      <td>2.978896e+12</td>\n",
       "      <td>2.978899e+12</td>\n",
       "      <td>5.180600e-01</td>\n",
       "      <td>2.978896e+06</td>\n",
       "      <td>2.978899e+06</td>\n",
       "    </tr>\n",
       "    <tr>\n",
       "      <th>25%</th>\n",
       "      <td>2.499998e+05</td>\n",
       "      <td>3.184878e+12</td>\n",
       "      <td>3.184882e+12</td>\n",
       "      <td>1.265264e+00</td>\n",
       "      <td>3.184878e+06</td>\n",
       "      <td>3.184882e+06</td>\n",
       "    </tr>\n",
       "    <tr>\n",
       "      <th>50%</th>\n",
       "      <td>4.999995e+05</td>\n",
       "      <td>3.388881e+12</td>\n",
       "      <td>3.388885e+12</td>\n",
       "      <td>1.637008e+00</td>\n",
       "      <td>3.388881e+06</td>\n",
       "      <td>3.388885e+06</td>\n",
       "    </tr>\n",
       "    <tr>\n",
       "      <th>75%</th>\n",
       "      <td>7.499992e+05</td>\n",
       "      <td>3.623088e+12</td>\n",
       "      <td>3.623099e+12</td>\n",
       "      <td>2.456167e+00</td>\n",
       "      <td>3.623088e+06</td>\n",
       "      <td>3.623099e+06</td>\n",
       "    </tr>\n",
       "    <tr>\n",
       "      <th>max</th>\n",
       "      <td>9.999990e+05</td>\n",
       "      <td>3.940810e+12</td>\n",
       "      <td>3.940813e+12</td>\n",
       "      <td>9.694408e+02</td>\n",
       "      <td>3.940810e+06</td>\n",
       "      <td>3.940813e+06</td>\n",
       "    </tr>\n",
       "  </tbody>\n",
       "</table>\n",
       "</div>"
      ],
      "text/plain": [
       "            queryId          sent      received    latency_ms       sent_ms  \\\n",
       "count  2.000000e+06  2.000000e+06  2.000000e+06  2.000000e+06  2.000000e+06   \n",
       "mean   4.999995e+05  3.406594e+12  3.406602e+12  8.016074e+00  3.406594e+06   \n",
       "std    2.886752e+05  2.549844e+11  2.549850e+11  2.447347e+01  2.549844e+05   \n",
       "min    0.000000e+00  2.978896e+12  2.978899e+12  5.180600e-01  2.978896e+06   \n",
       "25%    2.499998e+05  3.184878e+12  3.184882e+12  1.265264e+00  3.184878e+06   \n",
       "50%    4.999995e+05  3.388881e+12  3.388885e+12  1.637008e+00  3.388881e+06   \n",
       "75%    7.499992e+05  3.623088e+12  3.623099e+12  2.456167e+00  3.623088e+06   \n",
       "max    9.999990e+05  3.940810e+12  3.940813e+12  9.694408e+02  3.940810e+06   \n",
       "\n",
       "        received_ms  \n",
       "count  2.000000e+06  \n",
       "mean   3.406602e+06  \n",
       "std    2.549850e+05  \n",
       "min    2.978899e+06  \n",
       "25%    3.184882e+06  \n",
       "50%    3.388885e+06  \n",
       "75%    3.623099e+06  \n",
       "max    3.940813e+06  "
      ]
     },
     "execution_count": 311,
     "metadata": {},
     "output_type": "execute_result"
    }
   ],
   "source": [
    "df.describe()"
   ]
  },
  {
   "cell_type": "code",
   "execution_count": 312,
   "id": "1fa30957",
   "metadata": {},
   "outputs": [
    {
     "data": {
      "text/html": [
       "<div>\n",
       "<style scoped>\n",
       "    .dataframe tbody tr th:only-of-type {\n",
       "        vertical-align: middle;\n",
       "    }\n",
       "\n",
       "    .dataframe tbody tr th {\n",
       "        vertical-align: top;\n",
       "    }\n",
       "\n",
       "    .dataframe thead th {\n",
       "        text-align: right;\n",
       "    }\n",
       "</style>\n",
       "<table border=\"1\" class=\"dataframe\">\n",
       "  <thead>\n",
       "    <tr style=\"text-align: right;\">\n",
       "      <th></th>\n",
       "      <th>workerId</th>\n",
       "      <th>queryType</th>\n",
       "      <th>queryId</th>\n",
       "      <th>sent</th>\n",
       "      <th>received</th>\n",
       "      <th>target-region</th>\n",
       "      <th>latency_ms</th>\n",
       "      <th>sent_ms</th>\n",
       "      <th>received_ms</th>\n",
       "    </tr>\n",
       "  </thead>\n",
       "  <tbody>\n",
       "    <tr>\n",
       "      <th>2</th>\n",
       "      <td>w1-vA</td>\n",
       "      <td>UPDATE</td>\n",
       "      <td>0</td>\n",
       "      <td>2978896392465</td>\n",
       "      <td>2978899614162</td>\n",
       "      <td>europe-west1</td>\n",
       "      <td>3.221697</td>\n",
       "      <td>2.978896e+06</td>\n",
       "      <td>2.978900e+06</td>\n",
       "    </tr>\n",
       "    <tr>\n",
       "      <th>1</th>\n",
       "      <td>w1-vA</td>\n",
       "      <td>UPDATE</td>\n",
       "      <td>333336</td>\n",
       "      <td>2978896955908</td>\n",
       "      <td>2978899525821</td>\n",
       "      <td>europe-west1</td>\n",
       "      <td>2.569913</td>\n",
       "      <td>2.978897e+06</td>\n",
       "      <td>2.978900e+06</td>\n",
       "    </tr>\n",
       "    <tr>\n",
       "      <th>4</th>\n",
       "      <td>w1-vB</td>\n",
       "      <td>UPDATE</td>\n",
       "      <td>0</td>\n",
       "      <td>2978897159883</td>\n",
       "      <td>2978904678852</td>\n",
       "      <td>europe-west1</td>\n",
       "      <td>7.518969</td>\n",
       "      <td>2.978897e+06</td>\n",
       "      <td>2.978905e+06</td>\n",
       "    </tr>\n",
       "    <tr>\n",
       "      <th>3</th>\n",
       "      <td>w1-vB</td>\n",
       "      <td>UPDATE</td>\n",
       "      <td>333336</td>\n",
       "      <td>2978897369120</td>\n",
       "      <td>2978904275175</td>\n",
       "      <td>europe-west1</td>\n",
       "      <td>6.906055</td>\n",
       "      <td>2.978897e+06</td>\n",
       "      <td>2.978904e+06</td>\n",
       "    </tr>\n",
       "    <tr>\n",
       "      <th>0</th>\n",
       "      <td>w1-vA</td>\n",
       "      <td>UPDATE</td>\n",
       "      <td>666672</td>\n",
       "      <td>2978897730798</td>\n",
       "      <td>2978899318362</td>\n",
       "      <td>europe-west1</td>\n",
       "      <td>1.587564</td>\n",
       "      <td>2.978898e+06</td>\n",
       "      <td>2.978899e+06</td>\n",
       "    </tr>\n",
       "  </tbody>\n",
       "</table>\n",
       "</div>"
      ],
      "text/plain": [
       "  workerId queryType  queryId           sent       received target-region  \\\n",
       "2    w1-vA    UPDATE        0  2978896392465  2978899614162  europe-west1   \n",
       "1    w1-vA    UPDATE   333336  2978896955908  2978899525821  europe-west1   \n",
       "4    w1-vB    UPDATE        0  2978897159883  2978904678852  europe-west1   \n",
       "3    w1-vB    UPDATE   333336  2978897369120  2978904275175  europe-west1   \n",
       "0    w1-vA    UPDATE   666672  2978897730798  2978899318362  europe-west1   \n",
       "\n",
       "   latency_ms       sent_ms   received_ms  \n",
       "2    3.221697  2.978896e+06  2.978900e+06  \n",
       "1    2.569913  2.978897e+06  2.978900e+06  \n",
       "4    7.518969  2.978897e+06  2.978905e+06  \n",
       "3    6.906055  2.978897e+06  2.978904e+06  \n",
       "0    1.587564  2.978898e+06  2.978899e+06  "
      ]
     },
     "execution_count": 312,
     "metadata": {},
     "output_type": "execute_result"
    }
   ],
   "source": [
    "df = df.sort_values(by=\"sent\", ascending=True)\n",
    "df.head()"
   ]
  },
  {
   "cell_type": "markdown",
   "id": "c9c40381",
   "metadata": {},
   "source": [
    "### Restructure Timeline"
   ]
  },
  {
   "cell_type": "code",
   "execution_count": 313,
   "id": "ca0d2243",
   "metadata": {},
   "outputs": [],
   "source": [
    "firstSent = df[\"sent\"].min()\n",
    "df[\"sent_sec\"] = (df[\"sent\"] - firstSent)/1000000/1000"
   ]
  },
  {
   "cell_type": "markdown",
   "id": "8285fdc6",
   "metadata": {},
   "source": [
    "### Return benchmark run time (First request send to last response received)"
   ]
  },
  {
   "cell_type": "code",
   "execution_count": 314,
   "id": "637c658e",
   "metadata": {},
   "outputs": [
    {
     "name": "stdout",
     "output_type": "stream",
     "text": [
      "961.914030405 seconds or 16.03190050675 m\n"
     ]
    }
   ],
   "source": [
    "totalTime = df[\"sent\"].max() - df[\"sent\"].min()\n",
    "print(totalTime/1000000/1000, \"seconds\", \"or\", totalTime/1000000/1000/60, \"m\") "
   ]
  },
  {
   "cell_type": "markdown",
   "id": "30e8f7c7",
   "metadata": {},
   "source": [
    "### Prune Measurements and print new run time for pruned benchmark (Remove first and last 100 seconds)"
   ]
  },
  {
   "cell_type": "code",
   "execution_count": 315,
   "id": "f63dee0c",
   "metadata": {},
   "outputs": [],
   "source": [
    "dfPruned = df.loc[(df[\"sent_sec\"] > 200) & (df[\"sent_sec\"] < (totalTime/1000000/1000) - 100)]"
   ]
  },
  {
   "cell_type": "code",
   "execution_count": 316,
   "id": "0637b206",
   "metadata": {},
   "outputs": [
    {
     "name": "stdout",
     "output_type": "stream",
     "text": [
      "Pruned time:\n",
      " 661.900580667 seconds or 11.03167634445 minutes\n"
     ]
    }
   ],
   "source": [
    "totalTime = dfPruned[\"sent\"].max() - dfPruned[\"sent\"].min()\n",
    "print(\"Pruned time:\\n\",totalTime/1000000/1000, \"seconds\", \"or\", totalTime/1000000/1000/60, \"minutes\") "
   ]
  },
  {
   "cell_type": "markdown",
   "id": "a6a75b54",
   "metadata": {},
   "source": [
    "### Create subsets of dataframe (for Version A and B, and for each worker for Version A and B) "
   ]
  },
  {
   "cell_type": "code",
   "execution_count": 317,
   "id": "50754c1e",
   "metadata": {},
   "outputs": [],
   "source": [
    "dfA1 = dfPruned.loc[(dfPruned[\"workerId\"] == \"w1-vA\")]\n",
    "dfA2 = dfPruned.loc[(dfPruned[\"workerId\"] == \"w2-vA\")]\n",
    "dfA3 = dfPruned.loc[(dfPruned[\"workerId\"] == \"w3-vA\")]\n",
    "dfB1 = dfPruned.loc[(dfPruned[\"workerId\"] == \"w1-vB\")]\n",
    "dfB2 = dfPruned.loc[(dfPruned[\"workerId\"] == \"w2-vB\")]\n",
    "dfB3 = dfPruned.loc[(dfPruned[\"workerId\"] == \"w3-vB\")]\n",
    "dfA = dfPruned.loc[(dfPruned[\"workerId\"] == \"w1-vA\") | (dfPruned[\"workerId\"] == \"w2-vA\") | (dfPruned[\"workerId\"] == \"w3-vA\")]\n",
    "dfB = dfPruned.loc[(dfPruned[\"workerId\"] == \"w1-vB\") | (dfPruned[\"workerId\"] == \"w2-vB\") | (dfPruned[\"workerId\"] == \"w3-vB\")]\n",
    "dfARaw = df.loc[(df[\"workerId\"] == \"w1-vA\") | (df[\"workerId\"] == \"w2-vA\") | (df[\"workerId\"] == \"w3-vA\")]\n",
    "dfBRaw = df.loc[(df[\"workerId\"] == \"w1-vB\") | (df[\"workerId\"] == \"w2-vB\") | (df[\"workerId\"] == \"w3-vB\")]"
   ]
  },
  {
   "cell_type": "code",
   "execution_count": 318,
   "id": "30e4ad97",
   "metadata": {},
   "outputs": [
    {
     "data": {
      "text/html": [
       "<div>\n",
       "<style scoped>\n",
       "    .dataframe tbody tr th:only-of-type {\n",
       "        vertical-align: middle;\n",
       "    }\n",
       "\n",
       "    .dataframe tbody tr th {\n",
       "        vertical-align: top;\n",
       "    }\n",
       "\n",
       "    .dataframe thead th {\n",
       "        text-align: right;\n",
       "    }\n",
       "</style>\n",
       "<table border=\"1\" class=\"dataframe\">\n",
       "  <thead>\n",
       "    <tr style=\"text-align: right;\">\n",
       "      <th></th>\n",
       "      <th>queryId</th>\n",
       "      <th>sent</th>\n",
       "      <th>received</th>\n",
       "      <th>latency_ms</th>\n",
       "      <th>sent_ms</th>\n",
       "      <th>received_ms</th>\n",
       "      <th>sent_sec</th>\n",
       "    </tr>\n",
       "  </thead>\n",
       "  <tbody>\n",
       "    <tr>\n",
       "      <th>count</th>\n",
       "      <td>1000000.000000</td>\n",
       "      <td>1.000000e+06</td>\n",
       "      <td>1.000000e+06</td>\n",
       "      <td>1000000.000000</td>\n",
       "      <td>1.000000e+06</td>\n",
       "      <td>1.000000e+06</td>\n",
       "      <td>1000000.000000</td>\n",
       "    </tr>\n",
       "    <tr>\n",
       "      <th>mean</th>\n",
       "      <td>499999.500000</td>\n",
       "      <td>3.407453e+12</td>\n",
       "      <td>3.407461e+12</td>\n",
       "      <td>8.024535</td>\n",
       "      <td>3.407453e+06</td>\n",
       "      <td>3.407461e+06</td>\n",
       "      <td>428.556301</td>\n",
       "    </tr>\n",
       "    <tr>\n",
       "      <th>std</th>\n",
       "      <td>288675.278932</td>\n",
       "      <td>2.560739e+11</td>\n",
       "      <td>2.560745e+11</td>\n",
       "      <td>24.476534</td>\n",
       "      <td>2.560739e+05</td>\n",
       "      <td>2.560745e+05</td>\n",
       "      <td>256.073889</td>\n",
       "    </tr>\n",
       "    <tr>\n",
       "      <th>min</th>\n",
       "      <td>0.000000</td>\n",
       "      <td>2.978896e+12</td>\n",
       "      <td>2.978899e+12</td>\n",
       "      <td>0.518060</td>\n",
       "      <td>2.978896e+06</td>\n",
       "      <td>2.978899e+06</td>\n",
       "      <td>0.000000</td>\n",
       "    </tr>\n",
       "    <tr>\n",
       "      <th>25%</th>\n",
       "      <td>249999.750000</td>\n",
       "      <td>3.185200e+12</td>\n",
       "      <td>3.185204e+12</td>\n",
       "      <td>1.271419</td>\n",
       "      <td>3.185200e+06</td>\n",
       "      <td>3.185204e+06</td>\n",
       "      <td>206.303560</td>\n",
       "    </tr>\n",
       "    <tr>\n",
       "      <th>50%</th>\n",
       "      <td>499999.500000</td>\n",
       "      <td>3.389194e+12</td>\n",
       "      <td>3.389199e+12</td>\n",
       "      <td>1.645894</td>\n",
       "      <td>3.389194e+06</td>\n",
       "      <td>3.389199e+06</td>\n",
       "      <td>410.297517</td>\n",
       "    </tr>\n",
       "    <tr>\n",
       "      <th>75%</th>\n",
       "      <td>749999.250000</td>\n",
       "      <td>3.623965e+12</td>\n",
       "      <td>3.623973e+12</td>\n",
       "      <td>2.471981</td>\n",
       "      <td>3.623965e+06</td>\n",
       "      <td>3.623973e+06</td>\n",
       "      <td>645.068827</td>\n",
       "    </tr>\n",
       "    <tr>\n",
       "      <th>max</th>\n",
       "      <td>999999.000000</td>\n",
       "      <td>3.940810e+12</td>\n",
       "      <td>3.940813e+12</td>\n",
       "      <td>950.038318</td>\n",
       "      <td>3.940810e+06</td>\n",
       "      <td>3.940813e+06</td>\n",
       "      <td>961.914030</td>\n",
       "    </tr>\n",
       "  </tbody>\n",
       "</table>\n",
       "</div>"
      ],
      "text/plain": [
       "              queryId          sent      received      latency_ms  \\\n",
       "count  1000000.000000  1.000000e+06  1.000000e+06  1000000.000000   \n",
       "mean    499999.500000  3.407453e+12  3.407461e+12        8.024535   \n",
       "std     288675.278932  2.560739e+11  2.560745e+11       24.476534   \n",
       "min          0.000000  2.978896e+12  2.978899e+12        0.518060   \n",
       "25%     249999.750000  3.185200e+12  3.185204e+12        1.271419   \n",
       "50%     499999.500000  3.389194e+12  3.389199e+12        1.645894   \n",
       "75%     749999.250000  3.623965e+12  3.623973e+12        2.471981   \n",
       "max     999999.000000  3.940810e+12  3.940813e+12      950.038318   \n",
       "\n",
       "            sent_ms   received_ms        sent_sec  \n",
       "count  1.000000e+06  1.000000e+06  1000000.000000  \n",
       "mean   3.407453e+06  3.407461e+06      428.556301  \n",
       "std    2.560739e+05  2.560745e+05      256.073889  \n",
       "min    2.978896e+06  2.978899e+06        0.000000  \n",
       "25%    3.185200e+06  3.185204e+06      206.303560  \n",
       "50%    3.389194e+06  3.389199e+06      410.297517  \n",
       "75%    3.623965e+06  3.623973e+06      645.068827  \n",
       "max    3.940810e+06  3.940813e+06      961.914030  "
      ]
     },
     "execution_count": 318,
     "metadata": {},
     "output_type": "execute_result"
    }
   ],
   "source": [
    "dfARaw.describe()"
   ]
  },
  {
   "cell_type": "code",
   "execution_count": 319,
   "id": "6e989a6e",
   "metadata": {},
   "outputs": [
    {
     "data": {
      "text/html": [
       "<div>\n",
       "<style scoped>\n",
       "    .dataframe tbody tr th:only-of-type {\n",
       "        vertical-align: middle;\n",
       "    }\n",
       "\n",
       "    .dataframe tbody tr th {\n",
       "        vertical-align: top;\n",
       "    }\n",
       "\n",
       "    .dataframe thead th {\n",
       "        text-align: right;\n",
       "    }\n",
       "</style>\n",
       "<table border=\"1\" class=\"dataframe\">\n",
       "  <thead>\n",
       "    <tr style=\"text-align: right;\">\n",
       "      <th></th>\n",
       "      <th>queryId</th>\n",
       "      <th>sent</th>\n",
       "      <th>received</th>\n",
       "      <th>latency_ms</th>\n",
       "      <th>sent_ms</th>\n",
       "      <th>received_ms</th>\n",
       "      <th>sent_sec</th>\n",
       "    </tr>\n",
       "  </thead>\n",
       "  <tbody>\n",
       "    <tr>\n",
       "      <th>count</th>\n",
       "      <td>1000000.000000</td>\n",
       "      <td>1.000000e+06</td>\n",
       "      <td>1.000000e+06</td>\n",
       "      <td>1000000.000000</td>\n",
       "      <td>1.000000e+06</td>\n",
       "      <td>1.000000e+06</td>\n",
       "      <td>1000000.000000</td>\n",
       "    </tr>\n",
       "    <tr>\n",
       "      <th>mean</th>\n",
       "      <td>499999.500000</td>\n",
       "      <td>3.405736e+12</td>\n",
       "      <td>3.405744e+12</td>\n",
       "      <td>8.007614</td>\n",
       "      <td>3.405736e+06</td>\n",
       "      <td>3.405744e+06</td>\n",
       "      <td>426.839276</td>\n",
       "    </tr>\n",
       "    <tr>\n",
       "      <th>std</th>\n",
       "      <td>288675.278932</td>\n",
       "      <td>2.538874e+11</td>\n",
       "      <td>2.538881e+11</td>\n",
       "      <td>24.470411</td>\n",
       "      <td>2.538874e+05</td>\n",
       "      <td>2.538881e+05</td>\n",
       "      <td>253.887385</td>\n",
       "    </tr>\n",
       "    <tr>\n",
       "      <th>min</th>\n",
       "      <td>0.000000</td>\n",
       "      <td>2.978897e+12</td>\n",
       "      <td>2.978904e+12</td>\n",
       "      <td>0.530808</td>\n",
       "      <td>2.978897e+06</td>\n",
       "      <td>2.978904e+06</td>\n",
       "      <td>0.000767</td>\n",
       "    </tr>\n",
       "    <tr>\n",
       "      <th>25%</th>\n",
       "      <td>249999.750000</td>\n",
       "      <td>3.184510e+12</td>\n",
       "      <td>3.184521e+12</td>\n",
       "      <td>1.259299</td>\n",
       "      <td>3.184510e+06</td>\n",
       "      <td>3.184521e+06</td>\n",
       "      <td>205.613371</td>\n",
       "    </tr>\n",
       "    <tr>\n",
       "      <th>50%</th>\n",
       "      <td>499999.500000</td>\n",
       "      <td>3.388455e+12</td>\n",
       "      <td>3.388458e+12</td>\n",
       "      <td>1.628000</td>\n",
       "      <td>3.388455e+06</td>\n",
       "      <td>3.388458e+06</td>\n",
       "      <td>409.558938</td>\n",
       "    </tr>\n",
       "    <tr>\n",
       "      <th>75%</th>\n",
       "      <td>749999.250000</td>\n",
       "      <td>3.622242e+12</td>\n",
       "      <td>3.622245e+12</td>\n",
       "      <td>2.440283</td>\n",
       "      <td>3.622242e+06</td>\n",
       "      <td>3.622245e+06</td>\n",
       "      <td>643.345651</td>\n",
       "    </tr>\n",
       "    <tr>\n",
       "      <th>max</th>\n",
       "      <td>999999.000000</td>\n",
       "      <td>3.928562e+12</td>\n",
       "      <td>3.928564e+12</td>\n",
       "      <td>969.440762</td>\n",
       "      <td>3.928562e+06</td>\n",
       "      <td>3.928564e+06</td>\n",
       "      <td>949.665694</td>\n",
       "    </tr>\n",
       "  </tbody>\n",
       "</table>\n",
       "</div>"
      ],
      "text/plain": [
       "              queryId          sent      received      latency_ms  \\\n",
       "count  1000000.000000  1.000000e+06  1.000000e+06  1000000.000000   \n",
       "mean    499999.500000  3.405736e+12  3.405744e+12        8.007614   \n",
       "std     288675.278932  2.538874e+11  2.538881e+11       24.470411   \n",
       "min          0.000000  2.978897e+12  2.978904e+12        0.530808   \n",
       "25%     249999.750000  3.184510e+12  3.184521e+12        1.259299   \n",
       "50%     499999.500000  3.388455e+12  3.388458e+12        1.628000   \n",
       "75%     749999.250000  3.622242e+12  3.622245e+12        2.440283   \n",
       "max     999999.000000  3.928562e+12  3.928564e+12      969.440762   \n",
       "\n",
       "            sent_ms   received_ms        sent_sec  \n",
       "count  1.000000e+06  1.000000e+06  1000000.000000  \n",
       "mean   3.405736e+06  3.405744e+06      426.839276  \n",
       "std    2.538874e+05  2.538881e+05      253.887385  \n",
       "min    2.978897e+06  2.978904e+06        0.000767  \n",
       "25%    3.184510e+06  3.184521e+06      205.613371  \n",
       "50%    3.388455e+06  3.388458e+06      409.558938  \n",
       "75%    3.622242e+06  3.622245e+06      643.345651  \n",
       "max    3.928562e+06  3.928564e+06      949.665694  "
      ]
     },
     "execution_count": 319,
     "metadata": {},
     "output_type": "execute_result"
    }
   ],
   "source": [
    "dfBRaw.describe()"
   ]
  },
  {
   "cell_type": "code",
   "execution_count": 320,
   "id": "5a83a254",
   "metadata": {},
   "outputs": [
    {
     "data": {
      "text/html": [
       "<div>\n",
       "<style scoped>\n",
       "    .dataframe tbody tr th:only-of-type {\n",
       "        vertical-align: middle;\n",
       "    }\n",
       "\n",
       "    .dataframe tbody tr th {\n",
       "        vertical-align: top;\n",
       "    }\n",
       "\n",
       "    .dataframe thead th {\n",
       "        text-align: right;\n",
       "    }\n",
       "</style>\n",
       "<table border=\"1\" class=\"dataframe\">\n",
       "  <thead>\n",
       "    <tr style=\"text-align: right;\">\n",
       "      <th></th>\n",
       "      <th>queryId</th>\n",
       "      <th>sent</th>\n",
       "      <th>received</th>\n",
       "      <th>latency_ms</th>\n",
       "      <th>sent_ms</th>\n",
       "      <th>received_ms</th>\n",
       "      <th>sent_sec</th>\n",
       "    </tr>\n",
       "  </thead>\n",
       "  <tbody>\n",
       "    <tr>\n",
       "      <th>count</th>\n",
       "      <td>723408.000000</td>\n",
       "      <td>7.234080e+05</td>\n",
       "      <td>7.234080e+05</td>\n",
       "      <td>723408.000000</td>\n",
       "      <td>7.234080e+05</td>\n",
       "      <td>7.234080e+05</td>\n",
       "      <td>723408.000000</td>\n",
       "    </tr>\n",
       "    <tr>\n",
       "      <th>mean</th>\n",
       "      <td>535414.414773</td>\n",
       "      <td>3.491076e+12</td>\n",
       "      <td>3.491084e+12</td>\n",
       "      <td>8.214103</td>\n",
       "      <td>3.491076e+06</td>\n",
       "      <td>3.491084e+06</td>\n",
       "      <td>512.179198</td>\n",
       "    </tr>\n",
       "    <tr>\n",
       "      <th>std</th>\n",
       "      <td>281303.080970</td>\n",
       "      <td>1.912166e+11</td>\n",
       "      <td>1.912173e+11</td>\n",
       "      <td>26.069992</td>\n",
       "      <td>1.912166e+05</td>\n",
       "      <td>1.912173e+05</td>\n",
       "      <td>191.216557</td>\n",
       "    </tr>\n",
       "    <tr>\n",
       "      <th>min</th>\n",
       "      <td>77319.000000</td>\n",
       "      <td>3.178897e+12</td>\n",
       "      <td>3.178899e+12</td>\n",
       "      <td>0.518060</td>\n",
       "      <td>3.178897e+06</td>\n",
       "      <td>3.178899e+06</td>\n",
       "      <td>200.000844</td>\n",
       "    </tr>\n",
       "    <tr>\n",
       "      <th>25%</th>\n",
       "      <td>261156.750000</td>\n",
       "      <td>3.325659e+12</td>\n",
       "      <td>3.325663e+12</td>\n",
       "      <td>1.294737</td>\n",
       "      <td>3.325659e+06</td>\n",
       "      <td>3.325663e+06</td>\n",
       "      <td>346.762156</td>\n",
       "    </tr>\n",
       "    <tr>\n",
       "      <th>50%</th>\n",
       "      <td>535579.500000</td>\n",
       "      <td>3.477435e+12</td>\n",
       "      <td>3.477438e+12</td>\n",
       "      <td>1.676175</td>\n",
       "      <td>3.477435e+06</td>\n",
       "      <td>3.477438e+06</td>\n",
       "      <td>498.538360</td>\n",
       "    </tr>\n",
       "    <tr>\n",
       "      <th>75%</th>\n",
       "      <td>807553.250000</td>\n",
       "      <td>3.657728e+12</td>\n",
       "      <td>3.657733e+12</td>\n",
       "      <td>2.524479</td>\n",
       "      <td>3.657728e+06</td>\n",
       "      <td>3.657733e+06</td>\n",
       "      <td>678.831930</td>\n",
       "    </tr>\n",
       "    <tr>\n",
       "      <th>max</th>\n",
       "      <td>999998.000000</td>\n",
       "      <td>3.840797e+12</td>\n",
       "      <td>3.840919e+12</td>\n",
       "      <td>950.038318</td>\n",
       "      <td>3.840797e+06</td>\n",
       "      <td>3.840919e+06</td>\n",
       "      <td>861.900500</td>\n",
       "    </tr>\n",
       "  </tbody>\n",
       "</table>\n",
       "</div>"
      ],
      "text/plain": [
       "             queryId          sent      received     latency_ms       sent_ms  \\\n",
       "count  723408.000000  7.234080e+05  7.234080e+05  723408.000000  7.234080e+05   \n",
       "mean   535414.414773  3.491076e+12  3.491084e+12       8.214103  3.491076e+06   \n",
       "std    281303.080970  1.912166e+11  1.912173e+11      26.069992  1.912166e+05   \n",
       "min     77319.000000  3.178897e+12  3.178899e+12       0.518060  3.178897e+06   \n",
       "25%    261156.750000  3.325659e+12  3.325663e+12       1.294737  3.325659e+06   \n",
       "50%    535579.500000  3.477435e+12  3.477438e+12       1.676175  3.477435e+06   \n",
       "75%    807553.250000  3.657728e+12  3.657733e+12       2.524479  3.657728e+06   \n",
       "max    999998.000000  3.840797e+12  3.840919e+12     950.038318  3.840797e+06   \n",
       "\n",
       "        received_ms       sent_sec  \n",
       "count  7.234080e+05  723408.000000  \n",
       "mean   3.491084e+06     512.179198  \n",
       "std    1.912173e+05     191.216557  \n",
       "min    3.178899e+06     200.000844  \n",
       "25%    3.325663e+06     346.762156  \n",
       "50%    3.477438e+06     498.538360  \n",
       "75%    3.657733e+06     678.831930  \n",
       "max    3.840919e+06     861.900500  "
      ]
     },
     "execution_count": 320,
     "metadata": {},
     "output_type": "execute_result"
    }
   ],
   "source": [
    "dfA.describe()"
   ]
  },
  {
   "cell_type": "code",
   "execution_count": 321,
   "id": "6358e296",
   "metadata": {},
   "outputs": [
    {
     "data": {
      "text/html": [
       "<div>\n",
       "<style scoped>\n",
       "    .dataframe tbody tr th:only-of-type {\n",
       "        vertical-align: middle;\n",
       "    }\n",
       "\n",
       "    .dataframe tbody tr th {\n",
       "        vertical-align: top;\n",
       "    }\n",
       "\n",
       "    .dataframe thead th {\n",
       "        text-align: right;\n",
       "    }\n",
       "</style>\n",
       "<table border=\"1\" class=\"dataframe\">\n",
       "  <thead>\n",
       "    <tr style=\"text-align: right;\">\n",
       "      <th></th>\n",
       "      <th>queryId</th>\n",
       "      <th>sent</th>\n",
       "      <th>received</th>\n",
       "      <th>latency_ms</th>\n",
       "      <th>sent_ms</th>\n",
       "      <th>received_ms</th>\n",
       "      <th>sent_sec</th>\n",
       "    </tr>\n",
       "  </thead>\n",
       "  <tbody>\n",
       "    <tr>\n",
       "      <th>count</th>\n",
       "      <td>725744.000000</td>\n",
       "      <td>7.257440e+05</td>\n",
       "      <td>7.257440e+05</td>\n",
       "      <td>725744.000000</td>\n",
       "      <td>7.257440e+05</td>\n",
       "      <td>7.257440e+05</td>\n",
       "      <td>725744.000000</td>\n",
       "    </tr>\n",
       "    <tr>\n",
       "      <th>mean</th>\n",
       "      <td>535548.199744</td>\n",
       "      <td>3.491420e+12</td>\n",
       "      <td>3.491429e+12</td>\n",
       "      <td>8.191004</td>\n",
       "      <td>3.491420e+06</td>\n",
       "      <td>3.491429e+06</td>\n",
       "      <td>512.524012</td>\n",
       "    </tr>\n",
       "    <tr>\n",
       "      <th>std</th>\n",
       "      <td>281115.679762</td>\n",
       "      <td>1.913908e+11</td>\n",
       "      <td>1.913916e+11</td>\n",
       "      <td>26.038417</td>\n",
       "      <td>1.913908e+05</td>\n",
       "      <td>1.913916e+05</td>\n",
       "      <td>191.390824</td>\n",
       "    </tr>\n",
       "    <tr>\n",
       "      <th>min</th>\n",
       "      <td>76482.000000</td>\n",
       "      <td>3.178898e+12</td>\n",
       "      <td>3.178900e+12</td>\n",
       "      <td>0.530808</td>\n",
       "      <td>3.178898e+06</td>\n",
       "      <td>3.178900e+06</td>\n",
       "      <td>200.001378</td>\n",
       "    </tr>\n",
       "    <tr>\n",
       "      <th>25%</th>\n",
       "      <td>262711.750000</td>\n",
       "      <td>3.325741e+12</td>\n",
       "      <td>3.325747e+12</td>\n",
       "      <td>1.279747</td>\n",
       "      <td>3.325741e+06</td>\n",
       "      <td>3.325747e+06</td>\n",
       "      <td>346.844524</td>\n",
       "    </tr>\n",
       "    <tr>\n",
       "      <th>50%</th>\n",
       "      <td>534636.500000</td>\n",
       "      <td>3.477954e+12</td>\n",
       "      <td>3.477958e+12</td>\n",
       "      <td>1.658697</td>\n",
       "      <td>3.477954e+06</td>\n",
       "      <td>3.477958e+06</td>\n",
       "      <td>499.057842</td>\n",
       "    </tr>\n",
       "    <tr>\n",
       "      <th>75%</th>\n",
       "      <td>808366.250000</td>\n",
       "      <td>3.658663e+12</td>\n",
       "      <td>3.658668e+12</td>\n",
       "      <td>2.495072</td>\n",
       "      <td>3.658663e+06</td>\n",
       "      <td>3.658668e+06</td>\n",
       "      <td>679.766117</td>\n",
       "    </tr>\n",
       "    <tr>\n",
       "      <th>max</th>\n",
       "      <td>999997.000000</td>\n",
       "      <td>3.840798e+12</td>\n",
       "      <td>3.840928e+12</td>\n",
       "      <td>969.440762</td>\n",
       "      <td>3.840798e+06</td>\n",
       "      <td>3.840928e+06</td>\n",
       "      <td>861.901424</td>\n",
       "    </tr>\n",
       "  </tbody>\n",
       "</table>\n",
       "</div>"
      ],
      "text/plain": [
       "             queryId          sent      received     latency_ms       sent_ms  \\\n",
       "count  725744.000000  7.257440e+05  7.257440e+05  725744.000000  7.257440e+05   \n",
       "mean   535548.199744  3.491420e+12  3.491429e+12       8.191004  3.491420e+06   \n",
       "std    281115.679762  1.913908e+11  1.913916e+11      26.038417  1.913908e+05   \n",
       "min     76482.000000  3.178898e+12  3.178900e+12       0.530808  3.178898e+06   \n",
       "25%    262711.750000  3.325741e+12  3.325747e+12       1.279747  3.325741e+06   \n",
       "50%    534636.500000  3.477954e+12  3.477958e+12       1.658697  3.477954e+06   \n",
       "75%    808366.250000  3.658663e+12  3.658668e+12       2.495072  3.658663e+06   \n",
       "max    999997.000000  3.840798e+12  3.840928e+12     969.440762  3.840798e+06   \n",
       "\n",
       "        received_ms       sent_sec  \n",
       "count  7.257440e+05  725744.000000  \n",
       "mean   3.491429e+06     512.524012  \n",
       "std    1.913916e+05     191.390824  \n",
       "min    3.178900e+06     200.001378  \n",
       "25%    3.325747e+06     346.844524  \n",
       "50%    3.477958e+06     499.057842  \n",
       "75%    3.658668e+06     679.766117  \n",
       "max    3.840928e+06     861.901424  "
      ]
     },
     "execution_count": 321,
     "metadata": {},
     "output_type": "execute_result"
    }
   ],
   "source": [
    "dfB.describe()"
   ]
  },
  {
   "cell_type": "markdown",
   "id": "67daee59",
   "metadata": {},
   "source": [
    "### Calculate Percentiles"
   ]
  },
  {
   "cell_type": "code",
   "execution_count": 322,
   "id": "7e446ce8",
   "metadata": {},
   "outputs": [
    {
     "name": "stdout",
     "output_type": "stream",
     "text": [
      "90% percentile versionA -->  0.9    12.132544\n",
      "Name: latency_ms, dtype: float64 \n",
      "99% percentile Version A -->  0.99    146.774363\n",
      "Name: latency_ms, dtype: float64\n"
     ]
    }
   ],
   "source": [
    "ninetyA = dfA[\"latency_ms\"].dropna().quantile([.9])\n",
    "ninetynineA = dfA[\"latency_ms\"].dropna().quantile([.99])\n",
    "print(\"90% percentile versionA --> \", ninetyA, \"\\n99% percentile Version A --> \", ninetynineA)\n"
   ]
  },
  {
   "cell_type": "code",
   "execution_count": 323,
   "id": "8ff51f30",
   "metadata": {},
   "outputs": [
    {
     "name": "stdout",
     "output_type": "stream",
     "text": [
      "90% percentile versionA -->  0.9    12.130083\n",
      "Name: latency_ms, dtype: float64 \n",
      "99% percentile Version A -->  0.99    146.649811\n",
      "Name: latency_ms, dtype: float64\n"
     ]
    }
   ],
   "source": [
    "ninetyB = dfB[\"latency_ms\"].dropna().quantile([.9])\n",
    "ninetynineB = dfB[\"latency_ms\"].dropna().quantile([.99])\n",
    "print(\"90% percentile versionA --> \", ninetyB, \"\\n99% percentile Version A --> \", ninetynineB)"
   ]
  },
  {
   "cell_type": "markdown",
   "id": "9467581b",
   "metadata": {},
   "source": [
    "### Min. Latencies for Worker 2 (A & B)"
   ]
  },
  {
   "cell_type": "code",
   "execution_count": 324,
   "id": "a6d0c80a",
   "metadata": {},
   "outputs": [
    {
     "data": {
      "text/plain": [
       "workerId                  w3-vA\n",
       "queryType                UPDATE\n",
       "queryId                  453581\n",
       "sent              3261392654338\n",
       "received          3261393608087\n",
       "target-region      europe-west3\n",
       "latency_ms             0.953749\n",
       "sent_ms          3261392.654338\n",
       "received_ms      3261393.608087\n",
       "sent_sec             282.496262\n",
       "Name: 1570019, dtype: object"
      ]
     },
     "execution_count": 324,
     "metadata": {},
     "output_type": "execute_result"
    }
   ],
   "source": [
    "dfA3.loc[dfA3[\"latency_ms\"].idxmin()]"
   ]
  },
  {
   "cell_type": "code",
   "execution_count": 325,
   "id": "c7c47c98",
   "metadata": {},
   "outputs": [
    {
     "data": {
      "text/plain": [
       "workerId                  w1-vB\n",
       "queryType                UPDATE\n",
       "queryId                  150630\n",
       "sent              3366461609267\n",
       "received          3366462230469\n",
       "target-region      europe-west1\n",
       "latency_ms             0.621202\n",
       "sent_ms          3366461.609267\n",
       "received_ms      3366462.230469\n",
       "sent_sec             387.565217\n",
       "Name: 298317, dtype: object"
      ]
     },
     "execution_count": 325,
     "metadata": {},
     "output_type": "execute_result"
    }
   ],
   "source": [
    "dfB1.loc[dfB1[\"latency_ms\"].idxmin()]"
   ]
  },
  {
   "cell_type": "code",
   "execution_count": 326,
   "id": "b866ce25",
   "metadata": {},
   "outputs": [
    {
     "data": {
      "text/plain": [
       "0"
      ]
     },
     "execution_count": 326,
     "metadata": {},
     "output_type": "execute_result"
    }
   ],
   "source": [
    "df[df.received == 999999999999999999].shape[0]\n"
   ]
  },
  {
   "cell_type": "markdown",
   "id": "c7926d67",
   "metadata": {},
   "source": [
    "### Some checks"
   ]
  },
  {
   "cell_type": "markdown",
   "id": "f4d9c4a2",
   "metadata": {},
   "source": [
    "#### Time difference in ms when first query was sent by worker-1 to Version A and B "
   ]
  },
  {
   "cell_type": "code",
   "execution_count": 327,
   "id": "61fe0605",
   "metadata": {},
   "outputs": [
    {
     "data": {
      "text/plain": [
       "-664625"
      ]
     },
     "execution_count": 327,
     "metadata": {},
     "output_type": "execute_result"
    }
   ],
   "source": [
    "\n",
    "dfA2[\"sent\"].min() - dfB2[\"sent\"].min()"
   ]
  },
  {
   "cell_type": "markdown",
   "id": "676b17ce",
   "metadata": {},
   "source": [
    "#### Time difference in ms when last query was sent by worker-1 to Version A and B "
   ]
  },
  {
   "cell_type": "code",
   "execution_count": 328,
   "id": "234a1c20",
   "metadata": {},
   "outputs": [
    {
     "data": {
      "text/plain": [
       "-924200"
      ]
     },
     "execution_count": 328,
     "metadata": {},
     "output_type": "execute_result"
    }
   ],
   "source": [
    "dfA1[\"sent\"].max() - dfB1[\"sent\"].max() \n"
   ]
  },
  {
   "cell_type": "markdown",
   "id": "74abe57d",
   "metadata": {},
   "source": [
    "## Create Figures "
   ]
  },
  {
   "cell_type": "markdown",
   "id": "2a090a7b",
   "metadata": {},
   "source": [
    "### Create Boxplots"
   ]
  },
  {
   "cell_type": "code",
   "execution_count": 329,
   "id": "58a49efa",
   "metadata": {},
   "outputs": [
    {
     "name": "stdout",
     "output_type": "stream",
     "text": [
      "723408\n"
     ]
    }
   ],
   "source": [
    "sns.set_theme(style=\"darkgrid\")\n",
    "print(len(dfA))"
   ]
  },
  {
   "cell_type": "code",
   "execution_count": 330,
   "id": "4f8631c8",
   "metadata": {},
   "outputs": [
    {
     "data": {
      "image/png": "[encoded data removed]",
      "text/plain": [
       "<Figure size 2160x576 with 1 Axes>"
      ]
     },
     "metadata": {},
     "output_type": "display_data"
    }
   ],
   "source": [
    "\n",
    "combined_dfs = pd.DataFrame({versionA: dfA['latency_ms'],\n",
    "                             versionB: dfB['latency_ms']})\n",
    "                             \n",
    "sns.set_style('white')\n",
    "sns.set_context('notebook', font_scale=2.0)\n",
    "\n",
    "box_plot = sns.boxplot(data=combined_dfs, color='white', showfliers=False, whis=1.5,palette=\"vlag\").set_title(phase)\n",
    "\n",
    "\n",
    "\n",
    "\n",
    "ax = box_plot.axes\n",
    "ax.set_ylabel(\"Latency in ms\")\n",
    "lines = ax.get_lines()\n",
    "\n",
    "categories = ax.get_xticks()\n",
    "\n",
    "for i in range(0,5):\n",
    "    for cat in categories:\n",
    "\n",
    "        y = round(lines[(i+cat*5)].get_ydata()[0],2) \n",
    "\n",
    "        ax.text(\n",
    "            cat, \n",
    "            y, \n",
    "            f'{y}', \n",
    "            ha='center', \n",
    "            va='center', \n",
    "            fontweight='bold', \n",
    "            size=20,\n",
    "            color='white',\n",
    "            bbox=dict(facecolor='#445A64'))\n",
    "\n",
    "\n",
    "sns.despine()\n",
    "\n"
   ]
  },
  {
   "cell_type": "code",
   "execution_count": 331,
   "id": "fdc5484a",
   "metadata": {},
   "outputs": [
    {
     "name": "stdout",
     "output_type": "stream",
     "text": [
      "2000000\n"
     ]
    }
   ],
   "source": [
    "sns.set_context(\"notebook\")\n",
    "sns.set(rc={'figure.figsize':(30,8)})\n",
    "print(len(df))"
   ]
  },
  {
   "cell_type": "markdown",
   "id": "73a18cbb",
   "metadata": {},
   "source": [
    "### Create Lineplot comparing latencies of Version A and B"
   ]
  },
  {
   "cell_type": "code",
   "execution_count": 332,
   "id": "53bcd3e2",
   "metadata": {
    "scrolled": false
   },
   "outputs": [
    {
     "name": "stderr",
     "output_type": "stream",
     "text": [
      "C:\\Users\\Felix Medicus\\AppData\\Local\\Temp\\ipykernel_13972\\2150790566.py:3: SettingWithCopyWarning: \n",
      "A value is trying to be set on a copy of a slice from a DataFrame.\n",
      "Try using .loc[row_indexer,col_indexer] = value instead\n",
      "\n",
      "See the caveats in the documentation: https://pandas.pydata.org/pandas-docs/stable/user_guide/indexing.html#returning-a-view-versus-a-copy\n",
      "  subchartA[\"100sec_average\"] = subchartA.latency_ms.rolling(5000).mean().shift(-2500)\n",
      "C:\\Users\\Felix Medicus\\AppData\\Local\\Temp\\ipykernel_13972\\2150790566.py:4: SettingWithCopyWarning: \n",
      "A value is trying to be set on a copy of a slice from a DataFrame.\n",
      "Try using .loc[row_indexer,col_indexer] = value instead\n",
      "\n",
      "See the caveats in the documentation: https://pandas.pydata.org/pandas-docs/stable/user_guide/indexing.html#returning-a-view-versus-a-copy\n",
      "  subchartB[\"100sec_average\"] = subchartB.latency_ms.rolling(5000).mean().shift(-2500)\n"
     ]
    },
    {
     "data": {
      "image/png": "[encoded data removed]",
      "text/plain": [
       "<Figure size 2160x576 with 1 Axes>"
      ]
     },
     "metadata": {},
     "output_type": "display_data"
    }
   ],
   "source": [
    "subchartA = dfA[['sent_sec', 'latency_ms']]\n",
    "subchartB = dfB[['sent_sec', 'latency_ms']]\n",
    "subchartA[\"100sec_average\"] = subchartA.latency_ms.rolling(5000).mean().shift(-2500)\n",
    "subchartB[\"100sec_average\"] = subchartB.latency_ms.rolling(5000).mean().shift(-2500)\n",
    "\n",
    "p = sns.lineplot(data=subchartA, x=\"sent_sec\", y=\"100sec_average\", linewidth=0.25)\n",
    "title =  phase + \" \" + workloadLoad  if phase==\"Run\" else phase\n",
    "sns.lineplot(data=subchartB, x='sent_sec',y='100sec_average', linewidth=0.25).set_title(title)\n",
    "p.set_xlabel(\"Seconds\");\n",
    "p.set_ylabel(\"Latency in ms\");\n"
   ]
  }
 ],
 "metadata": {
  "kernelspec": {
   "display_name": "Python 3 (ipykernel)",
   "language": "python",
   "name": "python3"
  },
  "language_info": {
   "codemirror_mode": {
    "name": "ipython",
    "version": 3
   },
   "file_extension": ".py",
   "mimetype": "text/x-python",
   "name": "python",
   "nbconvert_exporter": "python",
   "pygments_lexer": "ipython3",
   "version": "3.10.4"
  },
  "vscode": {
   "interpreter": {
    "hash": "5928451211728501802e96c7747375e6b0437fee24446b5e678a2827fb4e9f89"
   }
  }
 },
 "nbformat": 4,
 "nbformat_minor": 5
}
