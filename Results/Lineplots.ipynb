{
 "cells": [
  {
   "cell_type": "markdown",
   "id": "effbe8fe",
   "metadata": {},
   "source": [
    "# Evaluation Of Duet Benchmarking Results from Distributed Database \"Cassandra\""
   ]
  },
  {
   "cell_type": "markdown",
   "id": "e0294f93",
   "metadata": {},
   "source": [
    "### Imports"
   ]
  },
  {
   "cell_type": "code",
   "execution_count": 577,
   "id": "e4a313ec",
   "metadata": {},
   "outputs": [],
   "source": [
    "import matplotlib.pyplot as plt\n",
    "import numpy as np\n",
    "import seaborn as sns\n",
    "import pandas as pd\n",
    "import os\n",
    "from pathlib import Path"
   ]
  },
  {
   "cell_type": "markdown",
   "id": "99473231",
   "metadata": {},
   "source": [
    "### Set Configuration "
   ]
  },
  {
   "cell_type": "code",
   "execution_count": 578,
   "id": "62f720bb",
   "metadata": {},
   "outputs": [],
   "source": [
    "setup1=False\n",
    "aa = False\n",
    "repetition=2\n",
    "load = False\n",
    "\n",
    "workloadLoad = \"Workload C: 100% Insert\"\n",
    "workloadRun = \"Workload C: 100% Read\"\n",
    "phase = \"Run\"\n",
    "\n",
    "\n",
    "\n",
    "versionA = \"A: Cassandra 4.0.4\"\n",
    "versionB = \"B: Cassandra 4.0.4\" if aa else \"B: Cassandra 3.0.27\""
   ]
  },
  {
   "cell_type": "markdown",
   "id": "eb039afe",
   "metadata": {},
   "source": [
    "### Import Benchmarking Measurements as csv file and create Pandas Dataframe for further Analysis"
   ]
  },
  {
   "cell_type": "code",
   "execution_count": 579,
   "id": "2bae1a82",
   "metadata": {},
   "outputs": [
    {
     "name": "stdout",
     "output_type": "stream",
     "text": [
      "C:\\Users\\Felix Medicus\\Desktop\\Thesis_MCC\\DuetBenchmarking\\Results\\Results\\Setup2\\1mAops_4t\\AB\\run_measurements2.csv\n"
     ]
    }
   ],
   "source": [
    "if(setup1): \n",
    "    part1=\"Setup1\"\n",
    "    part2=\"1.25mCops_4t\"\n",
    "else: \n",
    "    part1=\"Setup2\"\n",
    "    part2=\"1mAops_4t\"\n",
    "    \n",
    "if not(load): \n",
    "    part3=\"run_measurements\"+str(repetition)+\".csv\"\n",
    "else: \n",
    "    part3=\"load_measurements\"+str(repetition)+\".csv\"\n",
    "    \n",
    "    \n",
    "cwd = Path.cwd()\n",
    "filepath = os.path.join(cwd, \"Results\", part1, part2,\"AA\" if aa else \"AB\", part3)\n",
    "print(filepath)\n",
    "\n",
    "df = pd.read_csv(filepath)\n"
   ]
  },
  {
   "cell_type": "markdown",
   "id": "337c61b0",
   "metadata": {},
   "source": [
    "### Insert latencies in ms into the measurement table"
   ]
  },
  {
   "cell_type": "code",
   "execution_count": 580,
   "id": "15d7d02f",
   "metadata": {},
   "outputs": [],
   "source": [
    "df[\"latency_ms\"] = (df[\"received\"]- df[\"sent\"])/1000000"
   ]
  },
  {
   "cell_type": "code",
   "execution_count": 581,
   "id": "5ddf3971",
   "metadata": {},
   "outputs": [],
   "source": [
    "df[\"sent_ms\"] = df[\"sent\"].div(1000000)\n",
    "df[\"received_ms\"] = df[\"received\"].div(1000000)\n",
    "df = df.sort_values(by=\"sent\", ascending=True)\n"
   ]
  },
  {
   "cell_type": "markdown",
   "id": "c9c40381",
   "metadata": {},
   "source": [
    "### Restructure Timeline"
   ]
  },
  {
   "cell_type": "code",
   "execution_count": 582,
   "id": "ca0d2243",
   "metadata": {},
   "outputs": [],
   "source": [
    "firstSent = df[\"sent\"].min()\n",
    "df[\"sent_sec\"] = (df[\"sent\"] - firstSent)/1000000/1000"
   ]
  },
  {
   "cell_type": "markdown",
   "id": "8285fdc6",
   "metadata": {},
   "source": [
    "### Return benchmark run time (First request send to last response received)"
   ]
  },
  {
   "cell_type": "code",
   "execution_count": 583,
   "id": "637c658e",
   "metadata": {},
   "outputs": [
    {
     "name": "stdout",
     "output_type": "stream",
     "text": [
      "844.088008689 seconds or 14.068133478150001 m\n"
     ]
    }
   ],
   "source": [
    "totalTime = df[\"sent\"].max() - df[\"sent\"].min()\n",
    "print(totalTime/1000000/1000, \"seconds\", \"or\", totalTime/1000000/1000/60, \"m\") \n"
   ]
  },
  {
   "cell_type": "markdown",
   "id": "30e8f7c7",
   "metadata": {},
   "source": [
    "### Prune Measurements and print new run time for pruned benchmark (Remove first and last 100 seconds)"
   ]
  },
  {
   "cell_type": "code",
   "execution_count": 584,
   "id": "f63dee0c",
   "metadata": {},
   "outputs": [],
   "source": [
    "# < (totalTime/1000000/1000) <\n",
    "\n",
    "if setup1: \n",
    "    endTime=800\n",
    "else: \n",
    "    endTime=600\n",
    "    \n",
    "dfPruned = df.loc[(df[\"sent_sec\"] > 200) & (df[\"sent_sec\"] < endTime)]"
   ]
  },
  {
   "cell_type": "code",
   "execution_count": 585,
   "id": "0637b206",
   "metadata": {},
   "outputs": [
    {
     "name": "stdout",
     "output_type": "stream",
     "text": [
      "Pruned time:\n",
      " 399.903945346 seconds or 6.665065755766666 minutes\n"
     ]
    }
   ],
   "source": [
    "totalTime = dfPruned[\"sent\"].max() - dfPruned[\"sent\"].min()\n",
    "print(\"Pruned time:\\n\",totalTime/1000000/1000, \"seconds\", \"or\", totalTime/1000000/1000/60, \"minutes\") "
   ]
  },
  {
   "cell_type": "markdown",
   "id": "a6a75b54",
   "metadata": {},
   "source": [
    "### Create subsets of dataframe (for Version A and B, and for each worker for Version A and B) "
   ]
  },
  {
   "cell_type": "code",
   "execution_count": 586,
   "id": "50754c1e",
   "metadata": {},
   "outputs": [],
   "source": [
    "dfARaw=df.loc[(df[\"workerId\"] == \"w1-vA\") | (df[\"workerId\"] == \"w2-vA\") | (df[\"workerId\"] == \"w3-vA\")]\n",
    "dfBRaw=df.loc[(df[\"workerId\"] == \"w1-vB\") | (df[\"workerId\"] == \"w2-vB\") | (df[\"workerId\"] == \"w3-vB\")]\n",
    "dfA1 = dfPruned.loc[(dfPruned[\"workerId\"] == \"w1-vA\")]\n",
    "dfA2 = dfPruned.loc[(dfPruned[\"workerId\"] == \"w2-vA\")]\n",
    "dfA3 = dfPruned.loc[(dfPruned[\"workerId\"] == \"w3-vA\")]\n",
    "dfB1 = dfPruned.loc[(dfPruned[\"workerId\"] == \"w1-vB\")]\n",
    "dfB2 = dfPruned.loc[(dfPruned[\"workerId\"] == \"w2-vB\")]\n",
    "dfB3 = dfPruned.loc[(dfPruned[\"workerId\"] == \"w3-vB\")]\n",
    "dfA = dfPruned.loc[(dfPruned[\"workerId\"] == \"w1-vA\") | (dfPruned[\"workerId\"] == \"w2-vA\") | (dfPruned[\"workerId\"] == \"w3-vA\")]\n",
    "dfB = dfPruned.loc[(dfPruned[\"workerId\"] == \"w1-vB\") | (dfPruned[\"workerId\"] == \"w2-vB\") | (dfPruned[\"workerId\"] == \"w3-vB\")]\n",
    "dfARaw = df.loc[(df[\"workerId\"] == \"w1-vA\") | (df[\"workerId\"] == \"w2-vA\") | (df[\"workerId\"] == \"w3-vA\")]\n",
    "dfBRaw = df.loc[(df[\"workerId\"] == \"w1-vB\") | (df[\"workerId\"] == \"w2-vB\") | (df[\"workerId\"] == \"w3-vB\")]\n",
    "if not setup1: \n",
    "    dfR1 = df.loc[(df[\"target-region\"] == \"europe-west1\")]\n",
    "    dfR2 = df.loc[(df[\"target-region\"] == \"europe-west2\")]\n",
    "    dfR3 = df.loc[(df[\"target-region\"] == \"europe-west3\")]\n",
    "\n",
    "    dfAr1Raw=dfARaw.loc[(df[\"target-region\"] == \"europe-west1\")]\n",
    "    dfBr1Raw=dfBRaw.loc[(df[\"target-region\"] == \"europe-west1\")]\n",
    "    dfAr2Raw=dfARaw.loc[(df[\"target-region\"] == \"europe-west2\")]\n",
    "    dfBr2Raw=dfBRaw.loc[(df[\"target-region\"] == \"europe-west2\")]\n",
    "    dfAr3Raw=dfARaw.loc[(df[\"target-region\"] == \"europe-west3\")]\n",
    "    dfBr3Raw=dfBRaw.loc[(df[\"target-region\"] == \"europe-west3\")]\n",
    "\n",
    "    dfAUpdate = dfA.loc[(dfA[\"queryType\"] == \"UPDATE\")]\n",
    "    dfBUpdate = dfB.loc[(dfB[\"queryType\"] == \"UPDATE\")]\n",
    "    dfARead = dfA.loc[(dfA[\"queryType\"] == \"SELECT\")]\n",
    "    dfBRead = dfB.loc[(dfB[\"queryType\"] == \"SELECT\")]"
   ]
  },
  {
   "cell_type": "markdown",
   "id": "d702f8c9",
   "metadata": {},
   "source": [
    "### Show averages and calculate difference between averages"
   ]
  },
  {
   "cell_type": "code",
   "execution_count": 587,
   "id": "ac9d2424",
   "metadata": {},
   "outputs": [
    {
     "name": "stdout",
     "output_type": "stream",
     "text": [
      "Mean for version A is 7.72973323881802\n",
      "Mean for version B is 6.984592570458909\n",
      "difference of means is 0.7451406683591113\n"
     ]
    }
   ],
   "source": [
    "print(\"Mean for version A is\", dfA[\"latency_ms\"].mean()) \n",
    "print(\"Mean for version B is\", dfB[\"latency_ms\"].mean())\n",
    "print(\"difference of means is\", abs(dfA[\"latency_ms\"].mean()-dfB[\"latency_ms\"].mean()))"
   ]
  },
  {
   "cell_type": "code",
   "execution_count": 588,
   "id": "f481c993",
   "metadata": {},
   "outputs": [
    {
     "name": "stdout",
     "output_type": "stream",
     "text": [
      "Mean Read for version A is 12.673608826225049\n",
      "Mean Read for version B is 10.629614772986127\n",
      "difference of Read means is 2.0439940532389222\n",
      "Mean Update for version A is 2.804447395189401\n",
      "Mean Update for version B is 3.3493913025028297\n",
      "difference of Update means is 0.5449439073134288\n"
     ]
    }
   ],
   "source": [
    "if not setup1: \n",
    "    print(\"Mean Read for version A is\", dfARead[\"latency_ms\"].mean()) \n",
    "    print(\"Mean Read for version B is\", dfBRead[\"latency_ms\"].mean())\n",
    "    print(\"difference of Read means is\", abs(dfARead[\"latency_ms\"].mean()-dfBRead[\"latency_ms\"].mean()))\n",
    "    \n",
    "    print(\"Mean Update for version A is\", dfAUpdate[\"latency_ms\"].mean()) \n",
    "    print(\"Mean Update for version B is\", dfBUpdate[\"latency_ms\"].mean())\n",
    "    print(\"difference of Update means is\", abs(dfAUpdate[\"latency_ms\"].mean()-dfBUpdate[\"latency_ms\"].mean()))"
   ]
  },
  {
   "cell_type": "markdown",
   "id": "67daee59",
   "metadata": {},
   "source": [
    "### Calculate Percentiles"
   ]
  },
  {
   "cell_type": "code",
   "execution_count": 589,
   "id": "7e446ce8",
   "metadata": {},
   "outputs": [
    {
     "name": "stdout",
     "output_type": "stream",
     "text": [
      "90% percentile versionA -->  0.9    9.669092\n",
      "Name: latency_ms, dtype: float64 \n",
      "99% percentile Version A -->  0.99    146.371628\n",
      "Name: latency_ms, dtype: float64\n"
     ]
    }
   ],
   "source": [
    "ninetyA = dfA[\"latency_ms\"].dropna().quantile([.9])\n",
    "ninetynineA = dfA[\"latency_ms\"].dropna().quantile([.99])\n",
    "print(\"90% percentile versionA --> \", ninetyA, \"\\n99% percentile Version A --> \", ninetynineA)\n"
   ]
  },
  {
   "cell_type": "code",
   "execution_count": 590,
   "id": "8ff51f30",
   "metadata": {},
   "outputs": [
    {
     "name": "stdout",
     "output_type": "stream",
     "text": [
      "90% percentile versionA -->  0.9    5.174838\n",
      "Name: latency_ms, dtype: float64 \n",
      "99% percentile Version A -->  0.99    143.801998\n",
      "Name: latency_ms, dtype: float64\n"
     ]
    }
   ],
   "source": [
    "ninetyB = dfB[\"latency_ms\"].dropna().quantile([.9])\n",
    "ninetynineB = dfB[\"latency_ms\"].dropna().quantile([.99])\n",
    "print(\"90% percentile versionA --> \", ninetyB, \"\\n99% percentile Version A --> \", ninetynineB)"
   ]
  },
  {
   "cell_type": "markdown",
   "id": "c7926d67",
   "metadata": {},
   "source": [
    "### Some checks"
   ]
  },
  {
   "cell_type": "markdown",
   "id": "f4d9c4a2",
   "metadata": {},
   "source": [
    "#### Time difference in ms when first query was sent by worker-1 to Version A and B "
   ]
  },
  {
   "cell_type": "code",
   "execution_count": 591,
   "id": "61fe0605",
   "metadata": {},
   "outputs": [
    {
     "data": {
      "text/plain": [
       "-2111501"
      ]
     },
     "execution_count": 591,
     "metadata": {},
     "output_type": "execute_result"
    }
   ],
   "source": [
    "\n",
    "dfA2[\"sent\"].min() - dfB2[\"sent\"].min()"
   ]
  },
  {
   "cell_type": "markdown",
   "id": "676b17ce",
   "metadata": {},
   "source": [
    "#### Time difference in ms when last query was sent by worker-1 to Version A and B "
   ]
  },
  {
   "cell_type": "code",
   "execution_count": 592,
   "id": "234a1c20",
   "metadata": {},
   "outputs": [
    {
     "data": {
      "text/plain": [
       "-9610982"
      ]
     },
     "execution_count": 592,
     "metadata": {},
     "output_type": "execute_result"
    }
   ],
   "source": [
    "dfA1[\"sent\"].max() - dfB1[\"sent\"].max() \n"
   ]
  },
  {
   "cell_type": "markdown",
   "id": "74abe57d",
   "metadata": {},
   "source": [
    "## Create Figures "
   ]
  },
  {
   "cell_type": "markdown",
   "id": "2a090a7b",
   "metadata": {},
   "source": [
    "### Create Boxplots"
   ]
  },
  {
   "cell_type": "code",
   "execution_count": 593,
   "id": "58a49efa",
   "metadata": {},
   "outputs": [
    {
     "name": "stdout",
     "output_type": "stream",
     "text": [
      "465593\n"
     ]
    }
   ],
   "source": [
    "sns.set_theme(style=\"darkgrid\")\n",
    "print(len(dfA))"
   ]
  },
  {
   "cell_type": "code",
   "execution_count": 594,
   "id": "4f8631c8",
   "metadata": {},
   "outputs": [],
   "source": [
    "if False: \n",
    "    combined_dfs = pd.DataFrame({versionA: dfA['latency_ms'],\n",
    "                                 versionB: dfB['latency_ms']})\n",
    "\n",
    "    sns.set_style('white')\n",
    "    sns.set_context('notebook', font_scale=2.0)\n",
    "\n",
    "    box_plot = sns.boxplot(data=combined_dfs, color='white', showfliers=False, whis=1.5,palette=\"vlag\").set_title(\"Setup 1: Read\")\n",
    "\n",
    "\n",
    "\n",
    "\n",
    "    ax = box_plot.axes\n",
    "    ax.set_ylabel(\"Latency in ms\")\n",
    "    lines = ax.get_lines()\n",
    "\n",
    "    categories = ax.get_xticks()\n",
    "\n",
    "    for i in range(0,5):\n",
    "        for cat in categories:\n",
    "\n",
    "            y = round(lines[(i+cat*5)].get_ydata()[0],2) \n",
    "\n",
    "            ax.text(\n",
    "                cat, \n",
    "                y, \n",
    "                f'{y}', \n",
    "                ha='center', \n",
    "                va='center', \n",
    "                fontweight='bold', \n",
    "                size=20,\n",
    "                color='white',\n",
    "                bbox=dict(facecolor='#445A64'))\n",
    "\n",
    "\n",
    "    sns.despine()\n",
    "\n"
   ]
  },
  {
   "cell_type": "code",
   "execution_count": 595,
   "id": "a49f5937",
   "metadata": {},
   "outputs": [],
   "source": [
    "if not True: \n",
    "    combined_dfs = pd.DataFrame({versionA: dfAUpdate['latency_ms'],\n",
    "                                 versionB: dfBUpdate['latency_ms']})\n",
    "\n",
    "    sns.set_style('white')\n",
    "    sns.set_context('notebook', font_scale=2.0)\n",
    "\n",
    "    box_plot = sns.boxplot(data=combined_dfs, color='white', showfliers=False, whis=1.5,palette=\"vlag\").set_title(\"Setup 2: Read\")\n",
    "\n",
    "\n",
    "\n",
    "    ax = box_plot.axes\n",
    "    ax.set_ylabel(\"Latency in ms\")\n",
    "    lines = ax.get_lines()\n",
    "\n",
    "    categories = ax.get_xticks()\n",
    "\n",
    "    for i in range(0,5):\n",
    "        for cat in categories:\n",
    "\n",
    "            y = round(lines[(i+cat*5)].get_ydata()[0],2) \n",
    "\n",
    "            ax.text(\n",
    "                cat, \n",
    "                y, \n",
    "                f'{y}', \n",
    "                ha='center', \n",
    "                va='center', \n",
    "                fontweight='bold', \n",
    "                size=20,\n",
    "                color='white',\n",
    "                bbox=dict(facecolor='#445A64'))\n",
    "\n",
    "\n",
    "    sns.despine()"
   ]
  },
  {
   "cell_type": "code",
   "execution_count": 596,
   "id": "092b5054",
   "metadata": {},
   "outputs": [],
   "source": [
    "if not True: \n",
    "    combined_dfs = pd.DataFrame({versionA: dfARead['latency_ms'],\n",
    "                                 versionB: dfBRead['latency_ms']})\n",
    "\n",
    "    sns.set_style('white')\n",
    "    sns.set_context('notebook', font_scale=2.0)\n",
    "\n",
    "    box_plot = sns.boxplot(data=combined_dfs, color='white', showfliers=False, whis=1.5,palette=\"vlag\").set_title(\"Setup 2: Update\")\n",
    "\n",
    "\n",
    "\n",
    "\n",
    "    ax = box_plot.axes\n",
    "    ax.set_ylabel(\"Latency in ms\")\n",
    "    lines = ax.get_lines()\n",
    "\n",
    "    categories = ax.get_xticks()\n",
    "\n",
    "    for i in range(0,5):\n",
    "        for cat in categories:\n",
    "\n",
    "            y = round(lines[(i+cat*5)].get_ydata()[0],2) \n",
    "\n",
    "            ax.text(\n",
    "                cat, \n",
    "                y, \n",
    "                f'{y}', \n",
    "                ha='center', \n",
    "                va='center', \n",
    "                fontweight='bold', \n",
    "                size=20,\n",
    "                color='white',\n",
    "                bbox=dict(facecolor='#445A64'))\n",
    "\n",
    "\n",
    "    sns.despine()"
   ]
  },
  {
   "cell_type": "code",
   "execution_count": 597,
   "id": "fdc5484a",
   "metadata": {},
   "outputs": [
    {
     "name": "stdout",
     "output_type": "stream",
     "text": [
      "2000000\n"
     ]
    }
   ],
   "source": [
    "sns.set_context(\"notebook\")\n",
    "sns.set(rc={'figure.figsize':(30,8)})\n",
    "print(len(df))"
   ]
  },
  {
   "cell_type": "markdown",
   "id": "73a18cbb",
   "metadata": {},
   "source": [
    "### Create Lineplot comparing latencies of Version A and B"
   ]
  },
  {
   "cell_type": "code",
   "execution_count": 598,
   "id": "2ea29f60",
   "metadata": {},
   "outputs": [],
   "source": [
    "if not aa and repetition==1 and not load:\n",
    "    subchartA = (dfARaw[['sent_sec', 'latency_ms']])\n",
    "    subchartB = (dfBRaw[['sent_sec', 'latency_ms']])\n",
    "\n",
    "    subchartA[\"averaged\"] = subchartA.latency_ms.rolling(5000).mean().shift(-2500)\n",
    "    subchartB[\"averaged\"] = subchartB.latency_ms.rolling(5000).mean().shift(-2500)\n",
    "\n",
    "\n",
    "    fig, ax = plt.subplots()\n",
    "\n",
    "    line1 = sns.lineplot(data=subchartA, x=\"sent_sec\", y='averaged', linewidth=.25,label=versionA)\n",
    "\n",
    "    setup = 1 if setup1 else 2\n",
    "\n",
    "    title=f\"Setup {setup}: Uncut\"\n",
    "\n",
    "    line2 = sns.lineplot(data=subchartB, x='sent_sec',y='averaged', linewidth=.25,label=versionA if aa else versionB).set_title(title)\n",
    "\n",
    "    # Set x and y axis labels\n",
    "    ax.set_xlabel(\"Seconds\");\n",
    "    ax.set_ylabel(\"Latency in ms\");\n",
    "\n",
    "    ax.xaxis.label.set_fontsize(30)\n",
    "    ax.yaxis.label.set_fontsize(30)\n",
    "\n",
    "    for tick in ax.get_xticklabels():\n",
    "        tick.set_fontsize(20)\n",
    "\n",
    "    for tick in ax.get_yticklabels(): \n",
    "        tick.set_fontsize(20)\n",
    "\n",
    "    ax.title.set_fontsize(40)\n",
    "\n",
    "    # get the legend object\n",
    "    leg = ax.legend(handlelength=8)\n",
    "\n",
    "    # change the line width for the legend\n",
    "    for line in leg.get_lines():\n",
    "        line.set_linewidth(4.0)\n",
    "\n",
    "\n",
    "    # change font size of every text in the legend\n",
    "    for text in leg.get_texts(): \n",
    "        text.set_fontsize(30)\n",
    "\n",
    "\n",
    "    plt.show()"
   ]
  },
  {
   "cell_type": "code",
   "execution_count": 599,
   "id": "53bcd3e2",
   "metadata": {
    "scrolled": false
   },
   "outputs": [],
   "source": [
    "if setup1 or load: \n",
    "    subchartA = (dfA[['sent_sec', 'latency_ms']])\n",
    "    subchartB = (dfB[['sent_sec', 'latency_ms']])\n",
    "\n",
    "    subchartA[\"averaged\"] = subchartA.latency_ms.rolling(5000).mean().shift(-2500)\n",
    "    subchartB[\"averaged\"] = subchartB.latency_ms.rolling(5000).mean().shift(-2500)\n",
    "\n",
    "\n",
    "    fig, ax = plt.subplots()\n",
    "\n",
    "\n",
    "    line1 = sns.lineplot(data=subchartA, x=\"sent_sec\", y='averaged', linewidth=.25,label=versionA)\n",
    "\n",
    "    setup=\"Setup 1\" if setup1 else \"Setup 2\"\n",
    "    operation= \"Insert\" if load else \"Read\"\n",
    "    test = \"A/A\" if aa else \"A/B\"\n",
    "    title= f\"{setup}, Repetition {repetition}, {test}-Test, {operation} Operations\"\n",
    "\n",
    "    line2 = sns.lineplot(data=subchartB, x='sent_sec',y='averaged', linewidth=.25,label=versionA if aa else versionB).set_title(title)\n",
    "\n",
    "    # Set x and y axis labels\n",
    "    ax.set_xlabel(\"Seconds\");\n",
    "    ax.set_ylabel(\"Latency in ms\");\n",
    "\n",
    "    ax.xaxis.label.set_fontsize(30)\n",
    "    ax.yaxis.label.set_fontsize(30)\n",
    "\n",
    "    for tick in ax.get_xticklabels():\n",
    "        tick.set_fontsize(20)\n",
    "\n",
    "    for tick in ax.get_yticklabels(): \n",
    "        tick.set_fontsize(20)\n",
    "\n",
    "    ax.title.set_fontsize(40)\n",
    "\n",
    "    # get the legend object\n",
    "    leg = ax.legend(handlelength=8)\n",
    "\n",
    "    # change the line width for the legend\n",
    "    for line in leg.get_lines():\n",
    "        line.set_linewidth(4.0)\n",
    "\n",
    "\n",
    "    # change font size of every text in the legend\n",
    "    for text in leg.get_texts(): \n",
    "        text.set_fontsize(30)\n",
    "\n",
    "\n",
    "    plt.show()"
   ]
  },
  {
   "cell_type": "code",
   "execution_count": null,
   "id": "f9cf8960",
   "metadata": {},
   "outputs": [
    {
     "name": "stderr",
     "output_type": "stream",
     "text": [
      "C:\\Users\\Felix Medicus\\AppData\\Local\\Temp\\ipykernel_15324\\448705140.py:5: SettingWithCopyWarning: \n",
      "A value is trying to be set on a copy of a slice from a DataFrame.\n",
      "Try using .loc[row_indexer,col_indexer] = value instead\n",
      "\n",
      "See the caveats in the documentation: https://pandas.pydata.org/pandas-docs/stable/user_guide/indexing.html#returning-a-view-versus-a-copy\n",
      "  subchartA[\"100sec_average\"] = subchartA.latency_ms.rolling(5000).mean().shift(-2500)\n",
      "C:\\Users\\Felix Medicus\\AppData\\Local\\Temp\\ipykernel_15324\\448705140.py:6: SettingWithCopyWarning: \n",
      "A value is trying to be set on a copy of a slice from a DataFrame.\n",
      "Try using .loc[row_indexer,col_indexer] = value instead\n",
      "\n",
      "See the caveats in the documentation: https://pandas.pydata.org/pandas-docs/stable/user_guide/indexing.html#returning-a-view-versus-a-copy\n",
      "  subchartB[\"100sec_average\"] = subchartB.latency_ms.rolling(5000).mean().shift(-2500)\n"
     ]
    }
   ],
   "source": [
    "if not setup1 and not load: \n",
    "\n",
    "    subchartA = dfARead[['sent_sec', 'latency_ms']]\n",
    "    subchartB = dfBRead[['sent_sec', 'latency_ms']]\n",
    "    subchartA[\"100sec_average\"] = subchartA.latency_ms.rolling(5000).mean().shift(-2500)\n",
    "    subchartB[\"100sec_average\"] = subchartB.latency_ms.rolling(5000).mean().shift(-2500)\n",
    "\n",
    "\n",
    "    fig, ax = plt.subplots()\n",
    "    setup=\"Setup 1\" if setup1 else \"Setup 2\"\n",
    "    operation= \"Insert\" if load else \"Read\"\n",
    "    test = \"A/A\" if aa else \"A/B\"\n",
    "    title= f\"{setup}, Repetition: {repetition}, Test: {test}, Operations: {operation}\"\n",
    "    line1 = sns.lineplot(data=subchartA, x=\"sent_sec\", y=\"100sec_average\", linewidth=0.25, label=versionA)\n",
    "    line2 = sns.lineplot(data=subchartB, x='sent_sec',y='100sec_average', linewidth=0.25, label=versionA if aa else versionB).set_title(title)\n",
    "\n",
    "\n",
    "    # Set x and y axis labels\n",
    "    ax.set_xlabel(\"Seconds\");\n",
    "    ax.set_ylabel(\"Latency in ms\");\n",
    "\n",
    "    ax.xaxis.label.set_fontsize(30)\n",
    "    ax.yaxis.label.set_fontsize(30)\n",
    "\n",
    "    for tick in ax.get_xticklabels():\n",
    "        tick.set_fontsize(20)\n",
    "\n",
    "    for tick in ax.get_yticklabels(): \n",
    "        tick.set_fontsize(20)\n",
    "\n",
    "    ax.title.set_fontsize(40)\n",
    "\n",
    "    # get the legend object\n",
    "    leg = ax.legend(handlelength=8)\n",
    "\n",
    "    # change the line width for the legend\n",
    "    for line in leg.get_lines():\n",
    "        line.set_linewidth(4.0)\n",
    "\n",
    "\n",
    "    # change font size of every text in the legend\n",
    "    for text in leg.get_texts(): \n",
    "        text.set_fontsize(30)\n",
    "\n",
    "\n",
    "    plt.show()"
   ]
  },
  {
   "cell_type": "code",
   "execution_count": null,
   "id": "a034b818",
   "metadata": {},
   "outputs": [],
   "source": [
    "if not setup1 and not load: \n",
    "\n",
    "    subchartA = dfAUpdate[['sent_sec', 'latency_ms']]\n",
    "    subchartB = dfBUpdate[['sent_sec', 'latency_ms']]\n",
    "    subchartA[\"100sec_average\"] = subchartA.latency_ms.rolling(5000).mean().shift(-2500)\n",
    "    subchartB[\"100sec_average\"] = subchartB.latency_ms.rolling(5000).mean().shift(-2500)\n",
    "\n",
    "\n",
    "    fig, ax = plt.subplots()\n",
    "    setup=\"Setup 1\" if setup1 else \"Setup 2\"\n",
    "    operation= \"Insert\" if load else \"Update\"\n",
    "    test = \"A/A\" if aa else \"A/B\"\n",
    "    title= f\"{setup}, Repetition: {repetition}, Test: {test}, Operations: {operation}\"\n",
    "    line1 = sns.lineplot(data=subchartA, x=\"sent_sec\", y=\"100sec_average\", linewidth=0.50, label=versionA)\n",
    "    line2 = sns.lineplot(data=subchartB, x='sent_sec',y='100sec_average', linewidth=0.50, label=versionA if aa else versionB).set_title(title)\n",
    "\n",
    "\n",
    "    # Set x and y axis labels\n",
    "    ax.set_xlabel(\"Seconds\");\n",
    "    ax.set_ylabel(\"Latency in ms\");\n",
    "\n",
    "    ax.xaxis.label.set_fontsize(30)\n",
    "    ax.yaxis.label.set_fontsize(30)\n",
    "\n",
    "    for tick in ax.get_xticklabels():\n",
    "        tick.set_fontsize(20)\n",
    "\n",
    "    for tick in ax.get_yticklabels(): \n",
    "        tick.set_fontsize(20)\n",
    "\n",
    "    ax.title.set_fontsize(40)\n",
    "\n",
    "    # get the legend object\n",
    "    leg = ax.legend(handlelength=8)\n",
    "\n",
    "    # change the line width for the legend\n",
    "    for line in leg.get_lines():\n",
    "        line.set_linewidth(4.0)\n",
    "\n",
    "\n",
    "    # change font size of every text in the legend\n",
    "    for text in leg.get_texts(): \n",
    "        text.set_fontsize(30)\n",
    "\n",
    "\n",
    "    plt.show()"
   ]
  },
  {
   "cell_type": "code",
   "execution_count": null,
   "id": "4ba5c19b",
   "metadata": {},
   "outputs": [],
   "source": [
    "dfAr1Read = dfA1.loc[(dfA1[\"queryType\"] == \"SELECT\")]\n",
    "dfAr2Read = dfA2.loc[(dfA2[\"queryType\"] == \"SELECT\")]\n",
    "dfAr3Read = dfA3.loc[(dfA3[\"queryType\"] == \"SELECT\")]\n",
    "dfBr1Read = dfB1.loc[(dfB1[\"queryType\"] == \"SELECT\")]\n",
    "dfBr2Read = dfB2.loc[(dfB2[\"queryType\"] == \"SELECT\")]\n",
    "dfBr3Read = dfB3.loc[(dfB3[\"queryType\"] == \"SELECT\")]\n",
    "dfAr1Update = dfA1.loc[(dfA1[\"queryType\"] == \"UPDATE\")]\n",
    "dfAr2Update = dfA2.loc[(dfA2[\"queryType\"] == \"UPDATE\")]\n",
    "dfAr3Update = dfA3.loc[(dfA3[\"queryType\"] == \"UPDATE\")]\n",
    "dfBr1Update = dfB1.loc[(dfB1[\"queryType\"] == \"UPDATE\")]\n",
    "dfBr2Update = dfB2.loc[(dfB2[\"queryType\"] == \"UPDATE\")]\n",
    "dfBr3Update = dfB3.loc[(dfB3[\"queryType\"] == \"UPDATE\")]"
   ]
  }
 ],
 "metadata": {
  "kernelspec": {
   "display_name": "Python 3 (ipykernel)",
   "language": "python",
   "name": "python3"
  },
  "language_info": {
   "codemirror_mode": {
    "name": "ipython",
    "version": 3
   },
   "file_extension": ".py",
   "mimetype": "text/x-python",
   "name": "python",
   "nbconvert_exporter": "python",
   "pygments_lexer": "ipython3",
   "version": "3.10.4"
  },
  "vscode": {
   "interpreter": {
    "hash": "5928451211728501802e96c7747375e6b0437fee24446b5e678a2827fb4e9f89"
   }
  }
 },
 "nbformat": 4,
 "nbformat_minor": 5
}
