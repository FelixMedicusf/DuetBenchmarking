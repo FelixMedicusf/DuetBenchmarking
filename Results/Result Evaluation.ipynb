{
 "cells": [
  {
   "cell_type": "markdown",
   "id": "effbe8fe",
   "metadata": {},
   "source": [
    "# Evaluation Of Duet Benchmarking Results from Distributed Database \"Cassandra\""
   ]
  },
  {
   "cell_type": "markdown",
   "id": "e0294f93",
   "metadata": {},
   "source": [
    "### Imports"
   ]
  },
  {
   "cell_type": "code",
   "execution_count": 54,
   "id": "e4a313ec",
   "metadata": {},
   "outputs": [],
   "source": [
    "import matplotlib.pyplot as plt\n",
    "import numpy as np\n",
    "import seaborn as sns\n",
    "import pandas as pd\n",
    "import os\n",
    "from pathlib import Path"
   ]
  },
  {
   "cell_type": "markdown",
   "id": "eb039afe",
   "metadata": {},
   "source": [
    "### Import Benchmarking Measurements as csv file and create Pandas Dataframe for further Analysis"
   ]
  },
  {
   "cell_type": "code",
   "execution_count": 55,
   "id": "2bae1a82",
   "metadata": {},
   "outputs": [
    {
     "name": "stdout",
     "output_type": "stream",
     "text": [
      "C:\\Users\\Felix Medicus\\Desktop\\Thesis_MCC\\DuetBenchmarking\\Results\\Results\\1mops_3t\\load_measurements.csv\n"
     ]
    }
   ],
   "source": [
    "cwd = Path.cwd()\n",
    "filepath = os.path.join(cwd, \"Results\", \"1mops_3t\", \"load_measurements.csv\")\n",
    "print(filepath)\n",
    "df = pd.read_csv(filepath)"
   ]
  },
  {
   "cell_type": "markdown",
   "id": "337c61b0",
   "metadata": {},
   "source": [
    "### Insert latencies in ms into the measurement table"
   ]
  },
  {
   "cell_type": "code",
   "execution_count": 56,
   "id": "15d7d02f",
   "metadata": {},
   "outputs": [],
   "source": [
    "df[\"latency_ms\"] = df[\"received\"]- df[\"sent\"]"
   ]
  },
  {
   "cell_type": "markdown",
   "id": "c9c40381",
   "metadata": {},
   "source": [
    "### Restructure Timeline"
   ]
  },
  {
   "cell_type": "code",
   "execution_count": 57,
   "id": "ca0d2243",
   "metadata": {},
   "outputs": [],
   "source": [
    "firstSent = df[\"sent\"].min()\n",
    "df[\"sent_sec\"] = (df[\"sent\"] - firstSent)/1000"
   ]
  },
  {
   "cell_type": "markdown",
   "id": "19999622",
   "metadata": {},
   "source": [
    "### Create Function to prune Measurements"
   ]
  },
  {
   "cell_type": "code",
   "execution_count": 58,
   "id": "ee3aa619",
   "metadata": {},
   "outputs": [
    {
     "name": "stdout",
     "output_type": "stream",
     "text": [
      "Hello from the other side\n"
     ]
    }
   ],
   "source": [
    "def pruneMeasurements(dataframe): \n",
    "    print(\"Hello from the other side\")\n",
    "    \n",
    "pruneMeasurements(df)\n"
   ]
  },
  {
   "cell_type": "markdown",
   "id": "a6a75b54",
   "metadata": {},
   "source": [
    "### Create subsets of dataframe (for Version A and B, and for each worker for Version A and B) "
   ]
  },
  {
   "cell_type": "code",
   "execution_count": 59,
   "id": "50754c1e",
   "metadata": {},
   "outputs": [],
   "source": [
    "dfA1 = df.loc[(df[\"workerId\"] == \"w1-vA\")]\n",
    "dfA2 = df.loc[(df[\"workerId\"] == \"w2-vA\")]\n",
    "dfA3 = df.loc[(df[\"workerId\"] == \"w3-vA\")]\n",
    "dfB1 = df.loc[(df[\"workerId\"] == \"w1-vB\")]\n",
    "dfB2 = df.loc[(df[\"workerId\"] == \"w2-vB\")]\n",
    "dfB3 = df.loc[(df[\"workerId\"] == \"w3-vB\")]\n",
    "dfA = df.loc[(df[\"workerId\"] == \"w1-vA\") | (df[\"workerId\"] == \"w2-vA\") | (df[\"workerId\"] == \"w3-vA\")]\n",
    "dfB = df.loc[(df[\"workerId\"] == \"w1-vB\") | (df[\"workerId\"] == \"w2-vB\") | (df[\"workerId\"] == \"w3-vB\")]"
   ]
  },
  {
   "cell_type": "markdown",
   "id": "8285fdc6",
   "metadata": {},
   "source": [
    "### Return benchmark run time (First request send to last response received)"
   ]
  },
  {
   "cell_type": "code",
   "execution_count": 60,
   "id": "637c658e",
   "metadata": {},
   "outputs": [
    {
     "name": "stdout",
     "output_type": "stream",
     "text": [
      "13.918033333333334 minuten\n"
     ]
    }
   ],
   "source": [
    "totalTime = df[\"received\"].max() - df[\"sent\"].min()\n",
    "print(totalTime/1000/60, \"minuten\")"
   ]
  },
  {
   "cell_type": "code",
   "execution_count": 61,
   "id": "5a83a254",
   "metadata": {},
   "outputs": [
    {
     "data": {
      "text/html": [
       "<div>\n",
       "<style scoped>\n",
       "    .dataframe tbody tr th:only-of-type {\n",
       "        vertical-align: middle;\n",
       "    }\n",
       "\n",
       "    .dataframe tbody tr th {\n",
       "        vertical-align: top;\n",
       "    }\n",
       "\n",
       "    .dataframe thead th {\n",
       "        text-align: right;\n",
       "    }\n",
       "</style>\n",
       "<table border=\"1\" class=\"dataframe\">\n",
       "  <thead>\n",
       "    <tr style=\"text-align: right;\">\n",
       "      <th></th>\n",
       "      <th>sent</th>\n",
       "      <th>received</th>\n",
       "      <th>latency_ms</th>\n",
       "      <th>sent_sec</th>\n",
       "    </tr>\n",
       "  </thead>\n",
       "  <tbody>\n",
       "    <tr>\n",
       "      <th>count</th>\n",
       "      <td>1.000000e+06</td>\n",
       "      <td>1.000000e+06</td>\n",
       "      <td>1000000.000000</td>\n",
       "      <td>1000000.000000</td>\n",
       "    </tr>\n",
       "    <tr>\n",
       "      <th>mean</th>\n",
       "      <td>1.657983e+12</td>\n",
       "      <td>1.657983e+12</td>\n",
       "      <td>7.238528</td>\n",
       "      <td>344.209698</td>\n",
       "    </tr>\n",
       "    <tr>\n",
       "      <th>std</th>\n",
       "      <td>2.534762e+05</td>\n",
       "      <td>2.534780e+05</td>\n",
       "      <td>22.615543</td>\n",
       "      <td>253.476205</td>\n",
       "    </tr>\n",
       "    <tr>\n",
       "      <th>min</th>\n",
       "      <td>1.657983e+12</td>\n",
       "      <td>1.657983e+12</td>\n",
       "      <td>0.000000</td>\n",
       "      <td>0.000000</td>\n",
       "    </tr>\n",
       "    <tr>\n",
       "      <th>25%</th>\n",
       "      <td>1.657983e+12</td>\n",
       "      <td>1.657983e+12</td>\n",
       "      <td>1.000000</td>\n",
       "      <td>91.572750</td>\n",
       "    </tr>\n",
       "    <tr>\n",
       "      <th>50%</th>\n",
       "      <td>1.657983e+12</td>\n",
       "      <td>1.657983e+12</td>\n",
       "      <td>2.000000</td>\n",
       "      <td>313.403000</td>\n",
       "    </tr>\n",
       "    <tr>\n",
       "      <th>75%</th>\n",
       "      <td>1.657983e+12</td>\n",
       "      <td>1.657983e+12</td>\n",
       "      <td>4.000000</td>\n",
       "      <td>569.134000</td>\n",
       "    </tr>\n",
       "    <tr>\n",
       "      <th>max</th>\n",
       "      <td>1.657984e+12</td>\n",
       "      <td>1.657984e+12</td>\n",
       "      <td>922.000000</td>\n",
       "      <td>820.041000</td>\n",
       "    </tr>\n",
       "  </tbody>\n",
       "</table>\n",
       "</div>"
      ],
      "text/plain": [
       "               sent      received      latency_ms        sent_sec\n",
       "count  1.000000e+06  1.000000e+06  1000000.000000  1000000.000000\n",
       "mean   1.657983e+12  1.657983e+12        7.238528      344.209698\n",
       "std    2.534762e+05  2.534780e+05       22.615543      253.476205\n",
       "min    1.657983e+12  1.657983e+12        0.000000        0.000000\n",
       "25%    1.657983e+12  1.657983e+12        1.000000       91.572750\n",
       "50%    1.657983e+12  1.657983e+12        2.000000      313.403000\n",
       "75%    1.657983e+12  1.657983e+12        4.000000      569.134000\n",
       "max    1.657984e+12  1.657984e+12      922.000000      820.041000"
      ]
     },
     "execution_count": 61,
     "metadata": {},
     "output_type": "execute_result"
    }
   ],
   "source": [
    "dfA.describe()"
   ]
  },
  {
   "cell_type": "code",
   "execution_count": 62,
   "id": "6358e296",
   "metadata": {},
   "outputs": [
    {
     "data": {
      "text/html": [
       "<div>\n",
       "<style scoped>\n",
       "    .dataframe tbody tr th:only-of-type {\n",
       "        vertical-align: middle;\n",
       "    }\n",
       "\n",
       "    .dataframe tbody tr th {\n",
       "        vertical-align: top;\n",
       "    }\n",
       "\n",
       "    .dataframe thead th {\n",
       "        text-align: right;\n",
       "    }\n",
       "</style>\n",
       "<table border=\"1\" class=\"dataframe\">\n",
       "  <thead>\n",
       "    <tr style=\"text-align: right;\">\n",
       "      <th></th>\n",
       "      <th>sent</th>\n",
       "      <th>received</th>\n",
       "      <th>latency_ms</th>\n",
       "      <th>sent_sec</th>\n",
       "    </tr>\n",
       "  </thead>\n",
       "  <tbody>\n",
       "    <tr>\n",
       "      <th>count</th>\n",
       "      <td>1.000000e+06</td>\n",
       "      <td>1.000000e+06</td>\n",
       "      <td>1000000.000000</td>\n",
       "      <td>1000000.000000</td>\n",
       "    </tr>\n",
       "    <tr>\n",
       "      <th>mean</th>\n",
       "      <td>1.657983e+12</td>\n",
       "      <td>1.657983e+12</td>\n",
       "      <td>7.407500</td>\n",
       "      <td>353.548984</td>\n",
       "    </tr>\n",
       "    <tr>\n",
       "      <th>std</th>\n",
       "      <td>2.608219e+05</td>\n",
       "      <td>2.608236e+05</td>\n",
       "      <td>22.888611</td>\n",
       "      <td>260.821903</td>\n",
       "    </tr>\n",
       "    <tr>\n",
       "      <th>min</th>\n",
       "      <td>1.657983e+12</td>\n",
       "      <td>1.657983e+12</td>\n",
       "      <td>0.000000</td>\n",
       "      <td>0.002000</td>\n",
       "    </tr>\n",
       "    <tr>\n",
       "      <th>25%</th>\n",
       "      <td>1.657983e+12</td>\n",
       "      <td>1.657983e+12</td>\n",
       "      <td>1.000000</td>\n",
       "      <td>93.207750</td>\n",
       "    </tr>\n",
       "    <tr>\n",
       "      <th>50%</th>\n",
       "      <td>1.657983e+12</td>\n",
       "      <td>1.657983e+12</td>\n",
       "      <td>2.000000</td>\n",
       "      <td>321.164500</td>\n",
       "    </tr>\n",
       "    <tr>\n",
       "      <th>75%</th>\n",
       "      <td>1.657983e+12</td>\n",
       "      <td>1.657983e+12</td>\n",
       "      <td>4.000000</td>\n",
       "      <td>584.904250</td>\n",
       "    </tr>\n",
       "    <tr>\n",
       "      <th>max</th>\n",
       "      <td>1.657984e+12</td>\n",
       "      <td>1.657984e+12</td>\n",
       "      <td>688.000000</td>\n",
       "      <td>835.079000</td>\n",
       "    </tr>\n",
       "  </tbody>\n",
       "</table>\n",
       "</div>"
      ],
      "text/plain": [
       "               sent      received      latency_ms        sent_sec\n",
       "count  1.000000e+06  1.000000e+06  1000000.000000  1000000.000000\n",
       "mean   1.657983e+12  1.657983e+12        7.407500      353.548984\n",
       "std    2.608219e+05  2.608236e+05       22.888611      260.821903\n",
       "min    1.657983e+12  1.657983e+12        0.000000        0.002000\n",
       "25%    1.657983e+12  1.657983e+12        1.000000       93.207750\n",
       "50%    1.657983e+12  1.657983e+12        2.000000      321.164500\n",
       "75%    1.657983e+12  1.657983e+12        4.000000      584.904250\n",
       "max    1.657984e+12  1.657984e+12      688.000000      835.079000"
      ]
     },
     "execution_count": 62,
     "metadata": {},
     "output_type": "execute_result"
    }
   ],
   "source": [
    "dfB.describe()"
   ]
  },
  {
   "cell_type": "markdown",
   "id": "9467581b",
   "metadata": {},
   "source": [
    "### Min. Latencies for Worker 2 (A & B)"
   ]
  },
  {
   "cell_type": "code",
   "execution_count": 63,
   "id": "a6d0c80a",
   "metadata": {},
   "outputs": [
    {
     "data": {
      "text/plain": [
       "workerId                                        w2-vA\n",
       "queryType                                      INSERT\n",
       "queryId          8e002a8a-3a7b-4a43-a399-1902f11706be\n",
       "sent                                    1657982802866\n",
       "received                                1657982802866\n",
       "target-region                                 unknown\n",
       "latency_ms                                          0\n",
       "sent_sec                                        3.534\n",
       "Name: 668534, dtype: object"
      ]
     },
     "execution_count": 63,
     "metadata": {},
     "output_type": "execute_result"
    }
   ],
   "source": [
    "dfA2.loc[dfA2[\"latency_ms\"].idxmin()]"
   ]
  },
  {
   "cell_type": "code",
   "execution_count": 64,
   "id": "c7c47c98",
   "metadata": {},
   "outputs": [
    {
     "data": {
      "text/plain": [
       "workerId                                        w2-vB\n",
       "queryType                                      INSERT\n",
       "queryId          e9376032-08f1-4af0-b5b4-bdc86be8246a\n",
       "sent                                    1657982803574\n",
       "received                                1657982803574\n",
       "target-region                                 unknown\n",
       "latency_ms                                          0\n",
       "sent_sec                                        4.242\n",
       "Name: 670112, dtype: object"
      ]
     },
     "execution_count": 64,
     "metadata": {},
     "output_type": "execute_result"
    }
   ],
   "source": [
    "dfB2.loc[dfB2[\"latency_ms\"].idxmin()]"
   ]
  },
  {
   "cell_type": "markdown",
   "id": "c7926d67",
   "metadata": {},
   "source": [
    "### Some checks"
   ]
  },
  {
   "cell_type": "markdown",
   "id": "f4d9c4a2",
   "metadata": {},
   "source": [
    "#### Time difference in ms when first query was sent by worker-1 to Version A and B "
   ]
  },
  {
   "cell_type": "code",
   "execution_count": 65,
   "id": "61fe0605",
   "metadata": {},
   "outputs": [
    {
     "data": {
      "text/plain": [
       "0"
      ]
     },
     "execution_count": 65,
     "metadata": {},
     "output_type": "execute_result"
    }
   ],
   "source": [
    "\n",
    "dfA2[\"sent\"].min() - dfB2[\"sent\"].min()"
   ]
  },
  {
   "cell_type": "markdown",
   "id": "676b17ce",
   "metadata": {},
   "source": [
    "#### Time difference in ms when last query was sent by worker-1 to Version A and B "
   ]
  },
  {
   "cell_type": "code",
   "execution_count": 66,
   "id": "234a1c20",
   "metadata": {},
   "outputs": [
    {
     "data": {
      "text/plain": [
       "-28567"
      ]
     },
     "execution_count": 66,
     "metadata": {},
     "output_type": "execute_result"
    }
   ],
   "source": [
    "dfA1[\"sent\"].max() - dfB1[\"sent\"].max() \n"
   ]
  },
  {
   "cell_type": "markdown",
   "id": "74abe57d",
   "metadata": {},
   "source": [
    "## Create Figures "
   ]
  },
  {
   "cell_type": "markdown",
   "id": "2a090a7b",
   "metadata": {},
   "source": [
    "### Create Boxplots"
   ]
  },
  {
   "cell_type": "code",
   "execution_count": 67,
   "id": "58a49efa",
   "metadata": {},
   "outputs": [],
   "source": [
    "sns.set_theme(style=\"darkgrid\")"
   ]
  },
  {
   "cell_type": "code",
   "execution_count": 68,
   "id": "4f8631c8",
   "metadata": {},
   "outputs": [
    {
     "data": {
      "image/png": "[encoded data removed]",
      "text/plain": [
       "<Figure size 432x288 with 1 Axes>"
      ]
     },
     "metadata": {
      "needs_background": "light"
     },
     "output_type": "display_data"
    }
   ],
   "source": [
    "ax = plt.boxplot(x=dfA[\"latency_ms\"])\n"
   ]
  },
  {
   "cell_type": "markdown",
   "id": "1ef8d979",
   "metadata": {},
   "source": [
    "### Create Flowchart"
   ]
  },
  {
   "cell_type": "code",
   "execution_count": 69,
   "id": "8058b963",
   "metadata": {},
   "outputs": [
    {
     "data": {
      "text/plain": [
       "<seaborn.axisgrid.FacetGrid at 0x19903d80ee0>"
      ]
     },
     "execution_count": 69,
     "metadata": {},
     "output_type": "execute_result"
    },
    {
     "data": {
      "image/png": "[encoded data removed]",
      "text/plain": [
       "<Figure size 360x360 with 1 Axes>"
      ]
     },
     "metadata": {
      "needs_background": "light"
     },
     "output_type": "display_data"
    }
   ],
   "source": [
    "sns.lmplot(x='sent_sec', y='latency_ms', data=dfA, fit_reg=False)"
   ]
  }
 ],
 "metadata": {
  "kernelspec": {
   "display_name": "Python 3 (ipykernel)",
   "language": "python",
   "name": "python3"
  },
  "language_info": {
   "codemirror_mode": {
    "name": "ipython",
    "version": 3
   },
   "file_extension": ".py",
   "mimetype": "text/x-python",
   "name": "python",
   "nbconvert_exporter": "python",
   "pygments_lexer": "ipython3",
   "version": "3.10.4"
  }
 },
 "nbformat": 4,
 "nbformat_minor": 5
}
